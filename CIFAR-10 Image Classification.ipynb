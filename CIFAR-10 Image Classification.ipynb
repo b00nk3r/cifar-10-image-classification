{
  "cells": [
    {
      "cell_type": "markdown",
      "metadata": {
        "id": "8HX0R2238yvg"
      },
      "source": [
        "# Optimizing Neural Networks for CIFAR-10 Image Classiﬁcation"
      ]
    },
    {
      "cell_type": "markdown",
      "metadata": {
        "id": "0nMo5YM68yvk"
      },
      "source": [
        "## Importing Libraries"
      ]
    },
    {
      "cell_type": "code",
      "execution_count": 1,
      "metadata": {
        "id": "UncgApDS8yvk"
      },
      "outputs": [],
      "source": [
        "from tensorflow import keras\n",
        "from keras.datasets import cifar10\n",
        "import numpy as np\n",
        "import matplotlib.pyplot as plt"
      ]
    },
    {
      "cell_type": "markdown",
      "source": [
        "## Mounting Google Drive"
      ],
      "metadata": {
        "id": "LbA05Jk2Reyh"
      }
    },
    {
      "cell_type": "markdown",
      "source": [
        "Since the project is done mostly in Google Colab, it will be helpful to connect Google Drive to be able to save and load files from there."
      ],
      "metadata": {
        "id": "nVxPSpjd6Jil"
      }
    },
    {
      "cell_type": "code",
      "source": [
        "from google.colab import drive\n",
        "drive.mount('/content/drive')"
      ],
      "metadata": {
        "colab": {
          "base_uri": "https://localhost:8080/"
        },
        "id": "5olycESmRgZU",
        "outputId": "3152c431-be90-4431-e3a1-1be41047834c"
      },
      "execution_count": 2,
      "outputs": [
        {
          "output_type": "stream",
          "name": "stdout",
          "text": [
            "Drive already mounted at /content/drive; to attempt to forcibly remount, call drive.mount(\"/content/drive\", force_remount=True).\n"
          ]
        }
      ]
    },
    {
      "cell_type": "markdown",
      "source": [
        "## Loading the dataset"
      ],
      "metadata": {
        "id": "JIxwoJGj-Y55"
      }
    },
    {
      "cell_type": "markdown",
      "source": [
        "This notebook will explore the CIFAR-10 dataset, which contains 60,000 32x32 color images across 10 different classes. We will load the dataset using Keras, separating it into training and testing sets for later use in image classification tasks."
      ],
      "metadata": {
        "id": "skjnngAJ7aXd"
      }
    },
    {
      "cell_type": "code",
      "source": [
        "(X_train, y_train), (X_test, y_test) = cifar10.load_data()"
      ],
      "metadata": {
        "id": "0Vxnzceu-o4N"
      },
      "execution_count": 3,
      "outputs": []
    },
    {
      "cell_type": "markdown",
      "source": [
        "Let's examine the shape of our training and testing data to confirm the dimensions of the images and the number of samples."
      ],
      "metadata": {
        "id": "ChVsDeuy-zUT"
      }
    },
    {
      "cell_type": "code",
      "source": [
        "print(\"Training data shape:\", X_train.shape)\n",
        "print(\"Training labels shape:\", y_train.shape)\n",
        "print(\"Test data shape:\", X_test.shape)\n",
        "print(\"Test labels shape:\", y_test.shape)"
      ],
      "metadata": {
        "colab": {
          "base_uri": "https://localhost:8080/"
        },
        "id": "GH23J9Kt-_Vl",
        "outputId": "b182f092-7610-4b38-abe3-ad32d53ae03b"
      },
      "execution_count": null,
      "outputs": [
        {
          "output_type": "stream",
          "name": "stdout",
          "text": [
            "Training data shape: (50000, 32, 32, 3)\n",
            "Training labels shape: (50000, 1)\n",
            "Test data shape: (10000, 32, 32, 3)\n",
            "Test labels shape: (10000, 1)\n"
          ]
        }
      ]
    },
    {
      "cell_type": "markdown",
      "source": [
        "## Data preprocesing"
      ],
      "metadata": {
        "id": "_flJeCLfkyCH"
      }
    },
    {
      "cell_type": "markdown",
      "source": [
        "Now that we've loaded and explored the basic structure of our data, we'll move on to preprocessing. This crucial step involves preparing the data in a way that optimizes it for use in machine learning models, potentially improving model performance and training efficiency."
      ],
      "metadata": {
        "id": "n9KUno0zmrLz"
      }
    },
    {
      "cell_type": "markdown",
      "source": [
        "### Checking missing values"
      ],
      "metadata": {
        "id": "29mMuYDYoL6n"
      }
    },
    {
      "cell_type": "markdown",
      "source": [
        "It's good practice to check for missing values in our dataset. While unlikely in a well-curated dataset like CIFAR-10, identifying and handling missing data is essential to prevent potential issues during model training."
      ],
      "metadata": {
        "id": "M3Yte6XmoOSl"
      }
    },
    {
      "cell_type": "code",
      "source": [
        "nan_count = np.isnan(X_train).sum()\n",
        "print(\"Number of missing values in X_train:\", nan_count)"
      ],
      "metadata": {
        "colab": {
          "base_uri": "https://localhost:8080/"
        },
        "id": "gaKr7q9nmuKd",
        "outputId": "80be3aa3-5d83-462c-81fa-34eb3e0f8bfe"
      },
      "execution_count": null,
      "outputs": [
        {
          "output_type": "stream",
          "name": "stdout",
          "text": [
            "Number of missing values in X_train: 0\n"
          ]
        }
      ]
    },
    {
      "cell_type": "markdown",
      "source": [
        "### Scaling the data"
      ],
      "metadata": {
        "id": "ocx9GwoFo38X"
      }
    },
    {
      "cell_type": "markdown",
      "source": [
        "After checking for missing values, the next crucial step is to scale the pixel values of our images. Currently, these values range from 0 to 255. We will divide them by 255 to get the value from 0 to 1 for each pixel. Neural networks tend to converge much faster when features are on similar scales. Scaling prevents features with larger values from dominating the learning process. It is especially important for Deep Neural Networks and Deep and Wide Neural Networks."
      ],
      "metadata": {
        "id": "Wiw64zAgo6DE"
      }
    },
    {
      "cell_type": "code",
      "source": [
        "X_train_scaled = X_train.astype('float32') / 255.0\n",
        "X_test_scaled = X_test.astype('float32') / 255.0"
      ],
      "metadata": {
        "id": "wiLA8eMbqVZA"
      },
      "execution_count": 4,
      "outputs": []
    },
    {
      "cell_type": "markdown",
      "source": [
        "### Encoding the Labels"
      ],
      "metadata": {
        "id": "GCaYcoEY-msx"
      }
    },
    {
      "cell_type": "markdown",
      "source": [
        "Our labels now have values from 0 to 9. Let's confirm it."
      ],
      "metadata": {
        "id": "kcdkVqqh_I22"
      }
    },
    {
      "cell_type": "code",
      "source": [
        "unique_labels = np.unique(y_train)\n",
        "print(\"Label values in CIFAR-10:\", unique_labels)"
      ],
      "metadata": {
        "colab": {
          "base_uri": "https://localhost:8080/"
        },
        "id": "eHEx8Vj4_cjw",
        "outputId": "04679c70-abc1-464b-bac9-41f85fb9f7fe"
      },
      "execution_count": null,
      "outputs": [
        {
          "output_type": "stream",
          "name": "stdout",
          "text": [
            "Label values in CIFAR-10: [0 1 2 3 4 5 6 7 8 9]\n"
          ]
        }
      ]
    },
    {
      "cell_type": "markdown",
      "source": [
        "We could just leave the labels like this, but such representation might mistakenly imply an ordinal relationship between classes (e.g., suggesting that class 2 is \"greater\" than class 1), which is not true for CIFAR-10. So we will encode them, using one-hot encoding. It will ensure that all labels are treated equally."
      ],
      "metadata": {
        "id": "VidbWbZz_yKi"
      }
    },
    {
      "cell_type": "code",
      "source": [
        "y_train_onehot = keras.utils.to_categorical(y_train)\n",
        "y_test_onehot = keras.utils.to_categorical(y_test)\n"
      ],
      "metadata": {
        "id": "VICt_tt1AZHZ"
      },
      "execution_count": 5,
      "outputs": []
    },
    {
      "cell_type": "markdown",
      "source": [
        "### Visualizing some images"
      ],
      "metadata": {
        "id": "sXjiUXLuqd6R"
      }
    },
    {
      "cell_type": "markdown",
      "source": [
        "To get a better understanding of the images we're working with, let's visualize a random selection of images from the training set along with their corresponding labels."
      ],
      "metadata": {
        "id": "FR1BthlLqnmm"
      }
    },
    {
      "cell_type": "code",
      "source": [
        "# CIFAR-10 class labels\n",
        "class_names = ['Airplane', 'Automobile', 'Bird', 'Cat', 'Deer', 'Dog', 'Frog', 'Horse', 'Ship', 'Truck']\n",
        "\n",
        "# Set the random seed for reproducibility\n",
        "random_state = 42\n",
        "np.random.seed(random_state)\n",
        "\n",
        "# Select 25 random images\n",
        "num_images = 25\n",
        "indices = np.random.choice(X_train.shape[0], num_images, replace=False)\n",
        "selected_images = X_train[indices]\n",
        "selected_labels = y_train[indices]\n",
        "\n",
        "# Plot the images in a 5x5 grid\n",
        "plt.figure(figsize=(5, 5))\n",
        "for i in range(num_images):\n",
        "    plt.subplot(5, 5, i + 1)\n",
        "    plt.imshow(selected_images[i])\n",
        "    plt.title(class_names[selected_labels[i][0]])\n",
        "    plt.axis('off')\n",
        "\n",
        "plt.tight_layout()\n",
        "plt.show()"
      ],
      "metadata": {
        "colab": {
          "base_uri": "https://localhost:8080/",
          "height": 507
        },
        "id": "CeGsyfPGqnG8",
        "outputId": "2c3a0c41-f912-45cc-c95d-3e86a1aaeb51"
      },
      "execution_count": null,
      "outputs": [
        {
          "output_type": "display_data",
          "data": {
            "text/plain": [
              "<Figure size 500x500 with 25 Axes>"
            ],
            "image/png": "[encoded data removed]"
          },
          "metadata": {}
        }
      ]
    },
    {
      "cell_type": "markdown",
      "source": [
        "## Building Neural Network models"
      ],
      "metadata": {
        "id": "DUjZRznWubV5"
      }
    },
    {
      "cell_type": "markdown",
      "source": [
        "Now that we have preprocessed our data, we are ready to build and train our neural network models. We will start by constructing a deep neural network (DNN), then we will implement a deep and wide neural network and finally a convolutional neural network (CNN). Each model will be trained on the preprocessed training data and evaluated on the test data to compare their performance."
      ],
      "metadata": {
        "id": "iml4nK_XuioH"
      }
    },
    {
      "cell_type": "markdown",
      "source": [
        "### Deep Neural Network (DNN)"
      ],
      "metadata": {
        "id": "SZuoN6LyuvO2"
      }
    },
    {
      "cell_type": "markdown",
      "source": [
        "We will begin by building a deep neural network (DNN) model. This model will feature a deep architecture with 20 hidden layers, each containing 100 neurons. To ensure proper weight initialization, we will use He initialization. For the activation function, we'll employ the Swish activation. The output layer will use a softmax activation to produce probability scores for each of the 10 CIFAR-10 classes.\n",
        "\n",
        "For optimization, we'll utilize the Nadam optimizer, which combines the benefits of Adam and Nesterov momentum, often leading to faster convergence and improved generalization. We'll also incorporate early stopping during training to prevent overfitting and automatically stop training when the model's performance on a validation set is not changing significantly."
      ],
      "metadata": {
        "id": "0PDuM8Kxuxmu"
      }
    },
    {
      "cell_type": "markdown",
      "source": [
        "#### Learning Rate Exploration"
      ],
      "metadata": {
        "id": "ra23_DQbFTvL"
      }
    },
    {
      "cell_type": "markdown",
      "source": [
        "We will experiment with learning rates to find the optimal one. So let's define the list of learning rates to explore, as well as the variables to track the best validation accuracy and the best learning rate."
      ],
      "metadata": {
        "id": "u2UQyZxCEzus"
      }
    },
    {
      "cell_type": "code",
      "source": [
        "learning_rates = [0.1, 0.01, 0.001, 0.0001, 0.00001, 0.000001]\n",
        "\n",
        "best_val_accuracy = 0\n",
        "best_lr = None"
      ],
      "metadata": {
        "id": "JVzZAN16FGz7"
      },
      "execution_count": null,
      "outputs": []
    },
    {
      "cell_type": "markdown",
      "source": [
        "#### Creating the DNN Model"
      ],
      "metadata": {
        "id": "GpxoIR5BFly8"
      }
    },
    {
      "cell_type": "markdown",
      "source": [
        "Let's define a separate function to create a DNN model. This will make the code more structured and easier to reuse later."
      ],
      "metadata": {
        "id": "9gVHqO6QF5NH"
      }
    },
    {
      "cell_type": "code",
      "source": [
        "def dnn_model(hidden_layers, number_of_neurons):\n",
        "    dnn = keras.models.Sequential()\n",
        "\n",
        "    dnn.add(keras.layers.Input(shape=(32, 32, 3)))\n",
        "    dnn.add(keras.layers.Flatten())\n",
        "\n",
        "    for _ in range(hidden_layers):\n",
        "        dnn.add(keras.layers.Dense(\n",
        "            units=number_of_neurons,\n",
        "            activation='swish',\n",
        "            kernel_initializer='he_normal'\n",
        "        ))\n",
        "\n",
        "    dnn.add(keras.layers.Dense(10, activation='softmax'))\n",
        "    return dnn"
      ],
      "metadata": {
        "id": "8EzttuTzFn9s"
      },
      "execution_count": null,
      "outputs": []
    },
    {
      "cell_type": "markdown",
      "source": [
        "#### Defining EarlyStopping and ModelCheckpoint callbacks"
      ],
      "metadata": {
        "id": "0Xj2UPn7GN5g"
      }
    },
    {
      "cell_type": "markdown",
      "source": [
        "Here, we define the callbacks that will be used during the training process. We define an `EarlyStopping` callback to halt training if the validation accuracy does not improve for a certain number of epochs and a `ModelCheckpoint` callback to save the best-performing model based on validation accuracy."
      ],
      "metadata": {
        "id": "-cH9VSNCGgic"
      }
    },
    {
      "cell_type": "code",
      "source": [
        "early_stopping = keras.callbacks.EarlyStopping(\n",
        "    monitor='val_accuracy',\n",
        "    patience=10,\n",
        "    restore_best_weights=True\n",
        ")"
      ],
      "metadata": {
        "id": "IPOvi3KuWs_x"
      },
      "execution_count": 16,
      "outputs": []
    },
    {
      "cell_type": "code",
      "source": [
        "checkpoint = keras.callbacks.ModelCheckpoint(\n",
        "    filepath='/content/drive/My Drive/dnn.keras',\n",
        "    monitor='val_accuracy',\n",
        "    save_best_only=True,\n",
        "    save_weights_only=False,\n",
        "    mode='max'\n",
        ")"
      ],
      "metadata": {
        "id": "Qf4tNYReGsik"
      },
      "execution_count": null,
      "outputs": []
    },
    {
      "cell_type": "markdown",
      "source": [
        "#### Train the model with different learning rates"
      ],
      "metadata": {
        "id": "vkwFKFJeHTDm"
      }
    },
    {
      "cell_type": "code",
      "source": [
        "for lr in learning_rates:\n",
        "    print(f\"Training with learning rate: {lr}\")\n",
        "\n",
        "    # Create the model\n",
        "    dnn = dnn_model(hidden_layers=20, number_of_neurons=100)\n",
        "\n",
        "    # Compile the model with the current learning rate\n",
        "    dnn.compile(\n",
        "        loss='categorical_crossentropy',\n",
        "        optimizer=keras.optimizers.Nadam(learning_rate=lr),\n",
        "        metrics=['accuracy']\n",
        "    )\n",
        "\n",
        "    # Train the model\n",
        "    history_dnn = dnn.fit(\n",
        "        X_train_scaled, y_train_onehot,\n",
        "        validation_split=0.2,\n",
        "        epochs=100,\n",
        "        callbacks=[early_stopping, checkpoint]\n",
        "    )\n",
        "\n",
        "    # Get the best validation accuracy from the training history\n",
        "    val_acc = max(history_dnn.history['val_accuracy'])\n",
        "    print(f\"Final Validation Accuracy: {val_acc:.4f}\\n\")\n",
        "\n",
        "    # Update the best learning rate and accuracy if necessary\n",
        "    if val_acc > best_val_accuracy:\n",
        "        best_val_accuracy = val_acc\n",
        "        best_lr = lr"
      ],
      "metadata": {
        "colab": {
          "base_uri": "https://localhost:8080/"
        },
        "id": "-N1O2ryv2VD-",
        "outputId": "5447cd0c-1d6e-49ab-ed07-9e5c8c1df843"
      },
      "execution_count": null,
      "outputs": [
        {
          "output_type": "stream",
          "name": "stdout",
          "text": [
            "Training with learning rate: 0.1\n",
            "Epoch 1/100\n",
            "\u001b[1m1250/1250\u001b[0m \u001b[32m━━━━━━━━━━━━━━━━━━━━\u001b[0m\u001b[37m\u001b[0m \u001b[1m16s\u001b[0m 6ms/step - accuracy: 0.1000 - loss: 3029600768.0000 - val_accuracy: 0.0952 - val_loss: 2.3124\n",
            "Epoch 2/100\n",
            "\u001b[1m1250/1250\u001b[0m \u001b[32m━━━━━━━━━━━━━━━━━━━━\u001b[0m\u001b[37m\u001b[0m \u001b[1m5s\u001b[0m 4ms/step - accuracy: 0.1018 - loss: 2.3134 - val_accuracy: 0.0980 - val_loss: 2.3056\n",
            "Epoch 3/100\n",
            "\u001b[1m1250/1250\u001b[0m \u001b[32m━━━━━━━━━━━━━━━━━━━━\u001b[0m\u001b[37m\u001b[0m \u001b[1m6s\u001b[0m 5ms/step - accuracy: 0.1010 - loss: 2.3137 - val_accuracy: 0.0980 - val_loss: 2.3155\n",
            "Epoch 4/100\n",
            "\u001b[1m1250/1250\u001b[0m \u001b[32m━━━━━━━━━━━━━━━━━━━━\u001b[0m\u001b[37m\u001b[0m \u001b[1m6s\u001b[0m 4ms/step - accuracy: 0.0980 - loss: 2.3145 - val_accuracy: 0.0997 - val_loss: 2.3140\n",
            "Epoch 5/100\n",
            "\u001b[1m1250/1250\u001b[0m \u001b[32m━━━━━━━━━━━━━━━━━━━━\u001b[0m\u001b[37m\u001b[0m \u001b[1m11s\u001b[0m 5ms/step - accuracy: 0.0976 - loss: 2.3151 - val_accuracy: 0.1025 - val_loss: 2.3101\n",
            "Epoch 6/100\n",
            "\u001b[1m1250/1250\u001b[0m \u001b[32m━━━━━━━━━━━━━━━━━━━━\u001b[0m\u001b[37m\u001b[0m \u001b[1m10s\u001b[0m 5ms/step - accuracy: 0.1010 - loss: 2.3142 - val_accuracy: 0.1025 - val_loss: 2.3164\n",
            "Epoch 7/100\n",
            "\u001b[1m1250/1250\u001b[0m \u001b[32m━━━━━━━━━━━━━━━━━━━━\u001b[0m\u001b[37m\u001b[0m \u001b[1m9s\u001b[0m 4ms/step - accuracy: 0.0998 - loss: 2.3138 - val_accuracy: 0.0977 - val_loss: 2.3134\n",
            "Epoch 8/100\n",
            "\u001b[1m1250/1250\u001b[0m \u001b[32m━━━━━━━━━━━━━━━━━━━━\u001b[0m\u001b[37m\u001b[0m \u001b[1m10s\u001b[0m 4ms/step - accuracy: 0.1017 - loss: 2.3122 - val_accuracy: 0.1022 - val_loss: 2.3159\n",
            "Epoch 9/100\n",
            "\u001b[1m1250/1250\u001b[0m \u001b[32m━━━━━━━━━━━━━━━━━━━━\u001b[0m\u001b[37m\u001b[0m \u001b[1m6s\u001b[0m 5ms/step - accuracy: 0.1006 - loss: 2.3141 - val_accuracy: 0.0952 - val_loss: 2.3138\n",
            "Epoch 10/100\n",
            "\u001b[1m1250/1250\u001b[0m \u001b[32m━━━━━━━━━━━━━━━━━━━━\u001b[0m\u001b[37m\u001b[0m \u001b[1m9s\u001b[0m 4ms/step - accuracy: 0.0997 - loss: 2.3143 - val_accuracy: 0.0980 - val_loss: 2.3104\n",
            "Epoch 11/100\n",
            "\u001b[1m1250/1250\u001b[0m \u001b[32m━━━━━━━━━━━━━━━━━━━━\u001b[0m\u001b[37m\u001b[0m \u001b[1m6s\u001b[0m 5ms/step - accuracy: 0.1033 - loss: 2.3134 - val_accuracy: 0.1016 - val_loss: 2.3230\n",
            "Epoch 12/100\n",
            "\u001b[1m1250/1250\u001b[0m \u001b[32m━━━━━━━━━━━━━━━━━━━━\u001b[0m\u001b[37m\u001b[0m \u001b[1m5s\u001b[0m 4ms/step - accuracy: 0.0974 - loss: 2.3147 - val_accuracy: 0.1016 - val_loss: 2.3073\n",
            "Epoch 13/100\n",
            "\u001b[1m1250/1250\u001b[0m \u001b[32m━━━━━━━━━━━━━━━━━━━━\u001b[0m\u001b[37m\u001b[0m \u001b[1m10s\u001b[0m 4ms/step - accuracy: 0.1036 - loss: 2.3134 - val_accuracy: 0.1025 - val_loss: 2.3132\n",
            "Epoch 14/100\n",
            "\u001b[1m1250/1250\u001b[0m \u001b[32m━━━━━━━━━━━━━━━━━━━━\u001b[0m\u001b[37m\u001b[0m \u001b[1m11s\u001b[0m 5ms/step - accuracy: 0.1031 - loss: 2.3126 - val_accuracy: 0.0977 - val_loss: 2.3154\n",
            "Epoch 15/100\n",
            "\u001b[1m1250/1250\u001b[0m \u001b[32m━━━━━━━━━━━━━━━━━━━━\u001b[0m\u001b[37m\u001b[0m \u001b[1m6s\u001b[0m 4ms/step - accuracy: 0.0960 - loss: 2.3139 - val_accuracy: 0.0977 - val_loss: 2.3125\n",
            "Final Validation Accuracy: 0.1025\n",
            "\n",
            "Training with learning rate: 0.01\n",
            "Epoch 1/100\n",
            "\u001b[1m1250/1250\u001b[0m \u001b[32m━━━━━━━━━━━━━━━━━━━━\u001b[0m\u001b[37m\u001b[0m \u001b[1m16s\u001b[0m 6ms/step - accuracy: 0.1206 - loss: 3.1121 - val_accuracy: 0.0977 - val_loss: 2.3033\n",
            "Epoch 2/100\n",
            "\u001b[1m1250/1250\u001b[0m \u001b[32m━━━━━━━━━━━━━━━━━━━━\u001b[0m\u001b[37m\u001b[0m \u001b[1m7s\u001b[0m 4ms/step - accuracy: 0.1035 - loss: 2.3036 - val_accuracy: 0.1016 - val_loss: 2.3029\n",
            "Epoch 3/100\n",
            "\u001b[1m1250/1250\u001b[0m \u001b[32m━━━━━━━━━━━━━━━━━━━━\u001b[0m\u001b[37m\u001b[0m \u001b[1m11s\u001b[0m 5ms/step - accuracy: 0.1017 - loss: 2.3037 - val_accuracy: 0.1022 - val_loss: 2.3037\n",
            "Epoch 4/100\n",
            "\u001b[1m1250/1250\u001b[0m \u001b[32m━━━━━━━━━━━━━━━━━━━━\u001b[0m\u001b[37m\u001b[0m \u001b[1m6s\u001b[0m 4ms/step - accuracy: 0.1019 - loss: 2.3037 - val_accuracy: 0.0980 - val_loss: 2.3036\n",
            "Epoch 5/100\n",
            "\u001b[1m1250/1250\u001b[0m \u001b[32m━━━━━━━━━━━━━━━━━━━━\u001b[0m\u001b[37m\u001b[0m \u001b[1m7s\u001b[0m 5ms/step - accuracy: 0.0976 - loss: 2.3039 - val_accuracy: 0.1025 - val_loss: 2.3033\n",
            "Epoch 6/100\n",
            "\u001b[1m1250/1250\u001b[0m \u001b[32m━━━━━━━━━━━━━━━━━━━━\u001b[0m\u001b[37m\u001b[0m \u001b[1m10s\u001b[0m 5ms/step - accuracy: 0.0981 - loss: 2.3042 - val_accuracy: 0.0952 - val_loss: 2.3041\n",
            "Epoch 7/100\n",
            "\u001b[1m1250/1250\u001b[0m \u001b[32m━━━━━━━━━━━━━━━━━━━━\u001b[0m\u001b[37m\u001b[0m \u001b[1m6s\u001b[0m 5ms/step - accuracy: 0.0955 - loss: 2.3039 - val_accuracy: 0.1014 - val_loss: 2.3036\n",
            "Epoch 8/100\n",
            "\u001b[1m1250/1250\u001b[0m \u001b[32m━━━━━━━━━━━━━━━━━━━━\u001b[0m\u001b[37m\u001b[0m \u001b[1m6s\u001b[0m 5ms/step - accuracy: 0.1014 - loss: 2.3041 - val_accuracy: 0.1014 - val_loss: 2.3037\n",
            "Epoch 9/100\n",
            "\u001b[1m1250/1250\u001b[0m \u001b[32m━━━━━━━━━━━━━━━━━━━━\u001b[0m\u001b[37m\u001b[0m \u001b[1m10s\u001b[0m 5ms/step - accuracy: 0.1002 - loss: 2.3040 - val_accuracy: 0.1014 - val_loss: 2.3032\n",
            "Epoch 10/100\n",
            "\u001b[1m1250/1250\u001b[0m \u001b[32m━━━━━━━━━━━━━━━━━━━━\u001b[0m\u001b[37m\u001b[0m \u001b[1m10s\u001b[0m 4ms/step - accuracy: 0.1006 - loss: 2.3040 - val_accuracy: 0.0952 - val_loss: 2.3055\n",
            "Final Validation Accuracy: 0.1025\n",
            "\n",
            "Training with learning rate: 0.001\n",
            "Epoch 1/100\n",
            "\u001b[1m1250/1250\u001b[0m \u001b[32m━━━━━━━━━━━━━━━━━━━━\u001b[0m\u001b[37m\u001b[0m \u001b[1m15s\u001b[0m 5ms/step - accuracy: 0.1924 - loss: 2.0997 - val_accuracy: 0.2903 - val_loss: 1.9014\n",
            "Epoch 2/100\n",
            "\u001b[1m1250/1250\u001b[0m \u001b[32m━━━━━━━━━━━━━━━━━━━━\u001b[0m\u001b[37m\u001b[0m \u001b[1m8s\u001b[0m 5ms/step - accuracy: 0.3210 - loss: 1.8400 - val_accuracy: 0.3584 - val_loss: 1.7735\n",
            "Epoch 3/100\n",
            "\u001b[1m1250/1250\u001b[0m \u001b[32m━━━━━━━━━━━━━━━━━━━━\u001b[0m\u001b[37m\u001b[0m \u001b[1m11s\u001b[0m 5ms/step - accuracy: 0.3607 - loss: 1.7664 - val_accuracy: 0.3575 - val_loss: 1.7766\n",
            "Epoch 4/100\n",
            "\u001b[1m1250/1250\u001b[0m \u001b[32m━━━━━━━━━━━━━━━━━━━━\u001b[0m\u001b[37m\u001b[0m \u001b[1m6s\u001b[0m 4ms/step - accuracy: 0.3756 - loss: 1.7263 - val_accuracy: 0.3647 - val_loss: 1.7734\n",
            "Epoch 5/100\n",
            "\u001b[1m1250/1250\u001b[0m \u001b[32m━━━━━━━━━━━━━━━━━━━━\u001b[0m\u001b[37m\u001b[0m \u001b[1m11s\u001b[0m 5ms/step - accuracy: 0.3830 - loss: 1.7042 - val_accuracy: 0.3808 - val_loss: 1.7134\n",
            "Epoch 6/100\n",
            "\u001b[1m1250/1250\u001b[0m \u001b[32m━━━━━━━━━━━━━━━━━━━━\u001b[0m\u001b[37m\u001b[0m \u001b[1m6s\u001b[0m 5ms/step - accuracy: 0.3925 - loss: 1.6824 - val_accuracy: 0.3896 - val_loss: 1.6896\n",
            "Epoch 7/100\n",
            "\u001b[1m1250/1250\u001b[0m \u001b[32m━━━━━━━━━━━━━━━━━━━━\u001b[0m\u001b[37m\u001b[0m \u001b[1m6s\u001b[0m 5ms/step - accuracy: 0.4072 - loss: 1.6472 - val_accuracy: 0.3963 - val_loss: 1.6982\n",
            "Epoch 8/100\n",
            "\u001b[1m1250/1250\u001b[0m \u001b[32m━━━━━━━━━━━━━━━━━━━━\u001b[0m\u001b[37m\u001b[0m \u001b[1m11s\u001b[0m 5ms/step - accuracy: 0.4079 - loss: 1.6494 - val_accuracy: 0.3898 - val_loss: 1.6999\n",
            "Epoch 9/100\n",
            "\u001b[1m1250/1250\u001b[0m \u001b[32m━━━━━━━━━━━━━━━━━━━━\u001b[0m\u001b[37m\u001b[0m \u001b[1m9s\u001b[0m 4ms/step - accuracy: 0.4098 - loss: 1.6284 - val_accuracy: 0.3973 - val_loss: 1.6924\n",
            "Epoch 10/100\n",
            "\u001b[1m1250/1250\u001b[0m \u001b[32m━━━━━━━━━━━━━━━━━━━━\u001b[0m\u001b[37m\u001b[0m \u001b[1m10s\u001b[0m 4ms/step - accuracy: 0.4168 - loss: 1.6192 - val_accuracy: 0.3960 - val_loss: 1.6811\n",
            "Epoch 11/100\n",
            "\u001b[1m1250/1250\u001b[0m \u001b[32m━━━━━━━━━━━━━━━━━━━━\u001b[0m\u001b[37m\u001b[0m \u001b[1m10s\u001b[0m 4ms/step - accuracy: 0.4236 - loss: 1.6105 - val_accuracy: 0.3813 - val_loss: 1.7370\n",
            "Epoch 12/100\n",
            "\u001b[1m1250/1250\u001b[0m \u001b[32m━━━━━━━━━━━━━━━━━━━━\u001b[0m\u001b[37m\u001b[0m \u001b[1m11s\u001b[0m 5ms/step - accuracy: 0.4242 - loss: 1.5977 - val_accuracy: 0.4116 - val_loss: 1.6953\n",
            "Epoch 13/100\n",
            "\u001b[1m1250/1250\u001b[0m \u001b[32m━━━━━━━━━━━━━━━━━━━━\u001b[0m\u001b[37m\u001b[0m \u001b[1m10s\u001b[0m 5ms/step - accuracy: 0.4359 - loss: 1.5804 - val_accuracy: 0.4043 - val_loss: 1.6776\n",
            "Epoch 14/100\n",
            "\u001b[1m1250/1250\u001b[0m \u001b[32m━━━━━━━━━━━━━━━━━━━━\u001b[0m\u001b[37m\u001b[0m \u001b[1m9s\u001b[0m 4ms/step - accuracy: 0.4355 - loss: 1.5714 - val_accuracy: 0.4112 - val_loss: 1.6331\n",
            "Epoch 15/100\n",
            "\u001b[1m1250/1250\u001b[0m \u001b[32m━━━━━━━━━━━━━━━━━━━━\u001b[0m\u001b[37m\u001b[0m \u001b[1m6s\u001b[0m 5ms/step - accuracy: 0.4432 - loss: 1.5668 - val_accuracy: 0.4059 - val_loss: 1.6653\n",
            "Epoch 16/100\n",
            "\u001b[1m1250/1250\u001b[0m \u001b[32m━━━━━━━━━━━━━━━━━━━━\u001b[0m\u001b[37m\u001b[0m \u001b[1m10s\u001b[0m 5ms/step - accuracy: 0.4374 - loss: 1.5620 - val_accuracy: 0.4056 - val_loss: 1.6497\n",
            "Epoch 17/100\n",
            "\u001b[1m1250/1250\u001b[0m \u001b[32m━━━━━━━━━━━━━━━━━━━━\u001b[0m\u001b[37m\u001b[0m \u001b[1m6s\u001b[0m 5ms/step - accuracy: 0.4426 - loss: 1.5591 - val_accuracy: 0.4154 - val_loss: 1.6665\n",
            "Epoch 18/100\n",
            "\u001b[1m1250/1250\u001b[0m \u001b[32m━━━━━━━━━━━━━━━━━━━━\u001b[0m\u001b[37m\u001b[0m \u001b[1m5s\u001b[0m 4ms/step - accuracy: 0.4461 - loss: 1.5393 - val_accuracy: 0.4151 - val_loss: 1.6435\n",
            "Epoch 19/100\n",
            "\u001b[1m1250/1250\u001b[0m \u001b[32m━━━━━━━━━━━━━━━━━━━━\u001b[0m\u001b[37m\u001b[0m \u001b[1m6s\u001b[0m 5ms/step - accuracy: 0.4551 - loss: 1.5299 - val_accuracy: 0.4064 - val_loss: 1.6690\n",
            "Epoch 20/100\n",
            "\u001b[1m1250/1250\u001b[0m \u001b[32m━━━━━━━━━━━━━━━━━━━━\u001b[0m\u001b[37m\u001b[0m \u001b[1m5s\u001b[0m 4ms/step - accuracy: 0.4544 - loss: 1.5215 - val_accuracy: 0.4053 - val_loss: 1.6758\n",
            "Epoch 21/100\n",
            "\u001b[1m1250/1250\u001b[0m \u001b[32m━━━━━━━━━━━━━━━━━━━━\u001b[0m\u001b[37m\u001b[0m \u001b[1m7s\u001b[0m 5ms/step - accuracy: 0.4564 - loss: 1.5206 - val_accuracy: 0.4091 - val_loss: 1.6935\n",
            "Epoch 22/100\n",
            "\u001b[1m1250/1250\u001b[0m \u001b[32m━━━━━━━━━━━━━━━━━━━━\u001b[0m\u001b[37m\u001b[0m \u001b[1m9s\u001b[0m 4ms/step - accuracy: 0.4550 - loss: 1.5088 - val_accuracy: 0.4127 - val_loss: 1.6583\n",
            "Epoch 23/100\n",
            "\u001b[1m1250/1250\u001b[0m \u001b[32m━━━━━━━━━━━━━━━━━━━━\u001b[0m\u001b[37m\u001b[0m \u001b[1m10s\u001b[0m 4ms/step - accuracy: 0.4623 - loss: 1.5067 - val_accuracy: 0.4169 - val_loss: 1.6652\n",
            "Epoch 24/100\n",
            "\u001b[1m1250/1250\u001b[0m \u001b[32m━━━━━━━━━━━━━━━━━━━━\u001b[0m\u001b[37m\u001b[0m \u001b[1m10s\u001b[0m 4ms/step - accuracy: 0.4621 - loss: 1.4994 - val_accuracy: 0.3995 - val_loss: 1.7368\n",
            "Epoch 25/100\n",
            "\u001b[1m1250/1250\u001b[0m \u001b[32m━━━━━━━━━━━━━━━━━━━━\u001b[0m\u001b[37m\u001b[0m \u001b[1m6s\u001b[0m 5ms/step - accuracy: 0.4709 - loss: 1.4788 - val_accuracy: 0.4155 - val_loss: 1.6639\n",
            "Epoch 26/100\n",
            "\u001b[1m1250/1250\u001b[0m \u001b[32m━━━━━━━━━━━━━━━━━━━━\u001b[0m\u001b[37m\u001b[0m \u001b[1m10s\u001b[0m 4ms/step - accuracy: 0.4780 - loss: 1.4688 - val_accuracy: 0.4156 - val_loss: 1.6546\n",
            "Epoch 27/100\n",
            "\u001b[1m1250/1250\u001b[0m \u001b[32m━━━━━━━━━━━━━━━━━━━━\u001b[0m\u001b[37m\u001b[0m \u001b[1m6s\u001b[0m 5ms/step - accuracy: 0.4704 - loss: 1.4731 - val_accuracy: 0.4041 - val_loss: 1.7003\n",
            "Epoch 28/100\n",
            "\u001b[1m1250/1250\u001b[0m \u001b[32m━━━━━━━━━━━━━━━━━━━━\u001b[0m\u001b[37m\u001b[0m \u001b[1m5s\u001b[0m 4ms/step - accuracy: 0.4749 - loss: 1.4652 - val_accuracy: 0.4148 - val_loss: 1.6841\n",
            "Epoch 29/100\n",
            "\u001b[1m1250/1250\u001b[0m \u001b[32m━━━━━━━━━━━━━━━━━━━━\u001b[0m\u001b[37m\u001b[0m \u001b[1m11s\u001b[0m 4ms/step - accuracy: 0.4819 - loss: 1.4610 - val_accuracy: 0.4151 - val_loss: 1.6626\n",
            "Epoch 30/100\n",
            "\u001b[1m1250/1250\u001b[0m \u001b[32m━━━━━━━━━━━━━━━━━━━━\u001b[0m\u001b[37m\u001b[0m \u001b[1m11s\u001b[0m 5ms/step - accuracy: 0.4815 - loss: 1.4615 - val_accuracy: 0.4131 - val_loss: 1.6676\n",
            "Epoch 31/100\n",
            "\u001b[1m1250/1250\u001b[0m \u001b[32m━━━━━━━━━━━━━━━━━━━━\u001b[0m\u001b[37m\u001b[0m \u001b[1m5s\u001b[0m 4ms/step - accuracy: 0.4818 - loss: 1.4436 - val_accuracy: 0.4050 - val_loss: 1.7090\n",
            "Epoch 32/100\n",
            "\u001b[1m1250/1250\u001b[0m \u001b[32m━━━━━━━━━━━━━━━━━━━━\u001b[0m\u001b[37m\u001b[0m \u001b[1m6s\u001b[0m 5ms/step - accuracy: 0.4831 - loss: 1.4398 - val_accuracy: 0.4139 - val_loss: 1.6958\n",
            "Epoch 33/100\n",
            "\u001b[1m1250/1250\u001b[0m \u001b[32m━━━━━━━━━━━━━━━━━━━━\u001b[0m\u001b[37m\u001b[0m \u001b[1m10s\u001b[0m 4ms/step - accuracy: 0.4879 - loss: 1.4336 - val_accuracy: 0.4069 - val_loss: 1.7106\n",
            "Final Validation Accuracy: 0.4169\n",
            "\n",
            "Training with learning rate: 0.0001\n",
            "Epoch 1/100\n",
            "\u001b[1m1250/1250\u001b[0m \u001b[32m━━━━━━━━━━━━━━━━━━━━\u001b[0m\u001b[37m\u001b[0m \u001b[1m16s\u001b[0m 6ms/step - accuracy: 0.1974 - loss: 2.1160 - val_accuracy: 0.3187 - val_loss: 1.8461\n",
            "Epoch 2/100\n",
            "\u001b[1m1250/1250\u001b[0m \u001b[32m━━━━━━━━━━━━━━━━━━━━\u001b[0m\u001b[37m\u001b[0m \u001b[1m7s\u001b[0m 5ms/step - accuracy: 0.3451 - loss: 1.7824 - val_accuracy: 0.3623 - val_loss: 1.7430\n",
            "Epoch 3/100\n",
            "\u001b[1m1250/1250\u001b[0m \u001b[32m━━━━━━━━━━━━━━━━━━━━\u001b[0m\u001b[37m\u001b[0m \u001b[1m6s\u001b[0m 4ms/step - accuracy: 0.3797 - loss: 1.7037 - val_accuracy: 0.3907 - val_loss: 1.6867\n",
            "Epoch 4/100\n",
            "\u001b[1m1250/1250\u001b[0m \u001b[32m━━━━━━━━━━━━━━━━━━━━\u001b[0m\u001b[37m\u001b[0m \u001b[1m6s\u001b[0m 5ms/step - accuracy: 0.4089 - loss: 1.6229 - val_accuracy: 0.4156 - val_loss: 1.6314\n",
            "Epoch 5/100\n",
            "\u001b[1m1250/1250\u001b[0m \u001b[32m━━━━━━━━━━━━━━━━━━━━\u001b[0m\u001b[37m\u001b[0m \u001b[1m6s\u001b[0m 5ms/step - accuracy: 0.4332 - loss: 1.5656 - val_accuracy: 0.4369 - val_loss: 1.5819\n",
            "Epoch 6/100\n",
            "\u001b[1m1250/1250\u001b[0m \u001b[32m━━━━━━━━━━━━━━━━━━━━\u001b[0m\u001b[37m\u001b[0m \u001b[1m11s\u001b[0m 5ms/step - accuracy: 0.4512 - loss: 1.5189 - val_accuracy: 0.4433 - val_loss: 1.5539\n",
            "Epoch 7/100\n",
            "\u001b[1m1250/1250\u001b[0m \u001b[32m━━━━━━━━━━━━━━━━━━━━\u001b[0m\u001b[37m\u001b[0m \u001b[1m9s\u001b[0m 4ms/step - accuracy: 0.4581 - loss: 1.4963 - val_accuracy: 0.4381 - val_loss: 1.5839\n",
            "Epoch 8/100\n",
            "\u001b[1m1250/1250\u001b[0m \u001b[32m━━━━━━━━━━━━━━━━━━━━\u001b[0m\u001b[37m\u001b[0m \u001b[1m10s\u001b[0m 4ms/step - accuracy: 0.4735 - loss: 1.4483 - val_accuracy: 0.4508 - val_loss: 1.5463\n",
            "Epoch 9/100\n",
            "\u001b[1m1250/1250\u001b[0m \u001b[32m━━━━━━━━━━━━━━━━━━━━\u001b[0m\u001b[37m\u001b[0m \u001b[1m6s\u001b[0m 5ms/step - accuracy: 0.4850 - loss: 1.4313 - val_accuracy: 0.4542 - val_loss: 1.5246\n",
            "Epoch 10/100\n",
            "\u001b[1m1250/1250\u001b[0m \u001b[32m━━━━━━━━━━━━━━━━━━━━\u001b[0m\u001b[37m\u001b[0m \u001b[1m6s\u001b[0m 4ms/step - accuracy: 0.4914 - loss: 1.4107 - val_accuracy: 0.4596 - val_loss: 1.5157\n",
            "Epoch 11/100\n",
            "\u001b[1m1250/1250\u001b[0m \u001b[32m━━━━━━━━━━━━━━━━━━━━\u001b[0m\u001b[37m\u001b[0m \u001b[1m11s\u001b[0m 5ms/step - accuracy: 0.5039 - loss: 1.3803 - val_accuracy: 0.4674 - val_loss: 1.4943\n",
            "Epoch 12/100\n",
            "\u001b[1m1250/1250\u001b[0m \u001b[32m━━━━━━━━━━━━━━━━━━━━\u001b[0m\u001b[37m\u001b[0m \u001b[1m6s\u001b[0m 4ms/step - accuracy: 0.5085 - loss: 1.3552 - val_accuracy: 0.4604 - val_loss: 1.5075\n",
            "Epoch 13/100\n",
            "\u001b[1m1250/1250\u001b[0m \u001b[32m━━━━━━━━━━━━━━━━━━━━\u001b[0m\u001b[37m\u001b[0m \u001b[1m10s\u001b[0m 4ms/step - accuracy: 0.5151 - loss: 1.3332 - val_accuracy: 0.4739 - val_loss: 1.4925\n",
            "Epoch 14/100\n",
            "\u001b[1m1250/1250\u001b[0m \u001b[32m━━━━━━━━━━━━━━━━━━━━\u001b[0m\u001b[37m\u001b[0m \u001b[1m6s\u001b[0m 5ms/step - accuracy: 0.5255 - loss: 1.3011 - val_accuracy: 0.4828 - val_loss: 1.4719\n",
            "Epoch 15/100\n",
            "\u001b[1m1250/1250\u001b[0m \u001b[32m━━━━━━━━━━━━━━━━━━━━\u001b[0m\u001b[37m\u001b[0m \u001b[1m9s\u001b[0m 4ms/step - accuracy: 0.5351 - loss: 1.2970 - val_accuracy: 0.4713 - val_loss: 1.4958\n",
            "Epoch 16/100\n",
            "\u001b[1m1250/1250\u001b[0m \u001b[32m━━━━━━━━━━━━━━━━━━━━\u001b[0m\u001b[37m\u001b[0m \u001b[1m10s\u001b[0m 4ms/step - accuracy: 0.5390 - loss: 1.2724 - val_accuracy: 0.4926 - val_loss: 1.4477\n",
            "Epoch 17/100\n",
            "\u001b[1m1250/1250\u001b[0m \u001b[32m━━━━━━━━━━━━━━━━━━━━\u001b[0m\u001b[37m\u001b[0m \u001b[1m10s\u001b[0m 4ms/step - accuracy: 0.5447 - loss: 1.2546 - val_accuracy: 0.4726 - val_loss: 1.4975\n",
            "Epoch 18/100\n",
            "\u001b[1m1250/1250\u001b[0m \u001b[32m━━━━━━━━━━━━━━━━━━━━\u001b[0m\u001b[37m\u001b[0m \u001b[1m11s\u001b[0m 5ms/step - accuracy: 0.5513 - loss: 1.2299 - val_accuracy: 0.4822 - val_loss: 1.4728\n",
            "Epoch 19/100\n",
            "\u001b[1m1250/1250\u001b[0m \u001b[32m━━━━━━━━━━━━━━━━━━━━\u001b[0m\u001b[37m\u001b[0m \u001b[1m5s\u001b[0m 4ms/step - accuracy: 0.5569 - loss: 1.2240 - val_accuracy: 0.4812 - val_loss: 1.4934\n",
            "Epoch 20/100\n",
            "\u001b[1m1250/1250\u001b[0m \u001b[32m━━━━━━━━━━━━━━━━━━━━\u001b[0m\u001b[37m\u001b[0m \u001b[1m10s\u001b[0m 4ms/step - accuracy: 0.5658 - loss: 1.1978 - val_accuracy: 0.4731 - val_loss: 1.4913\n",
            "Epoch 21/100\n",
            "\u001b[1m1250/1250\u001b[0m \u001b[32m━━━━━━━━━━━━━━━━━━━━\u001b[0m\u001b[37m\u001b[0m \u001b[1m11s\u001b[0m 5ms/step - accuracy: 0.5726 - loss: 1.1763 - val_accuracy: 0.4785 - val_loss: 1.5230\n",
            "Epoch 22/100\n",
            "\u001b[1m1250/1250\u001b[0m \u001b[32m━━━━━━━━━━━━━━━━━━━━\u001b[0m\u001b[37m\u001b[0m \u001b[1m6s\u001b[0m 4ms/step - accuracy: 0.5746 - loss: 1.1628 - val_accuracy: 0.4950 - val_loss: 1.4750\n",
            "Epoch 23/100\n",
            "\u001b[1m1250/1250\u001b[0m \u001b[32m━━━━━━━━━━━━━━━━━━━━\u001b[0m\u001b[37m\u001b[0m \u001b[1m6s\u001b[0m 5ms/step - accuracy: 0.5861 - loss: 1.1492 - val_accuracy: 0.4949 - val_loss: 1.4847\n",
            "Epoch 24/100\n",
            "\u001b[1m1250/1250\u001b[0m \u001b[32m━━━━━━━━━━━━━━━━━━━━\u001b[0m\u001b[37m\u001b[0m \u001b[1m10s\u001b[0m 5ms/step - accuracy: 0.5902 - loss: 1.1252 - val_accuracy: 0.4776 - val_loss: 1.5422\n",
            "Epoch 25/100\n",
            "\u001b[1m1250/1250\u001b[0m \u001b[32m━━━━━━━━━━━━━━━━━━━━\u001b[0m\u001b[37m\u001b[0m \u001b[1m6s\u001b[0m 5ms/step - accuracy: 0.5922 - loss: 1.1205 - val_accuracy: 0.4934 - val_loss: 1.4913\n",
            "Epoch 26/100\n",
            "\u001b[1m1250/1250\u001b[0m \u001b[32m━━━━━━━━━━━━━━━━━━━━\u001b[0m\u001b[37m\u001b[0m \u001b[1m5s\u001b[0m 4ms/step - accuracy: 0.6025 - loss: 1.0947 - val_accuracy: 0.4885 - val_loss: 1.5059\n",
            "Epoch 27/100\n",
            "\u001b[1m1250/1250\u001b[0m \u001b[32m━━━━━━━━━━━━━━━━━━━━\u001b[0m\u001b[37m\u001b[0m \u001b[1m6s\u001b[0m 5ms/step - accuracy: 0.6049 - loss: 1.0932 - val_accuracy: 0.4895 - val_loss: 1.5083\n",
            "Epoch 28/100\n",
            "\u001b[1m1250/1250\u001b[0m \u001b[32m━━━━━━━━━━━━━━━━━━━━\u001b[0m\u001b[37m\u001b[0m \u001b[1m5s\u001b[0m 4ms/step - accuracy: 0.6128 - loss: 1.0633 - val_accuracy: 0.4858 - val_loss: 1.5600\n",
            "Epoch 29/100\n",
            "\u001b[1m1250/1250\u001b[0m \u001b[32m━━━━━━━━━━━━━━━━━━━━\u001b[0m\u001b[37m\u001b[0m \u001b[1m7s\u001b[0m 5ms/step - accuracy: 0.6224 - loss: 1.0503 - val_accuracy: 0.4936 - val_loss: 1.5218\n",
            "Epoch 30/100\n",
            "\u001b[1m1250/1250\u001b[0m \u001b[32m━━━━━━━━━━━━━━━━━━━━\u001b[0m\u001b[37m\u001b[0m \u001b[1m9s\u001b[0m 4ms/step - accuracy: 0.6239 - loss: 1.0311 - val_accuracy: 0.4918 - val_loss: 1.5526\n",
            "Epoch 31/100\n",
            "\u001b[1m1250/1250\u001b[0m \u001b[32m━━━━━━━━━━━━━━━━━━━━\u001b[0m\u001b[37m\u001b[0m \u001b[1m6s\u001b[0m 5ms/step - accuracy: 0.6307 - loss: 1.0167 - val_accuracy: 0.4983 - val_loss: 1.5293\n",
            "Epoch 32/100\n",
            "\u001b[1m1250/1250\u001b[0m \u001b[32m━━━━━━━━━━━━━━━━━━━━\u001b[0m\u001b[37m\u001b[0m \u001b[1m6s\u001b[0m 4ms/step - accuracy: 0.6344 - loss: 1.0001 - val_accuracy: 0.4949 - val_loss: 1.5635\n",
            "Epoch 33/100\n",
            "\u001b[1m1250/1250\u001b[0m \u001b[32m━━━━━━━━━━━━━━━━━━━━\u001b[0m\u001b[37m\u001b[0m \u001b[1m10s\u001b[0m 4ms/step - accuracy: 0.6487 - loss: 0.9704 - val_accuracy: 0.4974 - val_loss: 1.5380\n",
            "Epoch 34/100\n",
            "\u001b[1m1250/1250\u001b[0m \u001b[32m━━━━━━━━━━━━━━━━━━━━\u001b[0m\u001b[37m\u001b[0m \u001b[1m6s\u001b[0m 5ms/step - accuracy: 0.6474 - loss: 0.9673 - val_accuracy: 0.4928 - val_loss: 1.6125\n",
            "Epoch 35/100\n",
            "\u001b[1m1250/1250\u001b[0m \u001b[32m━━━━━━━━━━━━━━━━━━━━\u001b[0m\u001b[37m\u001b[0m \u001b[1m10s\u001b[0m 4ms/step - accuracy: 0.6537 - loss: 0.9512 - val_accuracy: 0.4887 - val_loss: 1.6141\n",
            "Epoch 36/100\n",
            "\u001b[1m1250/1250\u001b[0m \u001b[32m━━━━━━━━━━━━━━━━━━━━\u001b[0m\u001b[37m\u001b[0m \u001b[1m6s\u001b[0m 5ms/step - accuracy: 0.6584 - loss: 0.9326 - val_accuracy: 0.4924 - val_loss: 1.6362\n",
            "Epoch 37/100\n",
            "\u001b[1m1250/1250\u001b[0m \u001b[32m━━━━━━━━━━━━━━━━━━━━\u001b[0m\u001b[37m\u001b[0m \u001b[1m9s\u001b[0m 4ms/step - accuracy: 0.6593 - loss: 0.9345 - val_accuracy: 0.4940 - val_loss: 1.6294\n",
            "Epoch 38/100\n",
            "\u001b[1m1250/1250\u001b[0m \u001b[32m━━━━━━━━━━━━━━━━━━━━\u001b[0m\u001b[37m\u001b[0m \u001b[1m6s\u001b[0m 5ms/step - accuracy: 0.6715 - loss: 0.9000 - val_accuracy: 0.4948 - val_loss: 1.6363\n",
            "Epoch 39/100\n",
            "\u001b[1m1250/1250\u001b[0m \u001b[32m━━━━━━━━━━━━━━━━━━━━\u001b[0m\u001b[37m\u001b[0m \u001b[1m5s\u001b[0m 4ms/step - accuracy: 0.6793 - loss: 0.8824 - val_accuracy: 0.4976 - val_loss: 1.6682\n",
            "Epoch 40/100\n",
            "\u001b[1m1250/1250\u001b[0m \u001b[32m━━━━━━━━━━━━━━━━━━━━\u001b[0m\u001b[37m\u001b[0m \u001b[1m6s\u001b[0m 5ms/step - accuracy: 0.6844 - loss: 0.8705 - val_accuracy: 0.4907 - val_loss: 1.7335\n",
            "Epoch 41/100\n",
            "\u001b[1m1250/1250\u001b[0m \u001b[32m━━━━━━━━━━━━━━━━━━━━\u001b[0m\u001b[37m\u001b[0m \u001b[1m9s\u001b[0m 4ms/step - accuracy: 0.6863 - loss: 0.8650 - val_accuracy: 0.4900 - val_loss: 1.7402\n",
            "Final Validation Accuracy: 0.4983\n",
            "\n",
            "Training with learning rate: 1e-05\n",
            "Epoch 1/100\n",
            "\u001b[1m1250/1250\u001b[0m \u001b[32m━━━━━━━━━━━━━━━━━━━━\u001b[0m\u001b[37m\u001b[0m \u001b[1m15s\u001b[0m 6ms/step - accuracy: 0.1346 - loss: 2.2525 - val_accuracy: 0.2411 - val_loss: 2.1007\n",
            "Epoch 2/100\n",
            "\u001b[1m1250/1250\u001b[0m \u001b[32m━━━━━━━━━━━━━━━━━━━━\u001b[0m\u001b[37m\u001b[0m \u001b[1m7s\u001b[0m 5ms/step - accuracy: 0.2542 - loss: 2.0622 - val_accuracy: 0.2765 - val_loss: 1.9565\n",
            "Epoch 3/100\n",
            "\u001b[1m1250/1250\u001b[0m \u001b[32m━━━━━━━━━━━━━━━━━━━━\u001b[0m\u001b[37m\u001b[0m \u001b[1m6s\u001b[0m 5ms/step - accuracy: 0.2948 - loss: 1.9169 - val_accuracy: 0.3252 - val_loss: 1.8774\n",
            "Epoch 4/100\n",
            "\u001b[1m1250/1250\u001b[0m \u001b[32m━━━━━━━━━━━━━━━━━━━━\u001b[0m\u001b[37m\u001b[0m \u001b[1m11s\u001b[0m 5ms/step - accuracy: 0.3306 - loss: 1.8390 - val_accuracy: 0.3448 - val_loss: 1.8261\n",
            "Epoch 5/100\n",
            "\u001b[1m1250/1250\u001b[0m \u001b[32m━━━━━━━━━━━━━━━━━━━━\u001b[0m\u001b[37m\u001b[0m \u001b[1m5s\u001b[0m 4ms/step - accuracy: 0.3544 - loss: 1.7895 - val_accuracy: 0.3652 - val_loss: 1.7858\n",
            "Epoch 6/100\n",
            "\u001b[1m1250/1250\u001b[0m \u001b[32m━━━━━━━━━━━━━━━━━━━━\u001b[0m\u001b[37m\u001b[0m \u001b[1m11s\u001b[0m 5ms/step - accuracy: 0.3661 - loss: 1.7520 - val_accuracy: 0.3696 - val_loss: 1.7712\n",
            "Epoch 7/100\n",
            "\u001b[1m1250/1250\u001b[0m \u001b[32m━━━━━━━━━━━━━━━━━━━━\u001b[0m\u001b[37m\u001b[0m \u001b[1m11s\u001b[0m 5ms/step - accuracy: 0.3808 - loss: 1.7150 - val_accuracy: 0.3812 - val_loss: 1.7427\n",
            "Epoch 8/100\n",
            "\u001b[1m1250/1250\u001b[0m \u001b[32m━━━━━━━━━━━━━━━━━━━━\u001b[0m\u001b[37m\u001b[0m \u001b[1m6s\u001b[0m 5ms/step - accuracy: 0.3906 - loss: 1.6881 - val_accuracy: 0.3909 - val_loss: 1.7182\n",
            "Epoch 9/100\n",
            "\u001b[1m1250/1250\u001b[0m \u001b[32m━━━━━━━━━━━━━━━━━━━━\u001b[0m\u001b[37m\u001b[0m \u001b[1m10s\u001b[0m 5ms/step - accuracy: 0.4018 - loss: 1.6547 - val_accuracy: 0.3923 - val_loss: 1.7063\n",
            "Epoch 10/100\n",
            "\u001b[1m1250/1250\u001b[0m \u001b[32m━━━━━━━━━━━━━━━━━━━━\u001b[0m\u001b[37m\u001b[0m \u001b[1m11s\u001b[0m 5ms/step - accuracy: 0.4081 - loss: 1.6411 - val_accuracy: 0.4013 - val_loss: 1.6832\n",
            "Final Validation Accuracy: 0.4013\n",
            "\n",
            "Training with learning rate: 1e-06\n",
            "Epoch 1/100\n",
            "\u001b[1m1250/1250\u001b[0m \u001b[32m━━━━━━━━━━━━━━━━━━━━\u001b[0m\u001b[37m\u001b[0m \u001b[1m17s\u001b[0m 6ms/step - accuracy: 0.1123 - loss: 2.2983 - val_accuracy: 0.1016 - val_loss: 2.2621\n",
            "Epoch 2/100\n",
            "\u001b[1m1250/1250\u001b[0m \u001b[32m━━━━━━━━━━━━━━━━━━━━\u001b[0m\u001b[37m\u001b[0m \u001b[1m6s\u001b[0m 5ms/step - accuracy: 0.1097 - loss: 2.2484 - val_accuracy: 0.1505 - val_loss: 2.2203\n",
            "Epoch 3/100\n",
            "\u001b[1m1250/1250\u001b[0m \u001b[32m━━━━━━━━━━━━━━━━━━━━\u001b[0m\u001b[37m\u001b[0m \u001b[1m11s\u001b[0m 5ms/step - accuracy: 0.1586 - loss: 2.2078 - val_accuracy: 0.1796 - val_loss: 2.1937\n",
            "Epoch 4/100\n",
            "\u001b[1m1250/1250\u001b[0m \u001b[32m━━━━━━━━━━━━━━━━━━━━\u001b[0m\u001b[37m\u001b[0m \u001b[1m5s\u001b[0m 4ms/step - accuracy: 0.1842 - loss: 2.1837 - val_accuracy: 0.1905 - val_loss: 2.1624\n",
            "Epoch 5/100\n",
            "\u001b[1m1250/1250\u001b[0m \u001b[32m━━━━━━━━━━━━━━━━━━━━\u001b[0m\u001b[37m\u001b[0m \u001b[1m6s\u001b[0m 5ms/step - accuracy: 0.2018 - loss: 2.1434 - val_accuracy: 0.2027 - val_loss: 2.1286\n",
            "Epoch 6/100\n",
            "\u001b[1m1250/1250\u001b[0m \u001b[32m━━━━━━━━━━━━━━━━━━━━\u001b[0m\u001b[37m\u001b[0m \u001b[1m6s\u001b[0m 5ms/step - accuracy: 0.2087 - loss: 2.1117 - val_accuracy: 0.2162 - val_loss: 2.0959\n",
            "Epoch 7/100\n",
            "\u001b[1m1250/1250\u001b[0m \u001b[32m━━━━━━━━━━━━━━━━━━━━\u001b[0m\u001b[37m\u001b[0m \u001b[1m11s\u001b[0m 5ms/step - accuracy: 0.2228 - loss: 2.0739 - val_accuracy: 0.2307 - val_loss: 2.0656\n",
            "Epoch 8/100\n",
            "\u001b[1m1250/1250\u001b[0m \u001b[32m━━━━━━━━━━━━━━━━━━━━\u001b[0m\u001b[37m\u001b[0m \u001b[1m9s\u001b[0m 4ms/step - accuracy: 0.2363 - loss: 2.0505 - val_accuracy: 0.2459 - val_loss: 2.0402\n",
            "Epoch 9/100\n",
            "\u001b[1m1250/1250\u001b[0m \u001b[32m━━━━━━━━━━━━━━━━━━━━\u001b[0m\u001b[37m\u001b[0m \u001b[1m10s\u001b[0m 4ms/step - accuracy: 0.2472 - loss: 2.0246 - val_accuracy: 0.2526 - val_loss: 2.0206\n",
            "Epoch 10/100\n",
            "\u001b[1m1250/1250\u001b[0m \u001b[32m━━━━━━━━━━━━━━━━━━━━\u001b[0m\u001b[37m\u001b[0m \u001b[1m10s\u001b[0m 4ms/step - accuracy: 0.2533 - loss: 2.0047 - val_accuracy: 0.2626 - val_loss: 2.0025\n",
            "Final Validation Accuracy: 0.2626\n",
            "\n"
          ]
        }
      ]
    },
    {
      "cell_type": "markdown",
      "source": [
        "#### Training results"
      ],
      "metadata": {
        "id": "PRvCyEdCNXDO"
      }
    },
    {
      "cell_type": "markdown",
      "source": [
        "Let's look at the best validation accuracy and the learning rate that gave it."
      ],
      "metadata": {
        "id": "H-OMm5qXNf64"
      }
    },
    {
      "cell_type": "code",
      "source": [
        "print(f\"Best Learning Rate: {best_lr}\")\n",
        "print(f\"Best Validation Accuracy: {best_val_accuracy:.4f}\")"
      ],
      "metadata": {
        "id": "vTk-XYMINluP",
        "outputId": "b2ade7ae-5cd5-4cb2-ab9f-a0ca145164fd",
        "colab": {
          "base_uri": "https://localhost:8080/"
        }
      },
      "execution_count": null,
      "outputs": [
        {
          "output_type": "stream",
          "name": "stdout",
          "text": [
            "Best Learning Rate: 0.0001\n",
            "Best Validation Accuracy: 0.4983\n"
          ]
        }
      ]
    },
    {
      "cell_type": "markdown",
      "source": [
        "We can see that the best validation accuracy is 49.8%, which is not as good as we hope to get. But there is another reason to be concerned about here, besides low validation accuracy. If we look at the detailed output from previous step, we can see that training accuracy for this learing rate went up to 68.6%, when validation accuracy plateaued around 49%. This clearly indicates that our model is overfitting, so let's try to improve its performance and prevent overfitting."
      ],
      "metadata": {
        "id": "L-xoiZpeOW3I"
      }
    },
    {
      "cell_type": "markdown",
      "source": [
        "#### Batch Normalization"
      ],
      "metadata": {
        "id": "3nJgFqxNPeyE"
      }
    },
    {
      "cell_type": "markdown",
      "source": [
        "Now, we will enhance our model further by incorporating Batch Normalization. Batch Normalization is the process of adding an operation in the model\n",
        "just before or after the activation function of each hidden layer. The operation lets the model learn the optimal scale and mean of each of\n",
        "the layer's inputs. Let's add Batch Normalization layers after each hidden layer in our DNN and then retrain the model to observe the impact on performance."
      ],
      "metadata": {
        "id": "efpoEcI5QmKg"
      }
    },
    {
      "cell_type": "code",
      "source": [
        "def dnn_model_batch_normalization(hidden_layers, number_of_neurons):\n",
        "    dnn = keras.models.Sequential()\n",
        "\n",
        "    dnn.add(keras.layers.Input(shape=(32, 32, 3)))\n",
        "    dnn.add(keras.layers.Flatten())\n",
        "\n",
        "    dnn.add(keras.layers.BatchNormalization())\n",
        "\n",
        "    for _ in range(hidden_layers):\n",
        "        dnn.add(keras.layers.Dense(\n",
        "            units=number_of_neurons,\n",
        "            activation=None,\n",
        "            kernel_initializer='he_normal'\n",
        "        ))\n",
        "        dnn.add(keras.layers.BatchNormalization())\n",
        "        dnn.add(keras.layers.Activation('swish'))\n",
        "\n",
        "    dnn.add(keras.layers.Dense(10, activation='softmax'))\n",
        "    return dnn"
      ],
      "metadata": {
        "id": "pwqaknmUREu0"
      },
      "execution_count": null,
      "outputs": []
    },
    {
      "cell_type": "markdown",
      "source": [
        "Now, let's train the model with Batch Normalization and see the results. We will use the fixed learning rate of 0.0001 now, since it gave the best results before."
      ],
      "metadata": {
        "id": "h8jBorBuRnox"
      }
    },
    {
      "cell_type": "code",
      "source": [
        "# Create the model\n",
        "dnn_batch_normalization = dnn_model_batch_normalization(hidden_layers=20, number_of_neurons=100)\n",
        "\n",
        "# Compile the model\n",
        "dnn_batch_normalization.compile(\n",
        "    loss='categorical_crossentropy',\n",
        "    optimizer=keras.optimizers.Nadam(learning_rate=0.0001),\n",
        "    metrics=['accuracy']\n",
        ")\n",
        "\n",
        "# Train the model\n",
        "history_dnn_batch_normalization = dnn_batch_normalization.fit(\n",
        "    X_train_scaled, y_train_onehot,\n",
        "    validation_split=0.2,\n",
        "    epochs=100,\n",
        "    callbacks=[early_stopping]\n",
        ")\n",
        "\n",
        "# Get the best validation accuracy from the training history\n",
        "val_acc = max(history_dnn_batch_normalization.history['val_accuracy'])\n",
        "print(f\"Final Validation Accuracy: {val_acc:.4f}\\n\")"
      ],
      "metadata": {
        "colab": {
          "base_uri": "https://localhost:8080/"
        },
        "id": "0yEk_EK9IV6j",
        "outputId": "c9aefd85-b910-4892-f9ee-feb9a0920447"
      },
      "execution_count": null,
      "outputs": [
        {
          "output_type": "stream",
          "name": "stdout",
          "text": [
            "Epoch 1/100\n",
            "\u001b[1m1250/1250\u001b[0m \u001b[32m━━━━━━━━━━━━━━━━━━━━\u001b[0m\u001b[37m\u001b[0m \u001b[1m31s\u001b[0m 9ms/step - accuracy: 0.1221 - loss: 2.4200 - val_accuracy: 0.1803 - val_loss: 2.4535\n",
            "Epoch 2/100\n",
            "\u001b[1m1250/1250\u001b[0m \u001b[32m━━━━━━━━━━━━━━━━━━━━\u001b[0m\u001b[37m\u001b[0m \u001b[1m9s\u001b[0m 7ms/step - accuracy: 0.2012 - loss: 2.1694 - val_accuracy: 0.2588 - val_loss: 2.1223\n",
            "Epoch 3/100\n",
            "\u001b[1m1250/1250\u001b[0m \u001b[32m━━━━━━━━━━━━━━━━━━━━\u001b[0m\u001b[37m\u001b[0m \u001b[1m9s\u001b[0m 7ms/step - accuracy: 0.2600 - loss: 1.9940 - val_accuracy: 0.3169 - val_loss: 1.9132\n",
            "Epoch 4/100\n",
            "\u001b[1m1250/1250\u001b[0m \u001b[32m━━━━━━━━━━━━━━━━━━━━\u001b[0m\u001b[37m\u001b[0m \u001b[1m9s\u001b[0m 7ms/step - accuracy: 0.3183 - loss: 1.8551 - val_accuracy: 0.3599 - val_loss: 1.7813\n",
            "Epoch 5/100\n",
            "\u001b[1m1250/1250\u001b[0m \u001b[32m━━━━━━━━━━━━━━━━━━━━\u001b[0m\u001b[37m\u001b[0m \u001b[1m11s\u001b[0m 8ms/step - accuracy: 0.3515 - loss: 1.7823 - val_accuracy: 0.3903 - val_loss: 1.7115\n",
            "Epoch 6/100\n",
            "\u001b[1m1250/1250\u001b[0m \u001b[32m━━━━━━━━━━━━━━━━━━━━\u001b[0m\u001b[37m\u001b[0m \u001b[1m9s\u001b[0m 7ms/step - accuracy: 0.3830 - loss: 1.7240 - val_accuracy: 0.4126 - val_loss: 1.6452\n",
            "Epoch 7/100\n",
            "\u001b[1m1250/1250\u001b[0m \u001b[32m━━━━━━━━━━━━━━━━━━━━\u001b[0m\u001b[37m\u001b[0m \u001b[1m9s\u001b[0m 8ms/step - accuracy: 0.4026 - loss: 1.6549 - val_accuracy: 0.4277 - val_loss: 1.6012\n",
            "Epoch 8/100\n",
            "\u001b[1m1250/1250\u001b[0m \u001b[32m━━━━━━━━━━━━━━━━━━━━\u001b[0m\u001b[37m\u001b[0m \u001b[1m9s\u001b[0m 7ms/step - accuracy: 0.4208 - loss: 1.6154 - val_accuracy: 0.4378 - val_loss: 1.5696\n",
            "Epoch 9/100\n",
            "\u001b[1m1250/1250\u001b[0m \u001b[32m━━━━━━━━━━━━━━━━━━━━\u001b[0m\u001b[37m\u001b[0m \u001b[1m10s\u001b[0m 8ms/step - accuracy: 0.4373 - loss: 1.5727 - val_accuracy: 0.4529 - val_loss: 1.5255\n",
            "Epoch 10/100\n",
            "\u001b[1m1250/1250\u001b[0m \u001b[32m━━━━━━━━━━━━━━━━━━━━\u001b[0m\u001b[37m\u001b[0m \u001b[1m9s\u001b[0m 7ms/step - accuracy: 0.4502 - loss: 1.5393 - val_accuracy: 0.4691 - val_loss: 1.4967\n",
            "Final Validation Accuracy: 0.4691\n",
            "\n"
          ]
        }
      ]
    },
    {
      "cell_type": "markdown",
      "source": [
        "We can see that validation accuracy is now about 46.9%, which is slightly lower than what we had without Batch Normalization. However, the model is not overfitting anymore, which is a good sign."
      ],
      "metadata": {
        "id": "g2DnRauVTmhr"
      }
    },
    {
      "cell_type": "markdown",
      "source": [
        "Let's save our model in case we want to use it later."
      ],
      "metadata": {
        "id": "lq2_cDhkT2Zi"
      }
    },
    {
      "cell_type": "code",
      "source": [
        "dnn_batch_normalization.save('/content/drive/My Drive/dnn_batch_normalization.keras')"
      ],
      "metadata": {
        "id": "doTJrcR_b7Z4"
      },
      "execution_count": null,
      "outputs": []
    },
    {
      "cell_type": "markdown",
      "source": [
        "#### Dropout"
      ],
      "metadata": {
        "id": "ChEzG9nbT-bJ"
      }
    },
    {
      "cell_type": "markdown",
      "source": [
        "We can take further steps to enhance our model's robustness and prevent overfitting. In this section, we will introduce dropout, a regularization technique that randomly deactivates a fraction of neurons during each training iteration. This helps prevent the network from relying too heavily on any specific neuron or set of features, promoting better generalization to unseen data. We will add dropout layers after the batch normalization layers in our DNN."
      ],
      "metadata": {
        "id": "-dDpLoXnUCUG"
      }
    },
    {
      "cell_type": "code",
      "source": [
        "def dnn_model_dropout(hidden_layers, number_of_neurons):\n",
        "    dnn = keras.models.Sequential()\n",
        "\n",
        "    dnn.add(keras.layers.Input(shape=(32, 32, 3)))\n",
        "    dnn.add(keras.layers.Flatten())\n",
        "\n",
        "    dnn.add(keras.layers.BatchNormalization())\n",
        "\n",
        "    for i in range(hidden_layers):\n",
        "        dnn.add(keras.layers.Dense(\n",
        "            units=number_of_neurons,\n",
        "            activation=None,\n",
        "            kernel_initializer='he_normal'\n",
        "        ))\n",
        "        dnn.add(keras.layers.BatchNormalization())\n",
        "        dnn.add(keras.layers.Activation('swish'))\n",
        "        dnn.add(keras.layers.Dropout(rate=0.2))\n",
        "\n",
        "    dnn.add(keras.layers.Dense(10, activation='softmax'))\n",
        "    return dnn"
      ],
      "metadata": {
        "id": "68jYJegrU6YR"
      },
      "execution_count": 17,
      "outputs": []
    },
    {
      "cell_type": "markdown",
      "source": [
        "Now let's train the model with dropout layers and evaluate its performace."
      ],
      "metadata": {
        "id": "wcoxiFvIWGrn"
      }
    },
    {
      "cell_type": "code",
      "source": [
        "# Create the model\n",
        "dnn_dropout = dnn_model_dropout(hidden_layers=20, number_of_neurons=100)\n",
        "\n",
        "# Compile the model\n",
        "dnn_dropout.compile(\n",
        "    loss='categorical_crossentropy',\n",
        "    optimizer=keras.optimizers.Nadam(learning_rate=0.0001),\n",
        "    metrics=['accuracy']\n",
        ")\n",
        "\n",
        "# Train the model\n",
        "history_dnn_dropout = dnn_dropout.fit(\n",
        "    X_train_scaled, y_train_onehot,\n",
        "    validation_split=0.2,\n",
        "    epochs=100,\n",
        "    callbacks=[early_stopping]\n",
        ")\n",
        "\n",
        "# Get the best validation accuracy from the training history\n",
        "val_acc = max(history_dnn_dropout.history['val_accuracy'])\n",
        "print(f\"Final Validation Accuracy: {val_acc:.4f}\\n\")"
      ],
      "metadata": {
        "colab": {
          "base_uri": "https://localhost:8080/"
        },
        "id": "shjGuKxjRWcX",
        "outputId": "d005aa46-fd9e-4543-d216-95fa88dfcf47"
      },
      "execution_count": 18,
      "outputs": [
        {
          "output_type": "stream",
          "name": "stdout",
          "text": [
            "Epoch 1/100\n",
            "\u001b[1m1250/1250\u001b[0m \u001b[32m━━━━━━━━━━━━━━━━━━━━\u001b[0m\u001b[37m\u001b[0m \u001b[1m42s\u001b[0m 10ms/step - accuracy: 0.0997 - loss: 2.5258 - val_accuracy: 0.0967 - val_loss: 2.3115\n",
            "Epoch 2/100\n",
            "\u001b[1m1250/1250\u001b[0m \u001b[32m━━━━━━━━━━━━━━━━━━━━\u001b[0m\u001b[37m\u001b[0m \u001b[1m9s\u001b[0m 7ms/step - accuracy: 0.1108 - loss: 2.4037 - val_accuracy: 0.0992 - val_loss: 2.3141\n",
            "Epoch 3/100\n",
            "\u001b[1m1250/1250\u001b[0m \u001b[32m━━━━━━━━━━━━━━━━━━━━\u001b[0m\u001b[37m\u001b[0m \u001b[1m11s\u001b[0m 8ms/step - accuracy: 0.1111 - loss: 2.3615 - val_accuracy: 0.0997 - val_loss: 2.3163\n",
            "Epoch 4/100\n",
            "\u001b[1m1250/1250\u001b[0m \u001b[32m━━━━━━━━━━━━━━━━━━━━\u001b[0m\u001b[37m\u001b[0m \u001b[1m10s\u001b[0m 8ms/step - accuracy: 0.1135 - loss: 2.3297 - val_accuracy: 0.1002 - val_loss: 2.3426\n",
            "Epoch 5/100\n",
            "\u001b[1m1250/1250\u001b[0m \u001b[32m━━━━━━━━━━━━━━━━━━━━\u001b[0m\u001b[37m\u001b[0m \u001b[1m9s\u001b[0m 8ms/step - accuracy: 0.1433 - loss: 2.2646 - val_accuracy: 0.1006 - val_loss: 2.3632\n",
            "Epoch 6/100\n",
            "\u001b[1m1250/1250\u001b[0m \u001b[32m━━━━━━━━━━━━━━━━━━━━\u001b[0m\u001b[37m\u001b[0m \u001b[1m9s\u001b[0m 7ms/step - accuracy: 0.1451 - loss: 2.2245 - val_accuracy: 0.1034 - val_loss: 2.3600\n",
            "Epoch 7/100\n",
            "\u001b[1m1250/1250\u001b[0m \u001b[32m━━━━━━━━━━━━━━━━━━━━\u001b[0m\u001b[37m\u001b[0m \u001b[1m10s\u001b[0m 8ms/step - accuracy: 0.1548 - loss: 2.1890 - val_accuracy: 0.1055 - val_loss: 2.3319\n",
            "Epoch 8/100\n",
            "\u001b[1m1250/1250\u001b[0m \u001b[32m━━━━━━━━━━━━━━━━━━━━\u001b[0m\u001b[37m\u001b[0m \u001b[1m20s\u001b[0m 8ms/step - accuracy: 0.1684 - loss: 2.1523 - val_accuracy: 0.1243 - val_loss: 2.2457\n",
            "Epoch 9/100\n",
            "\u001b[1m1250/1250\u001b[0m \u001b[32m━━━━━━━━━━━━━━━━━━━━\u001b[0m\u001b[37m\u001b[0m \u001b[1m9s\u001b[0m 7ms/step - accuracy: 0.1690 - loss: 2.1245 - val_accuracy: 0.1450 - val_loss: 2.1840\n",
            "Epoch 10/100\n",
            "\u001b[1m1250/1250\u001b[0m \u001b[32m━━━━━━━━━━━━━━━━━━━━\u001b[0m\u001b[37m\u001b[0m \u001b[1m10s\u001b[0m 8ms/step - accuracy: 0.1764 - loss: 2.0959 - val_accuracy: 0.1608 - val_loss: 2.1433\n",
            "Epoch 11/100\n",
            "\u001b[1m1250/1250\u001b[0m \u001b[32m━━━━━━━━━━━━━━━━━━━━\u001b[0m\u001b[37m\u001b[0m \u001b[1m20s\u001b[0m 8ms/step - accuracy: 0.1804 - loss: 2.0744 - val_accuracy: 0.1706 - val_loss: 2.1106\n",
            "Epoch 12/100\n",
            "\u001b[1m1250/1250\u001b[0m \u001b[32m━━━━━━━━━━━━━━━━━━━━\u001b[0m\u001b[37m\u001b[0m \u001b[1m9s\u001b[0m 7ms/step - accuracy: 0.1850 - loss: 2.0487 - val_accuracy: 0.1752 - val_loss: 2.0928\n",
            "Epoch 13/100\n",
            "\u001b[1m1250/1250\u001b[0m \u001b[32m━━━━━━━━━━━━━━━━━━━━\u001b[0m\u001b[37m\u001b[0m \u001b[1m11s\u001b[0m 8ms/step - accuracy: 0.1899 - loss: 2.0430 - val_accuracy: 0.1880 - val_loss: 2.0628\n",
            "Epoch 14/100\n",
            "\u001b[1m1250/1250\u001b[0m \u001b[32m━━━━━━━━━━━━━━━━━━━━\u001b[0m\u001b[37m\u001b[0m \u001b[1m10s\u001b[0m 8ms/step - accuracy: 0.1912 - loss: 2.0252 - val_accuracy: 0.1906 - val_loss: 2.0502\n",
            "Epoch 15/100\n",
            "\u001b[1m1250/1250\u001b[0m \u001b[32m━━━━━━━━━━━━━━━━━━━━\u001b[0m\u001b[37m\u001b[0m \u001b[1m9s\u001b[0m 7ms/step - accuracy: 0.2049 - loss: 2.0075 - val_accuracy: 0.2011 - val_loss: 2.0247\n",
            "Epoch 16/100\n",
            "\u001b[1m1250/1250\u001b[0m \u001b[32m━━━━━━━━━━━━━━━━━━━━\u001b[0m\u001b[37m\u001b[0m \u001b[1m11s\u001b[0m 8ms/step - accuracy: 0.2076 - loss: 1.9930 - val_accuracy: 0.2089 - val_loss: 2.0039\n",
            "Epoch 17/100\n",
            "\u001b[1m1250/1250\u001b[0m \u001b[32m━━━━━━━━━━━━━━━━━━━━\u001b[0m\u001b[37m\u001b[0m \u001b[1m10s\u001b[0m 8ms/step - accuracy: 0.2060 - loss: 1.9797 - val_accuracy: 0.2256 - val_loss: 1.9679\n",
            "Epoch 18/100\n",
            "\u001b[1m1250/1250\u001b[0m \u001b[32m━━━━━━━━━━━━━━━━━━━━\u001b[0m\u001b[37m\u001b[0m \u001b[1m10s\u001b[0m 8ms/step - accuracy: 0.2197 - loss: 1.9557 - val_accuracy: 0.2507 - val_loss: 1.9309\n",
            "Epoch 19/100\n",
            "\u001b[1m1250/1250\u001b[0m \u001b[32m━━━━━━━━━━━━━━━━━━━━\u001b[0m\u001b[37m\u001b[0m \u001b[1m9s\u001b[0m 7ms/step - accuracy: 0.2345 - loss: 1.9395 - val_accuracy: 0.2710 - val_loss: 1.8911\n",
            "Epoch 20/100\n",
            "\u001b[1m1250/1250\u001b[0m \u001b[32m━━━━━━━━━━━━━━━━━━━━\u001b[0m\u001b[37m\u001b[0m \u001b[1m11s\u001b[0m 7ms/step - accuracy: 0.2455 - loss: 1.9170 - val_accuracy: 0.2740 - val_loss: 1.8682\n",
            "Epoch 21/100\n",
            "\u001b[1m1250/1250\u001b[0m \u001b[32m━━━━━━━━━━━━━━━━━━━━\u001b[0m\u001b[37m\u001b[0m \u001b[1m10s\u001b[0m 8ms/step - accuracy: 0.2500 - loss: 1.9043 - val_accuracy: 0.2906 - val_loss: 1.8467\n",
            "Epoch 22/100\n",
            "\u001b[1m1250/1250\u001b[0m \u001b[32m━━━━━━━━━━━━━━━━━━━━\u001b[0m\u001b[37m\u001b[0m \u001b[1m10s\u001b[0m 8ms/step - accuracy: 0.2635 - loss: 1.8799 - val_accuracy: 0.2938 - val_loss: 1.8318\n",
            "Epoch 23/100\n",
            "\u001b[1m1250/1250\u001b[0m \u001b[32m━━━━━━━━━━━━━━━━━━━━\u001b[0m\u001b[37m\u001b[0m \u001b[1m9s\u001b[0m 7ms/step - accuracy: 0.2628 - loss: 1.8660 - val_accuracy: 0.3095 - val_loss: 1.8024\n",
            "Epoch 24/100\n",
            "\u001b[1m1250/1250\u001b[0m \u001b[32m━━━━━━━━━━━━━━━━━━━━\u001b[0m\u001b[37m\u001b[0m \u001b[1m12s\u001b[0m 9ms/step - accuracy: 0.2732 - loss: 1.8540 - val_accuracy: 0.3180 - val_loss: 1.7844\n",
            "Epoch 25/100\n",
            "\u001b[1m1250/1250\u001b[0m \u001b[32m━━━━━━━━━━━━━━━━━━━━\u001b[0m\u001b[37m\u001b[0m \u001b[1m10s\u001b[0m 8ms/step - accuracy: 0.2817 - loss: 1.8365 - val_accuracy: 0.3164 - val_loss: 1.7739\n",
            "Epoch 26/100\n",
            "\u001b[1m1250/1250\u001b[0m \u001b[32m━━━━━━━━━━━━━━━━━━━━\u001b[0m\u001b[37m\u001b[0m \u001b[1m20s\u001b[0m 8ms/step - accuracy: 0.2875 - loss: 1.8220 - val_accuracy: 0.3241 - val_loss: 1.7681\n",
            "Epoch 27/100\n",
            "\u001b[1m1250/1250\u001b[0m \u001b[32m━━━━━━━━━━━━━━━━━━━━\u001b[0m\u001b[37m\u001b[0m \u001b[1m10s\u001b[0m 8ms/step - accuracy: 0.2927 - loss: 1.8134 - val_accuracy: 0.3352 - val_loss: 1.7356\n",
            "Epoch 28/100\n",
            "\u001b[1m1250/1250\u001b[0m \u001b[32m━━━━━━━━━━━━━━━━━━━━\u001b[0m\u001b[37m\u001b[0m \u001b[1m10s\u001b[0m 8ms/step - accuracy: 0.2968 - loss: 1.8046 - val_accuracy: 0.3362 - val_loss: 1.7352\n",
            "Epoch 29/100\n",
            "\u001b[1m1250/1250\u001b[0m \u001b[32m━━━━━━━━━━━━━━━━━━━━\u001b[0m\u001b[37m\u001b[0m \u001b[1m11s\u001b[0m 8ms/step - accuracy: 0.3098 - loss: 1.7874 - val_accuracy: 0.3464 - val_loss: 1.7163\n",
            "Epoch 30/100\n",
            "\u001b[1m1250/1250\u001b[0m \u001b[32m━━━━━━━━━━━━━━━━━━━━\u001b[0m\u001b[37m\u001b[0m \u001b[1m9s\u001b[0m 7ms/step - accuracy: 0.2990 - loss: 1.7867 - val_accuracy: 0.3437 - val_loss: 1.7228\n",
            "Epoch 31/100\n",
            "\u001b[1m1250/1250\u001b[0m \u001b[32m━━━━━━━━━━━━━━━━━━━━\u001b[0m\u001b[37m\u001b[0m \u001b[1m12s\u001b[0m 9ms/step - accuracy: 0.3124 - loss: 1.7775 - val_accuracy: 0.3548 - val_loss: 1.7032\n",
            "Epoch 32/100\n",
            "\u001b[1m1250/1250\u001b[0m \u001b[32m━━━━━━━━━━━━━━━━━━━━\u001b[0m\u001b[37m\u001b[0m \u001b[1m10s\u001b[0m 8ms/step - accuracy: 0.3134 - loss: 1.7749 - val_accuracy: 0.3600 - val_loss: 1.6919\n",
            "Epoch 33/100\n",
            "\u001b[1m1250/1250\u001b[0m \u001b[32m━━━━━━━━━━━━━━━━━━━━\u001b[0m\u001b[37m\u001b[0m \u001b[1m21s\u001b[0m 8ms/step - accuracy: 0.3236 - loss: 1.7624 - val_accuracy: 0.3660 - val_loss: 1.6828\n",
            "Epoch 34/100\n",
            "\u001b[1m1250/1250\u001b[0m \u001b[32m━━━━━━━━━━━━━━━━━━━━\u001b[0m\u001b[37m\u001b[0m \u001b[1m20s\u001b[0m 8ms/step - accuracy: 0.3262 - loss: 1.7486 - val_accuracy: 0.3701 - val_loss: 1.6726\n",
            "Epoch 35/100\n",
            "\u001b[1m1250/1250\u001b[0m \u001b[32m━━━━━━━━━━━━━━━━━━━━\u001b[0m\u001b[37m\u001b[0m \u001b[1m10s\u001b[0m 8ms/step - accuracy: 0.3321 - loss: 1.7422 - val_accuracy: 0.3733 - val_loss: 1.6608\n",
            "Epoch 36/100\n",
            "\u001b[1m1250/1250\u001b[0m \u001b[32m━━━━━━━━━━━━━━━━━━━━\u001b[0m\u001b[37m\u001b[0m \u001b[1m10s\u001b[0m 8ms/step - accuracy: 0.3367 - loss: 1.7330 - val_accuracy: 0.3797 - val_loss: 1.6618\n",
            "Epoch 37/100\n",
            "\u001b[1m1250/1250\u001b[0m \u001b[32m━━━━━━━━━━━━━━━━━━━━\u001b[0m\u001b[37m\u001b[0m \u001b[1m9s\u001b[0m 7ms/step - accuracy: 0.3407 - loss: 1.7283 - val_accuracy: 0.3869 - val_loss: 1.6535\n",
            "Epoch 38/100\n",
            "\u001b[1m1250/1250\u001b[0m \u001b[32m━━━━━━━━━━━━━━━━━━━━\u001b[0m\u001b[37m\u001b[0m \u001b[1m12s\u001b[0m 8ms/step - accuracy: 0.3492 - loss: 1.7139 - val_accuracy: 0.3867 - val_loss: 1.6506\n",
            "Epoch 39/100\n",
            "\u001b[1m1250/1250\u001b[0m \u001b[32m━━━━━━━━━━━━━━━━━━━━\u001b[0m\u001b[37m\u001b[0m \u001b[1m20s\u001b[0m 8ms/step - accuracy: 0.3526 - loss: 1.7135 - val_accuracy: 0.3954 - val_loss: 1.6353\n",
            "Epoch 40/100\n",
            "\u001b[1m1250/1250\u001b[0m \u001b[32m━━━━━━━━━━━━━━━━━━━━\u001b[0m\u001b[37m\u001b[0m \u001b[1m10s\u001b[0m 8ms/step - accuracy: 0.3539 - loss: 1.7125 - val_accuracy: 0.3938 - val_loss: 1.6327\n",
            "Epoch 41/100\n",
            "\u001b[1m1250/1250\u001b[0m \u001b[32m━━━━━━━━━━━━━━━━━━━━\u001b[0m\u001b[37m\u001b[0m \u001b[1m10s\u001b[0m 8ms/step - accuracy: 0.3615 - loss: 1.6940 - val_accuracy: 0.4045 - val_loss: 1.6215\n",
            "Epoch 42/100\n",
            "\u001b[1m1250/1250\u001b[0m \u001b[32m━━━━━━━━━━━━━━━━━━━━\u001b[0m\u001b[37m\u001b[0m \u001b[1m10s\u001b[0m 8ms/step - accuracy: 0.3590 - loss: 1.6949 - val_accuracy: 0.4024 - val_loss: 1.6183\n",
            "Epoch 43/100\n",
            "\u001b[1m1250/1250\u001b[0m \u001b[32m━━━━━━━━━━━━━━━━━━━━\u001b[0m\u001b[37m\u001b[0m \u001b[1m10s\u001b[0m 8ms/step - accuracy: 0.3591 - loss: 1.6864 - val_accuracy: 0.4002 - val_loss: 1.6163\n",
            "Epoch 44/100\n",
            "\u001b[1m1250/1250\u001b[0m \u001b[32m━━━━━━━━━━━━━━━━━━━━\u001b[0m\u001b[37m\u001b[0m \u001b[1m9s\u001b[0m 7ms/step - accuracy: 0.3667 - loss: 1.6861 - val_accuracy: 0.4076 - val_loss: 1.6054\n",
            "Epoch 45/100\n",
            "\u001b[1m1250/1250\u001b[0m \u001b[32m━━━━━━━━━━━━━━━━━━━━\u001b[0m\u001b[37m\u001b[0m \u001b[1m11s\u001b[0m 8ms/step - accuracy: 0.3698 - loss: 1.6804 - val_accuracy: 0.4100 - val_loss: 1.6065\n",
            "Epoch 46/100\n",
            "\u001b[1m1250/1250\u001b[0m \u001b[32m━━━━━━━━━━━━━━━━━━━━\u001b[0m\u001b[37m\u001b[0m \u001b[1m11s\u001b[0m 9ms/step - accuracy: 0.3695 - loss: 1.6748 - val_accuracy: 0.4151 - val_loss: 1.6012\n",
            "Epoch 47/100\n",
            "\u001b[1m1250/1250\u001b[0m \u001b[32m━━━━━━━━━━━━━━━━━━━━\u001b[0m\u001b[37m\u001b[0m \u001b[1m11s\u001b[0m 9ms/step - accuracy: 0.3792 - loss: 1.6666 - val_accuracy: 0.4152 - val_loss: 1.5975\n",
            "Epoch 48/100\n",
            "\u001b[1m1250/1250\u001b[0m \u001b[32m━━━━━━━━━━━━━━━━━━━━\u001b[0m\u001b[37m\u001b[0m \u001b[1m10s\u001b[0m 8ms/step - accuracy: 0.3793 - loss: 1.6648 - val_accuracy: 0.4183 - val_loss: 1.5876\n",
            "Epoch 49/100\n",
            "\u001b[1m1250/1250\u001b[0m \u001b[32m━━━━━━━━━━━━━━━━━━━━\u001b[0m\u001b[37m\u001b[0m \u001b[1m12s\u001b[0m 9ms/step - accuracy: 0.3822 - loss: 1.6530 - val_accuracy: 0.4216 - val_loss: 1.5871\n",
            "Epoch 50/100\n",
            "\u001b[1m1250/1250\u001b[0m \u001b[32m━━━━━━━━━━━━━━━━━━━━\u001b[0m\u001b[37m\u001b[0m \u001b[1m20s\u001b[0m 8ms/step - accuracy: 0.3835 - loss: 1.6509 - val_accuracy: 0.4165 - val_loss: 1.5878\n",
            "Epoch 51/100\n",
            "\u001b[1m1250/1250\u001b[0m \u001b[32m━━━━━━━━━━━━━━━━━━━━\u001b[0m\u001b[37m\u001b[0m \u001b[1m10s\u001b[0m 8ms/step - accuracy: 0.3820 - loss: 1.6437 - val_accuracy: 0.4261 - val_loss: 1.5834\n",
            "Epoch 52/100\n",
            "\u001b[1m1250/1250\u001b[0m \u001b[32m━━━━━━━━━━━━━━━━━━━━\u001b[0m\u001b[37m\u001b[0m \u001b[1m9s\u001b[0m 8ms/step - accuracy: 0.3890 - loss: 1.6382 - val_accuracy: 0.4233 - val_loss: 1.5803\n",
            "Epoch 53/100\n",
            "\u001b[1m1250/1250\u001b[0m \u001b[32m━━━━━━━━━━━━━━━━━━━━\u001b[0m\u001b[37m\u001b[0m \u001b[1m10s\u001b[0m 8ms/step - accuracy: 0.3894 - loss: 1.6355 - val_accuracy: 0.4246 - val_loss: 1.5789\n",
            "Epoch 54/100\n",
            "\u001b[1m1250/1250\u001b[0m \u001b[32m━━━━━━━━━━━━━━━━━━━━\u001b[0m\u001b[37m\u001b[0m \u001b[1m10s\u001b[0m 8ms/step - accuracy: 0.3912 - loss: 1.6319 - val_accuracy: 0.4249 - val_loss: 1.5813\n",
            "Epoch 55/100\n",
            "\u001b[1m1250/1250\u001b[0m \u001b[32m━━━━━━━━━━━━━━━━━━━━\u001b[0m\u001b[37m\u001b[0m \u001b[1m9s\u001b[0m 7ms/step - accuracy: 0.3996 - loss: 1.6140 - val_accuracy: 0.4263 - val_loss: 1.5664\n",
            "Epoch 56/100\n",
            "\u001b[1m1250/1250\u001b[0m \u001b[32m━━━━━━━━━━━━━━━━━━━━\u001b[0m\u001b[37m\u001b[0m \u001b[1m12s\u001b[0m 8ms/step - accuracy: 0.4009 - loss: 1.6145 - val_accuracy: 0.4265 - val_loss: 1.5739\n",
            "Epoch 57/100\n",
            "\u001b[1m1250/1250\u001b[0m \u001b[32m━━━━━━━━━━━━━━━━━━━━\u001b[0m\u001b[37m\u001b[0m \u001b[1m10s\u001b[0m 8ms/step - accuracy: 0.4052 - loss: 1.6113 - val_accuracy: 0.4310 - val_loss: 1.5649\n",
            "Epoch 58/100\n",
            "\u001b[1m1250/1250\u001b[0m \u001b[32m━━━━━━━━━━━━━━━━━━━━\u001b[0m\u001b[37m\u001b[0m \u001b[1m9s\u001b[0m 7ms/step - accuracy: 0.3972 - loss: 1.6156 - val_accuracy: 0.4327 - val_loss: 1.5618\n",
            "Epoch 59/100\n",
            "\u001b[1m1250/1250\u001b[0m \u001b[32m━━━━━━━━━━━━━━━━━━━━\u001b[0m\u001b[37m\u001b[0m \u001b[1m10s\u001b[0m 8ms/step - accuracy: 0.4007 - loss: 1.6156 - val_accuracy: 0.4344 - val_loss: 1.5591\n",
            "Epoch 60/100\n",
            "\u001b[1m1250/1250\u001b[0m \u001b[32m━━━━━━━━━━━━━━━━━━━━\u001b[0m\u001b[37m\u001b[0m \u001b[1m20s\u001b[0m 8ms/step - accuracy: 0.4078 - loss: 1.6084 - val_accuracy: 0.4386 - val_loss: 1.5593\n",
            "Epoch 61/100\n",
            "\u001b[1m1250/1250\u001b[0m \u001b[32m━━━━━━━━━━━━━━━━━━━━\u001b[0m\u001b[37m\u001b[0m \u001b[1m10s\u001b[0m 8ms/step - accuracy: 0.4102 - loss: 1.5937 - val_accuracy: 0.4375 - val_loss: 1.5491\n",
            "Epoch 62/100\n",
            "\u001b[1m1250/1250\u001b[0m \u001b[32m━━━━━━━━━━━━━━━━━━━━\u001b[0m\u001b[37m\u001b[0m \u001b[1m10s\u001b[0m 8ms/step - accuracy: 0.4095 - loss: 1.5945 - val_accuracy: 0.4376 - val_loss: 1.5583\n",
            "Epoch 63/100\n",
            "\u001b[1m1250/1250\u001b[0m \u001b[32m━━━━━━━━━━━━━━━━━━━━\u001b[0m\u001b[37m\u001b[0m \u001b[1m11s\u001b[0m 9ms/step - accuracy: 0.4061 - loss: 1.5995 - val_accuracy: 0.4371 - val_loss: 1.5592\n",
            "Epoch 64/100\n",
            "\u001b[1m1250/1250\u001b[0m \u001b[32m━━━━━━━━━━━━━━━━━━━━\u001b[0m\u001b[37m\u001b[0m \u001b[1m11s\u001b[0m 9ms/step - accuracy: 0.4101 - loss: 1.6023 - val_accuracy: 0.4393 - val_loss: 1.5530\n",
            "Epoch 65/100\n",
            "\u001b[1m1250/1250\u001b[0m \u001b[32m━━━━━━━━━━━━━━━━━━━━\u001b[0m\u001b[37m\u001b[0m \u001b[1m19s\u001b[0m 8ms/step - accuracy: 0.4127 - loss: 1.5952 - val_accuracy: 0.4427 - val_loss: 1.5444\n",
            "Epoch 66/100\n",
            "\u001b[1m1250/1250\u001b[0m \u001b[32m━━━━━━━━━━━━━━━━━━━━\u001b[0m\u001b[37m\u001b[0m \u001b[1m11s\u001b[0m 8ms/step - accuracy: 0.4174 - loss: 1.5802 - val_accuracy: 0.4389 - val_loss: 1.5559\n",
            "Epoch 67/100\n",
            "\u001b[1m1250/1250\u001b[0m \u001b[32m━━━━━━━━━━━━━━━━━━━━\u001b[0m\u001b[37m\u001b[0m \u001b[1m21s\u001b[0m 9ms/step - accuracy: 0.4217 - loss: 1.5698 - val_accuracy: 0.4455 - val_loss: 1.5374\n",
            "Epoch 68/100\n",
            "\u001b[1m1250/1250\u001b[0m \u001b[32m━━━━━━━━━━━━━━━━━━━━\u001b[0m\u001b[37m\u001b[0m \u001b[1m20s\u001b[0m 8ms/step - accuracy: 0.4126 - loss: 1.5730 - val_accuracy: 0.4400 - val_loss: 1.5382\n",
            "Epoch 69/100\n",
            "\u001b[1m1250/1250\u001b[0m \u001b[32m━━━━━━━━━━━━━━━━━━━━\u001b[0m\u001b[37m\u001b[0m \u001b[1m11s\u001b[0m 9ms/step - accuracy: 0.4202 - loss: 1.5677 - val_accuracy: 0.4436 - val_loss: 1.5426\n",
            "Epoch 70/100\n",
            "\u001b[1m1250/1250\u001b[0m \u001b[32m━━━━━━━━━━━━━━━━━━━━\u001b[0m\u001b[37m\u001b[0m \u001b[1m10s\u001b[0m 8ms/step - accuracy: 0.4235 - loss: 1.5660 - val_accuracy: 0.4405 - val_loss: 1.5495\n",
            "Epoch 71/100\n",
            "\u001b[1m1250/1250\u001b[0m \u001b[32m━━━━━━━━━━━━━━━━━━━━\u001b[0m\u001b[37m\u001b[0m \u001b[1m20s\u001b[0m 8ms/step - accuracy: 0.4265 - loss: 1.5629 - val_accuracy: 0.4389 - val_loss: 1.5416\n",
            "Epoch 72/100\n",
            "\u001b[1m1250/1250\u001b[0m \u001b[32m━━━━━━━━━━━━━━━━━━━━\u001b[0m\u001b[37m\u001b[0m \u001b[1m10s\u001b[0m 8ms/step - accuracy: 0.4247 - loss: 1.5633 - val_accuracy: 0.4471 - val_loss: 1.5357\n",
            "Epoch 73/100\n",
            "\u001b[1m1250/1250\u001b[0m \u001b[32m━━━━━━━━━━━━━━━━━━━━\u001b[0m\u001b[37m\u001b[0m \u001b[1m11s\u001b[0m 9ms/step - accuracy: 0.4238 - loss: 1.5648 - val_accuracy: 0.4485 - val_loss: 1.5335\n",
            "Epoch 74/100\n",
            "\u001b[1m1250/1250\u001b[0m \u001b[32m━━━━━━━━━━━━━━━━━━━━\u001b[0m\u001b[37m\u001b[0m \u001b[1m11s\u001b[0m 9ms/step - accuracy: 0.4227 - loss: 1.5643 - val_accuracy: 0.4532 - val_loss: 1.5300\n",
            "Epoch 75/100\n",
            "\u001b[1m1250/1250\u001b[0m \u001b[32m━━━━━━━━━━━━━━━━━━━━\u001b[0m\u001b[37m\u001b[0m \u001b[1m19s\u001b[0m 7ms/step - accuracy: 0.4311 - loss: 1.5477 - val_accuracy: 0.4509 - val_loss: 1.5341\n",
            "Epoch 76/100\n",
            "\u001b[1m1250/1250\u001b[0m \u001b[32m━━━━━━━━━━━━━━━━━━━━\u001b[0m\u001b[37m\u001b[0m \u001b[1m11s\u001b[0m 8ms/step - accuracy: 0.4314 - loss: 1.5479 - val_accuracy: 0.4534 - val_loss: 1.5243\n",
            "Epoch 77/100\n",
            "\u001b[1m1250/1250\u001b[0m \u001b[32m━━━━━━━━━━━━━━━━━━━━\u001b[0m\u001b[37m\u001b[0m \u001b[1m20s\u001b[0m 8ms/step - accuracy: 0.4331 - loss: 1.5404 - val_accuracy: 0.4451 - val_loss: 1.5310\n",
            "Epoch 78/100\n",
            "\u001b[1m1250/1250\u001b[0m \u001b[32m━━━━━━━━━━━━━━━━━━━━\u001b[0m\u001b[37m\u001b[0m \u001b[1m9s\u001b[0m 7ms/step - accuracy: 0.4332 - loss: 1.5417 - val_accuracy: 0.4526 - val_loss: 1.5318\n",
            "Epoch 79/100\n",
            "\u001b[1m1250/1250\u001b[0m \u001b[32m━━━━━━━━━━━━━━━━━━━━\u001b[0m\u001b[37m\u001b[0m \u001b[1m11s\u001b[0m 8ms/step - accuracy: 0.4341 - loss: 1.5323 - val_accuracy: 0.4525 - val_loss: 1.5281\n",
            "Epoch 80/100\n",
            "\u001b[1m1250/1250\u001b[0m \u001b[32m━━━━━━━━━━━━━━━━━━━━\u001b[0m\u001b[37m\u001b[0m \u001b[1m10s\u001b[0m 8ms/step - accuracy: 0.4361 - loss: 1.5268 - val_accuracy: 0.4528 - val_loss: 1.5238\n",
            "Epoch 81/100\n",
            "\u001b[1m1250/1250\u001b[0m \u001b[32m━━━━━━━━━━━━━━━━━━━━\u001b[0m\u001b[37m\u001b[0m \u001b[1m11s\u001b[0m 8ms/step - accuracy: 0.4394 - loss: 1.5317 - val_accuracy: 0.4535 - val_loss: 1.5219\n",
            "Epoch 82/100\n",
            "\u001b[1m1250/1250\u001b[0m \u001b[32m━━━━━━━━━━━━━━━━━━━━\u001b[0m\u001b[37m\u001b[0m \u001b[1m20s\u001b[0m 8ms/step - accuracy: 0.4342 - loss: 1.5358 - val_accuracy: 0.4516 - val_loss: 1.5223\n",
            "Epoch 83/100\n",
            "\u001b[1m1250/1250\u001b[0m \u001b[32m━━━━━━━━━━━━━━━━━━━━\u001b[0m\u001b[37m\u001b[0m \u001b[1m10s\u001b[0m 8ms/step - accuracy: 0.4383 - loss: 1.5296 - val_accuracy: 0.4555 - val_loss: 1.5197\n",
            "Epoch 84/100\n",
            "\u001b[1m1250/1250\u001b[0m \u001b[32m━━━━━━━━━━━━━━━━━━━━\u001b[0m\u001b[37m\u001b[0m \u001b[1m20s\u001b[0m 8ms/step - accuracy: 0.4423 - loss: 1.5241 - val_accuracy: 0.4509 - val_loss: 1.5282\n",
            "Epoch 85/100\n",
            "\u001b[1m1250/1250\u001b[0m \u001b[32m━━━━━━━━━━━━━━━━━━━━\u001b[0m\u001b[37m\u001b[0m \u001b[1m10s\u001b[0m 8ms/step - accuracy: 0.4414 - loss: 1.5161 - val_accuracy: 0.4547 - val_loss: 1.5222\n",
            "Epoch 86/100\n",
            "\u001b[1m1250/1250\u001b[0m \u001b[32m━━━━━━━━━━━━━━━━━━━━\u001b[0m\u001b[37m\u001b[0m \u001b[1m10s\u001b[0m 8ms/step - accuracy: 0.4398 - loss: 1.5268 - val_accuracy: 0.4578 - val_loss: 1.5239\n",
            "Epoch 87/100\n",
            "\u001b[1m1250/1250\u001b[0m \u001b[32m━━━━━━━━━━━━━━━━━━━━\u001b[0m\u001b[37m\u001b[0m \u001b[1m11s\u001b[0m 9ms/step - accuracy: 0.4481 - loss: 1.5115 - val_accuracy: 0.4514 - val_loss: 1.5246\n",
            "Epoch 88/100\n",
            "\u001b[1m1250/1250\u001b[0m \u001b[32m━━━━━━━━━━━━━━━━━━━━\u001b[0m\u001b[37m\u001b[0m \u001b[1m20s\u001b[0m 8ms/step - accuracy: 0.4469 - loss: 1.5081 - val_accuracy: 0.4500 - val_loss: 1.5328\n",
            "Epoch 89/100\n",
            "\u001b[1m1250/1250\u001b[0m \u001b[32m━━━━━━━━━━━━━━━━━━━━\u001b[0m\u001b[37m\u001b[0m \u001b[1m10s\u001b[0m 8ms/step - accuracy: 0.4427 - loss: 1.5240 - val_accuracy: 0.4560 - val_loss: 1.5135\n",
            "Epoch 90/100\n",
            "\u001b[1m1250/1250\u001b[0m \u001b[32m━━━━━━━━━━━━━━━━━━━━\u001b[0m\u001b[37m\u001b[0m \u001b[1m10s\u001b[0m 8ms/step - accuracy: 0.4463 - loss: 1.5125 - val_accuracy: 0.4555 - val_loss: 1.5160\n",
            "Epoch 91/100\n",
            "\u001b[1m1250/1250\u001b[0m \u001b[32m━━━━━━━━━━━━━━━━━━━━\u001b[0m\u001b[37m\u001b[0m \u001b[1m9s\u001b[0m 7ms/step - accuracy: 0.4499 - loss: 1.4909 - val_accuracy: 0.4566 - val_loss: 1.5135\n",
            "Epoch 92/100\n",
            "\u001b[1m1250/1250\u001b[0m \u001b[32m━━━━━━━━━━━━━━━━━━━━\u001b[0m\u001b[37m\u001b[0m \u001b[1m10s\u001b[0m 8ms/step - accuracy: 0.4486 - loss: 1.5028 - val_accuracy: 0.4499 - val_loss: 1.5299\n",
            "Epoch 93/100\n",
            "\u001b[1m1250/1250\u001b[0m \u001b[32m━━━━━━━━━━━━━━━━━━━━\u001b[0m\u001b[37m\u001b[0m \u001b[1m10s\u001b[0m 8ms/step - accuracy: 0.4434 - loss: 1.5099 - val_accuracy: 0.4542 - val_loss: 1.5111\n",
            "Epoch 94/100\n",
            "\u001b[1m1250/1250\u001b[0m \u001b[32m━━━━━━━━━━━━━━━━━━━━\u001b[0m\u001b[37m\u001b[0m \u001b[1m10s\u001b[0m 8ms/step - accuracy: 0.4488 - loss: 1.5036 - val_accuracy: 0.4554 - val_loss: 1.5171\n",
            "Epoch 95/100\n",
            "\u001b[1m1250/1250\u001b[0m \u001b[32m━━━━━━━━━━━━━━━━━━━━\u001b[0m\u001b[37m\u001b[0m \u001b[1m10s\u001b[0m 8ms/step - accuracy: 0.4553 - loss: 1.4925 - val_accuracy: 0.4602 - val_loss: 1.5067\n",
            "Epoch 96/100\n",
            "\u001b[1m1250/1250\u001b[0m \u001b[32m━━━━━━━━━━━━━━━━━━━━\u001b[0m\u001b[37m\u001b[0m \u001b[1m10s\u001b[0m 8ms/step - accuracy: 0.4494 - loss: 1.4864 - val_accuracy: 0.4560 - val_loss: 1.5150\n",
            "Epoch 97/100\n",
            "\u001b[1m1250/1250\u001b[0m \u001b[32m━━━━━━━━━━━━━━━━━━━━\u001b[0m\u001b[37m\u001b[0m \u001b[1m11s\u001b[0m 8ms/step - accuracy: 0.4542 - loss: 1.4905 - val_accuracy: 0.4591 - val_loss: 1.5092\n",
            "Epoch 98/100\n",
            "\u001b[1m1250/1250\u001b[0m \u001b[32m━━━━━━━━━━━━━━━━━━━━\u001b[0m\u001b[37m\u001b[0m \u001b[1m20s\u001b[0m 7ms/step - accuracy: 0.4518 - loss: 1.4908 - val_accuracy: 0.4582 - val_loss: 1.5143\n",
            "Epoch 99/100\n",
            "\u001b[1m1250/1250\u001b[0m \u001b[32m━━━━━━━━━━━━━━━━━━━━\u001b[0m\u001b[37m\u001b[0m \u001b[1m10s\u001b[0m 8ms/step - accuracy: 0.4611 - loss: 1.4929 - val_accuracy: 0.4588 - val_loss: 1.5046\n",
            "Epoch 100/100\n",
            "\u001b[1m1250/1250\u001b[0m \u001b[32m━━━━━━━━━━━━━━━━━━━━\u001b[0m\u001b[37m\u001b[0m \u001b[1m10s\u001b[0m 8ms/step - accuracy: 0.4625 - loss: 1.4879 - val_accuracy: 0.4583 - val_loss: 1.5100\n",
            "Final Validation Accuracy: 0.4602\n",
            "\n"
          ]
        }
      ]
    },
    {
      "cell_type": "markdown",
      "source": [
        "We've got validation accuracy of 46% with training accuracy of about same rate too. That means that the model is not overfitting anymore and the accuracy is about same as it was with just Batch Normalization. Even though 46% is still pretty low, it seems like it will be harder to achieve much better results with out DNN architecture. So let's save the model and move on to evaluating it on the test set."
      ],
      "metadata": {
        "id": "qFOepLZnoqok"
      }
    },
    {
      "cell_type": "code",
      "source": [
        "dnn_dropout.save('/content/drive/My Drive/dnn_dropout.keras')"
      ],
      "metadata": {
        "id": "YmmvqSszpcOe"
      },
      "execution_count": 19,
      "outputs": []
    },
    {
      "cell_type": "markdown",
      "source": [
        "### Deep and Wide Neural Network"
      ],
      "metadata": {
        "id": "-Fn_W0p56Uq_"
      }
    },
    {
      "cell_type": "code",
      "source": [
        "wide_branch = keras.models.Sequential([\n",
        "    keras.layers.Dense(units=200, activation='swish', kernel_initializer='he_normal'),\n",
        "    keras.layers.BatchNormalization(),\n",
        "    keras.layers.Dense(units=150, activation='swish', kernel_initializer='he_normal'),\n",
        "    keras.layers.BatchNormalization()\n",
        "])\n",
        "\n",
        "deep_branch = keras.models.Sequential()\n",
        "\n",
        "for _ in range(20):\n",
        "    deep_branch.add(keras.layers.Dense(units=50, activation='swish', kernel_initializer='he_normal'))\n",
        "    deep_branch.add(keras.layers.BatchNormalization())\n",
        "\n",
        "input_layer = keras.layers.Input(shape=(32, 32, 3))\n",
        "input_flatten = keras.layers.Flatten()(input_layer)\n",
        "\n",
        "wide_output = wide_branch(input_flatten)\n",
        "deep_output = deep_branch(input_flatten)\n",
        "\n",
        "merged = keras.layers.concatenate([wide_output, deep_output])\n",
        "\n",
        "final_output = keras.layers.Dense(units=50, activation='swish', kernel_initializer='he_normal')(merged)\n",
        "final_output = keras.layers.BatchNormalization()(final_output)\n",
        "output_layer = keras.layers.Dense(10, activation='softmax')(final_output)\n",
        "\n",
        "dwnn = keras.models.Model(inputs=[input_layer], outputs=[output_layer])\n",
        "\n",
        "dwnn.compile(\n",
        "    loss='sparse_categorical_crossentropy',\n",
        "    optimizer=keras.optimizers.Nadam(learning_rate=0.0001),\n",
        "    metrics=['accuracy']\n",
        ")\n",
        "\n",
        "early_stopping = keras.callbacks.EarlyStopping(\n",
        "    monitor='val_accuracy',\n",
        "    patience=10,\n",
        "    restore_best_weights=True\n",
        ")\n",
        "\n",
        "history_dwnn = dwnn.fit(\n",
        "    X_train, y_train,\n",
        "    validation_split=0.2,\n",
        "    epochs=100,\n",
        "    callbacks=[early_stopping]\n",
        ")"
      ],
      "metadata": {
        "colab": {
          "base_uri": "https://localhost:8080/"
        },
        "id": "3rKXFf6h7D_y",
        "outputId": "8b8c667f-9b4e-42fe-d305-f8cb1b8ece07"
      },
      "execution_count": null,
      "outputs": [
        {
          "output_type": "stream",
          "name": "stdout",
          "text": [
            "Epoch 1/100\n"
          ]
        },
        {
          "output_type": "stream",
          "name": "stderr",
          "text": [
            "/usr/local/lib/python3.10/dist-packages/keras/src/models/functional.py:238: UserWarning: The structure of `inputs` doesn't match the expected structure.\n",
            "Expected: ['keras_tensor_10515']\n",
            "Received: inputs=Tensor(shape=(32, 32, 32, 3))\n",
            "  warnings.warn(msg)\n"
          ]
        },
        {
          "output_type": "stream",
          "name": "stdout",
          "text": [
            "\u001b[1m1248/1250\u001b[0m \u001b[32m━━━━━━━━━━━━━━━━━━━\u001b[0m\u001b[37m━\u001b[0m \u001b[1m0s\u001b[0m 29ms/step - accuracy: 0.2737 - loss: 2.1212"
          ]
        },
        {
          "output_type": "stream",
          "name": "stderr",
          "text": [
            "/usr/local/lib/python3.10/dist-packages/keras/src/models/functional.py:238: UserWarning: The structure of `inputs` doesn't match the expected structure.\n",
            "Expected: ['keras_tensor_10515']\n",
            "Received: inputs=Tensor(shape=(None, 32, 32, 3))\n",
            "  warnings.warn(msg)\n"
          ]
        },
        {
          "output_type": "stream",
          "name": "stdout",
          "text": [
            "\b\b\b\b\b\b\b\b\b\b\b\b\b\b\b\b\b\b\b\b\b\b\b\b\b\b\b\b\b\b\b\b\b\b\b\b\b\b\b\b\b\b\b\b\b\b\b\b\b\b\b\b\b\b\b\b\b\b\b\b\b\b\b\b\b\b\b\b\b\b\b\b\b\b\b\b\b\r\u001b[1m1250/1250\u001b[0m \u001b[32m━━━━━━━━━━━━━━━━━━━━\u001b[0m\u001b[37m\u001b[0m \u001b[1m97s\u001b[0m 32ms/step - accuracy: 0.2738 - loss: 2.1208 - val_accuracy: 0.3445 - val_loss: 1.9671\n",
            "Epoch 2/100\n",
            "\u001b[1m1250/1250\u001b[0m \u001b[32m━━━━━━━━━━━━━━━━━━━━\u001b[0m\u001b[37m\u001b[0m \u001b[1m38s\u001b[0m 29ms/step - accuracy: 0.3961 - loss: 1.7181 - val_accuracy: 0.3689 - val_loss: 1.8944\n",
            "Epoch 3/100\n",
            "\u001b[1m1250/1250\u001b[0m \u001b[32m━━━━━━━━━━━━━━━━━━━━\u001b[0m\u001b[37m\u001b[0m \u001b[1m40s\u001b[0m 28ms/step - accuracy: 0.4262 - loss: 1.6112 - val_accuracy: 0.3774 - val_loss: 2.1635\n",
            "Epoch 4/100\n",
            "\u001b[1m1250/1250\u001b[0m \u001b[32m━━━━━━━━━━━━━━━━━━━━\u001b[0m\u001b[37m\u001b[0m \u001b[1m41s\u001b[0m 28ms/step - accuracy: 0.4486 - loss: 1.5551 - val_accuracy: 0.4167 - val_loss: 1.9062\n",
            "Epoch 5/100\n",
            "\u001b[1m1250/1250\u001b[0m \u001b[32m━━━━━━━━━━━━━━━━━━━━\u001b[0m\u001b[37m\u001b[0m \u001b[1m37s\u001b[0m 29ms/step - accuracy: 0.4630 - loss: 1.5130 - val_accuracy: 0.3925 - val_loss: 2.1340\n",
            "Epoch 6/100\n",
            "\u001b[1m1250/1250\u001b[0m \u001b[32m━━━━━━━━━━━━━━━━━━━━\u001b[0m\u001b[37m\u001b[0m \u001b[1m40s\u001b[0m 29ms/step - accuracy: 0.4839 - loss: 1.4591 - val_accuracy: 0.4388 - val_loss: 1.9294\n",
            "Epoch 7/100\n",
            "\u001b[1m1250/1250\u001b[0m \u001b[32m━━━━━━━━━━━━━━━━━━━━\u001b[0m\u001b[37m\u001b[0m \u001b[1m41s\u001b[0m 29ms/step - accuracy: 0.4958 - loss: 1.4200 - val_accuracy: 0.4437 - val_loss: 1.8996\n",
            "Epoch 8/100\n",
            "\u001b[1m1250/1250\u001b[0m \u001b[32m━━━━━━━━━━━━━━━━━━━━\u001b[0m\u001b[37m\u001b[0m \u001b[1m46s\u001b[0m 33ms/step - accuracy: 0.5050 - loss: 1.3968 - val_accuracy: 0.4609 - val_loss: 1.8379\n",
            "Epoch 9/100\n",
            "\u001b[1m1250/1250\u001b[0m \u001b[32m━━━━━━━━━━━━━━━━━━━━\u001b[0m\u001b[37m\u001b[0m \u001b[1m38s\u001b[0m 30ms/step - accuracy: 0.5128 - loss: 1.3671 - val_accuracy: 0.4545 - val_loss: 1.9556\n",
            "Epoch 10/100\n",
            "\u001b[1m1250/1250\u001b[0m \u001b[32m━━━━━━━━━━━━━━━━━━━━\u001b[0m\u001b[37m\u001b[0m \u001b[1m39s\u001b[0m 29ms/step - accuracy: 0.5197 - loss: 1.3470 - val_accuracy: 0.4413 - val_loss: 2.1044\n",
            "Epoch 11/100\n",
            "\u001b[1m1250/1250\u001b[0m \u001b[32m━━━━━━━━━━━━━━━━━━━━\u001b[0m\u001b[37m\u001b[0m \u001b[1m41s\u001b[0m 29ms/step - accuracy: 0.5268 - loss: 1.3303 - val_accuracy: 0.4426 - val_loss: 2.2126\n",
            "Epoch 12/100\n",
            "\u001b[1m1250/1250\u001b[0m \u001b[32m━━━━━━━━━━━━━━━━━━━━\u001b[0m\u001b[37m\u001b[0m \u001b[1m40s\u001b[0m 28ms/step - accuracy: 0.5371 - loss: 1.3060 - val_accuracy: 0.4652 - val_loss: 2.2526\n",
            "Epoch 13/100\n",
            "\u001b[1m1250/1250\u001b[0m \u001b[32m━━━━━━━━━━━━━━━━━━━━\u001b[0m\u001b[37m\u001b[0m \u001b[1m41s\u001b[0m 28ms/step - accuracy: 0.5437 - loss: 1.2897 - val_accuracy: 0.4788 - val_loss: 1.8464\n",
            "Epoch 14/100\n",
            "\u001b[1m1250/1250\u001b[0m \u001b[32m━━━━━━━━━━━━━━━━━━━━\u001b[0m\u001b[37m\u001b[0m \u001b[1m36s\u001b[0m 29ms/step - accuracy: 0.5435 - loss: 1.2879 - val_accuracy: 0.4730 - val_loss: 1.9843\n",
            "Epoch 15/100\n",
            "\u001b[1m1250/1250\u001b[0m \u001b[32m━━━━━━━━━━━━━━━━━━━━\u001b[0m\u001b[37m\u001b[0m \u001b[1m40s\u001b[0m 28ms/step - accuracy: 0.5511 - loss: 1.2641 - val_accuracy: 0.4337 - val_loss: 2.5118\n",
            "Epoch 16/100\n",
            "\u001b[1m1250/1250\u001b[0m \u001b[32m━━━━━━━━━━━━━━━━━━━━\u001b[0m\u001b[37m\u001b[0m \u001b[1m42s\u001b[0m 29ms/step - accuracy: 0.5568 - loss: 1.2515 - val_accuracy: 0.4769 - val_loss: 2.3671\n",
            "Epoch 17/100\n",
            "\u001b[1m1250/1250\u001b[0m \u001b[32m━━━━━━━━━━━━━━━━━━━━\u001b[0m\u001b[37m\u001b[0m \u001b[1m41s\u001b[0m 29ms/step - accuracy: 0.5671 - loss: 1.2234 - val_accuracy: 0.4855 - val_loss: 2.3150\n",
            "Epoch 18/100\n",
            "\u001b[1m1250/1250\u001b[0m \u001b[32m━━━━━━━━━━━━━━━━━━━━\u001b[0m\u001b[37m\u001b[0m \u001b[1m43s\u001b[0m 30ms/step - accuracy: 0.5714 - loss: 1.1983 - val_accuracy: 0.4804 - val_loss: 2.3893\n",
            "Epoch 19/100\n",
            "\u001b[1m1250/1250\u001b[0m \u001b[32m━━━━━━━━━━━━━━━━━━━━\u001b[0m\u001b[37m\u001b[0m \u001b[1m36s\u001b[0m 29ms/step - accuracy: 0.5771 - loss: 1.1982 - val_accuracy: 0.4507 - val_loss: 2.4320\n",
            "Epoch 20/100\n",
            "\u001b[1m1250/1250\u001b[0m \u001b[32m━━━━━━━━━━━━━━━━━━━━\u001b[0m\u001b[37m\u001b[0m \u001b[1m41s\u001b[0m 29ms/step - accuracy: 0.5754 - loss: 1.1945 - val_accuracy: 0.4746 - val_loss: 2.3382\n",
            "Epoch 21/100\n",
            "\u001b[1m1250/1250\u001b[0m \u001b[32m━━━━━━━━━━━━━━━━━━━━\u001b[0m\u001b[37m\u001b[0m \u001b[1m37s\u001b[0m 29ms/step - accuracy: 0.5776 - loss: 1.1903 - val_accuracy: 0.4808 - val_loss: 2.2960\n",
            "Epoch 22/100\n",
            "\u001b[1m1250/1250\u001b[0m \u001b[32m━━━━━━━━━━━━━━━━━━━━\u001b[0m\u001b[37m\u001b[0m \u001b[1m40s\u001b[0m 28ms/step - accuracy: 0.5952 - loss: 1.1469 - val_accuracy: 0.4563 - val_loss: 2.3315\n",
            "Epoch 23/100\n",
            "\u001b[1m1250/1250\u001b[0m \u001b[32m━━━━━━━━━━━━━━━━━━━━\u001b[0m\u001b[37m\u001b[0m \u001b[1m42s\u001b[0m 29ms/step - accuracy: 0.5963 - loss: 1.1492 - val_accuracy: 0.4977 - val_loss: 2.0862\n",
            "Epoch 24/100\n",
            "\u001b[1m1250/1250\u001b[0m \u001b[32m━━━━━━━━━━━━━━━━━━━━\u001b[0m\u001b[37m\u001b[0m \u001b[1m41s\u001b[0m 29ms/step - accuracy: 0.6001 - loss: 1.1361 - val_accuracy: 0.4711 - val_loss: 2.3035\n",
            "Epoch 25/100\n",
            "\u001b[1m1250/1250\u001b[0m \u001b[32m━━━━━━━━━━━━━━━━━━━━\u001b[0m\u001b[37m\u001b[0m \u001b[1m36s\u001b[0m 29ms/step - accuracy: 0.6012 - loss: 1.1230 - val_accuracy: 0.4762 - val_loss: 2.2361\n",
            "Epoch 26/100\n",
            "\u001b[1m1250/1250\u001b[0m \u001b[32m━━━━━━━━━━━━━━━━━━━━\u001b[0m\u001b[37m\u001b[0m \u001b[1m41s\u001b[0m 29ms/step - accuracy: 0.6101 - loss: 1.1137 - val_accuracy: 0.4532 - val_loss: 2.5251\n",
            "Epoch 27/100\n",
            "\u001b[1m1250/1250\u001b[0m \u001b[32m━━━━━━━━━━━━━━━━━━━━\u001b[0m\u001b[37m\u001b[0m \u001b[1m41s\u001b[0m 29ms/step - accuracy: 0.6118 - loss: 1.0989 - val_accuracy: 0.4692 - val_loss: 2.3189\n",
            "Epoch 28/100\n",
            "\u001b[1m1250/1250\u001b[0m \u001b[32m━━━━━━━━━━━━━━━━━━━━\u001b[0m\u001b[37m\u001b[0m \u001b[1m41s\u001b[0m 29ms/step - accuracy: 0.6191 - loss: 1.0855 - val_accuracy: 0.4821 - val_loss: 2.5650\n",
            "Epoch 29/100\n",
            "\u001b[1m1250/1250\u001b[0m \u001b[32m━━━━━━━━━━━━━━━━━━━━\u001b[0m\u001b[37m\u001b[0m \u001b[1m41s\u001b[0m 29ms/step - accuracy: 0.6185 - loss: 1.0794 - val_accuracy: 0.4734 - val_loss: 2.5621\n",
            "Epoch 30/100\n",
            "\u001b[1m1250/1250\u001b[0m \u001b[32m━━━━━━━━━━━━━━━━━━━━\u001b[0m\u001b[37m\u001b[0m \u001b[1m36s\u001b[0m 29ms/step - accuracy: 0.6226 - loss: 1.0625 - val_accuracy: 0.4809 - val_loss: 2.6630\n",
            "Epoch 31/100\n",
            "\u001b[1m1250/1250\u001b[0m \u001b[32m━━━━━━━━━━━━━━━━━━━━\u001b[0m\u001b[37m\u001b[0m \u001b[1m41s\u001b[0m 29ms/step - accuracy: 0.6182 - loss: 1.0747 - val_accuracy: 0.4431 - val_loss: 2.5581\n",
            "Epoch 32/100\n",
            "\u001b[1m1250/1250\u001b[0m \u001b[32m━━━━━━━━━━━━━━━━━━━━\u001b[0m\u001b[37m\u001b[0m \u001b[1m40s\u001b[0m 28ms/step - accuracy: 0.6284 - loss: 1.0390 - val_accuracy: 0.4737 - val_loss: 2.7907\n",
            "Epoch 33/100\n",
            "\u001b[1m1250/1250\u001b[0m \u001b[32m━━━━━━━━━━━━━━━━━━━━\u001b[0m\u001b[37m\u001b[0m \u001b[1m36s\u001b[0m 29ms/step - accuracy: 0.6271 - loss: 1.0510 - val_accuracy: 0.4875 - val_loss: 2.5245\n"
          ]
        }
      ]
    },
    {
      "cell_type": "code",
      "source": [
        "wide_branch = keras.models.Sequential([\n",
        "    keras.layers.Dense(units=200, activation='swish', kernel_initializer='he_normal'),\n",
        "    keras.layers.BatchNormalization(),\n",
        "    keras.layers.Dropout(0.2),\n",
        "    keras.layers.Dense(units=150, activation='swish', kernel_initializer='he_normal'),\n",
        "    keras.layers.BatchNormalization(),\n",
        "    keras.layers.Dropout(0.2)\n",
        "])\n",
        "\n",
        "deep_branch = keras.models.Sequential()\n",
        "\n",
        "for _ in range(20):\n",
        "    deep_branch.add(keras.layers.Dense(units=50, activation='swish', kernel_initializer='he_normal'))\n",
        "    deep_branch.add(keras.layers.BatchNormalization())\n",
        "    deep_branch.add(keras.layers.Dropout(0.2))\n",
        "\n",
        "input_layer = keras.layers.Input(shape=(32, 32, 3))\n",
        "input_flatten = keras.layers.Flatten()(input_layer)\n",
        "\n",
        "wide_output = wide_branch(input_flatten)\n",
        "deep_output = deep_branch(input_flatten)\n",
        "\n",
        "merged = keras.layers.concatenate([wide_output, deep_output])\n",
        "\n",
        "final_output = keras.layers.Dense(units=50, activation='swish', kernel_initializer='he_normal')(merged)\n",
        "final_output = keras.layers.BatchNormalization()(final_output)\n",
        "final_output = keras.layers.Dropout(0.2)(final_output)\n",
        "output_layer = keras.layers.Dense(10, activation='softmax')(final_output)\n",
        "\n",
        "dwnn = keras.models.Model(inputs=[input_layer], outputs=[output_layer])\n",
        "\n",
        "dwnn.compile(\n",
        "    loss='sparse_categorical_crossentropy',\n",
        "    optimizer=keras.optimizers.Nadam(learning_rate=0.0001),\n",
        "    metrics=['accuracy']\n",
        ")\n",
        "\n",
        "early_stopping = keras.callbacks.EarlyStopping(\n",
        "    monitor='val_accuracy',\n",
        "    patience=10,\n",
        "    restore_best_weights=True\n",
        ")\n",
        "\n",
        "history_dwnn = dwnn.fit(\n",
        "    X_train, y_train,\n",
        "    validation_split=0.2,\n",
        "    epochs=100,\n",
        "    callbacks=[early_stopping]\n",
        ")"
      ],
      "metadata": {
        "colab": {
          "base_uri": "https://localhost:8080/"
        },
        "id": "nsjG2Ou0H8gZ",
        "outputId": "b03b82cf-6b6c-4844-f281-f46a158d1c57"
      },
      "execution_count": null,
      "outputs": [
        {
          "output_type": "stream",
          "name": "stdout",
          "text": [
            "Epoch 1/100\n"
          ]
        },
        {
          "output_type": "stream",
          "name": "stderr",
          "text": [
            "/usr/local/lib/python3.10/dist-packages/keras/src/models/functional.py:238: UserWarning: The structure of `inputs` doesn't match the expected structure.\n",
            "Expected: ['keras_tensor_10569']\n",
            "Received: inputs=Tensor(shape=(32, 32, 32, 3))\n",
            "  warnings.warn(msg)\n"
          ]
        },
        {
          "output_type": "stream",
          "name": "stdout",
          "text": [
            "\u001b[1m1250/1250\u001b[0m \u001b[32m━━━━━━━━━━━━━━━━━━━━\u001b[0m\u001b[37m\u001b[0m \u001b[1m0s\u001b[0m 29ms/step - accuracy: 0.2089 - loss: 2.4235"
          ]
        },
        {
          "output_type": "stream",
          "name": "stderr",
          "text": [
            "/usr/local/lib/python3.10/dist-packages/keras/src/models/functional.py:238: UserWarning: The structure of `inputs` doesn't match the expected structure.\n",
            "Expected: ['keras_tensor_10569']\n",
            "Received: inputs=Tensor(shape=(None, 32, 32, 3))\n",
            "  warnings.warn(msg)\n"
          ]
        },
        {
          "output_type": "stream",
          "name": "stdout",
          "text": [
            "\b\b\b\b\b\b\b\b\b\b\b\b\b\b\b\b\b\b\b\b\b\b\b\b\b\b\b\b\b\b\b\b\b\b\b\b\b\b\b\b\b\b\b\b\b\b\b\b\b\b\b\b\b\b\b\b\b\b\b\b\b\b\b\b\b\b\b\b\b\b\b\b\b\b\b\b\b\r\u001b[1m1250/1250\u001b[0m \u001b[32m━━━━━━━━━━━━━━━━━━━━\u001b[0m\u001b[37m\u001b[0m \u001b[1m67s\u001b[0m 32ms/step - accuracy: 0.2089 - loss: 2.4233 - val_accuracy: 0.3600 - val_loss: 1.9791\n",
            "Epoch 2/100\n",
            "\u001b[1m1250/1250\u001b[0m \u001b[32m━━━━━━━━━━━━━━━━━━━━\u001b[0m\u001b[37m\u001b[0m \u001b[1m41s\u001b[0m 33ms/step - accuracy: 0.2964 - loss: 1.9960 - val_accuracy: 0.3061 - val_loss: 2.1511\n",
            "Epoch 3/100\n",
            "\u001b[1m1250/1250\u001b[0m \u001b[32m━━━━━━━━━━━━━━━━━━━━\u001b[0m\u001b[37m\u001b[0m \u001b[1m42s\u001b[0m 33ms/step - accuracy: 0.3376 - loss: 1.8722 - val_accuracy: 0.3829 - val_loss: 1.8108\n",
            "Epoch 4/100\n",
            "\u001b[1m1250/1250\u001b[0m \u001b[32m━━━━━━━━━━━━━━━━━━━━\u001b[0m\u001b[37m\u001b[0m \u001b[1m41s\u001b[0m 33ms/step - accuracy: 0.3557 - loss: 1.8077 - val_accuracy: 0.3983 - val_loss: 1.8355\n",
            "Epoch 5/100\n",
            "\u001b[1m1250/1250\u001b[0m \u001b[32m━━━━━━━━━━━━━━━━━━━━\u001b[0m\u001b[37m\u001b[0m \u001b[1m82s\u001b[0m 33ms/step - accuracy: 0.3644 - loss: 1.7733 - val_accuracy: 0.3939 - val_loss: 1.9350\n",
            "Epoch 6/100\n",
            "\u001b[1m1250/1250\u001b[0m \u001b[32m━━━━━━━━━━━━━━━━━━━━\u001b[0m\u001b[37m\u001b[0m \u001b[1m39s\u001b[0m 31ms/step - accuracy: 0.3685 - loss: 1.7558 - val_accuracy: 0.4229 - val_loss: 1.8007\n",
            "Epoch 7/100\n",
            "\u001b[1m1250/1250\u001b[0m \u001b[32m━━━━━━━━━━━━━━━━━━━━\u001b[0m\u001b[37m\u001b[0m \u001b[1m41s\u001b[0m 32ms/step - accuracy: 0.3740 - loss: 1.7433 - val_accuracy: 0.4064 - val_loss: 1.8651\n",
            "Epoch 8/100\n",
            "\u001b[1m1250/1250\u001b[0m \u001b[32m━━━━━━━━━━━━━━━━━━━━\u001b[0m\u001b[37m\u001b[0m \u001b[1m43s\u001b[0m 33ms/step - accuracy: 0.3804 - loss: 1.7235 - val_accuracy: 0.4160 - val_loss: 1.8906\n",
            "Epoch 9/100\n",
            "\u001b[1m1250/1250\u001b[0m \u001b[32m━━━━━━━━━━━━━━━━━━━━\u001b[0m\u001b[37m\u001b[0m \u001b[1m81s\u001b[0m 33ms/step - accuracy: 0.3929 - loss: 1.6988 - val_accuracy: 0.4180 - val_loss: 1.9903\n",
            "Epoch 10/100\n",
            "\u001b[1m1250/1250\u001b[0m \u001b[32m━━━━━━━━━━━━━━━━━━━━\u001b[0m\u001b[37m\u001b[0m \u001b[1m40s\u001b[0m 32ms/step - accuracy: 0.3980 - loss: 1.6825 - val_accuracy: 0.4381 - val_loss: 1.9274\n",
            "Epoch 11/100\n",
            "\u001b[1m1250/1250\u001b[0m \u001b[32m━━━━━━━━━━━━━━━━━━━━\u001b[0m\u001b[37m\u001b[0m \u001b[1m41s\u001b[0m 32ms/step - accuracy: 0.4050 - loss: 1.6711 - val_accuracy: 0.4377 - val_loss: 2.0092\n",
            "Epoch 12/100\n",
            "\u001b[1m1250/1250\u001b[0m \u001b[32m━━━━━━━━━━━━━━━━━━━━\u001b[0m\u001b[37m\u001b[0m \u001b[1m41s\u001b[0m 33ms/step - accuracy: 0.4109 - loss: 1.6529 - val_accuracy: 0.4277 - val_loss: 2.1067\n",
            "Epoch 13/100\n",
            "\u001b[1m1250/1250\u001b[0m \u001b[32m━━━━━━━━━━━━━━━━━━━━\u001b[0m\u001b[37m\u001b[0m \u001b[1m43s\u001b[0m 34ms/step - accuracy: 0.4147 - loss: 1.6366 - val_accuracy: 0.4476 - val_loss: 2.1185\n",
            "Epoch 14/100\n",
            "\u001b[1m1250/1250\u001b[0m \u001b[32m━━━━━━━━━━━━━━━━━━━━\u001b[0m\u001b[37m\u001b[0m \u001b[1m40s\u001b[0m 32ms/step - accuracy: 0.4153 - loss: 1.6571 - val_accuracy: 0.4449 - val_loss: 1.7584\n",
            "Epoch 15/100\n",
            "\u001b[1m1250/1250\u001b[0m \u001b[32m━━━━━━━━━━━━━━━━━━━━\u001b[0m\u001b[37m\u001b[0m \u001b[1m39s\u001b[0m 31ms/step - accuracy: 0.4122 - loss: 1.6412 - val_accuracy: 0.4324 - val_loss: 2.0923\n",
            "Epoch 16/100\n",
            "\u001b[1m1250/1250\u001b[0m \u001b[32m━━━━━━━━━━━━━━━━━━━━\u001b[0m\u001b[37m\u001b[0m \u001b[1m42s\u001b[0m 32ms/step - accuracy: 0.4213 - loss: 1.6247 - val_accuracy: 0.4274 - val_loss: 1.8276\n",
            "Epoch 17/100\n",
            "\u001b[1m1250/1250\u001b[0m \u001b[32m━━━━━━━━━━━━━━━━━━━━\u001b[0m\u001b[37m\u001b[0m \u001b[1m41s\u001b[0m 33ms/step - accuracy: 0.4216 - loss: 1.6210 - val_accuracy: 0.4490 - val_loss: 1.9932\n",
            "Epoch 18/100\n",
            "\u001b[1m1250/1250\u001b[0m \u001b[32m━━━━━━━━━━━━━━━━━━━━\u001b[0m\u001b[37m\u001b[0m \u001b[1m83s\u001b[0m 34ms/step - accuracy: 0.4260 - loss: 1.6017 - val_accuracy: 0.4491 - val_loss: 1.9609\n",
            "Epoch 19/100\n",
            "\u001b[1m1250/1250\u001b[0m \u001b[32m━━━━━━━━━━━━━━━━━━━━\u001b[0m\u001b[37m\u001b[0m \u001b[1m81s\u001b[0m 33ms/step - accuracy: 0.4275 - loss: 1.5989 - val_accuracy: 0.4459 - val_loss: 1.7505\n",
            "Epoch 20/100\n",
            "\u001b[1m1250/1250\u001b[0m \u001b[32m━━━━━━━━━━━━━━━━━━━━\u001b[0m\u001b[37m\u001b[0m \u001b[1m40s\u001b[0m 32ms/step - accuracy: 0.4300 - loss: 1.5961 - val_accuracy: 0.4360 - val_loss: 1.8267\n",
            "Epoch 21/100\n",
            "\u001b[1m1250/1250\u001b[0m \u001b[32m━━━━━━━━━━━━━━━━━━━━\u001b[0m\u001b[37m\u001b[0m \u001b[1m40s\u001b[0m 31ms/step - accuracy: 0.4361 - loss: 1.5936 - val_accuracy: 0.4218 - val_loss: 1.9350\n",
            "Epoch 22/100\n",
            "\u001b[1m1250/1250\u001b[0m \u001b[32m━━━━━━━━━━━━━━━━━━━━\u001b[0m\u001b[37m\u001b[0m \u001b[1m41s\u001b[0m 32ms/step - accuracy: 0.4335 - loss: 1.5922 - val_accuracy: 0.4261 - val_loss: 1.8547\n",
            "Epoch 23/100\n",
            "\u001b[1m1250/1250\u001b[0m \u001b[32m━━━━━━━━━━━━━━━━━━━━\u001b[0m\u001b[37m\u001b[0m \u001b[1m43s\u001b[0m 34ms/step - accuracy: 0.4287 - loss: 1.6102 - val_accuracy: 0.4364 - val_loss: 1.9105\n",
            "Epoch 24/100\n",
            "\u001b[1m1250/1250\u001b[0m \u001b[32m━━━━━━━━━━━━━━━━━━━━\u001b[0m\u001b[37m\u001b[0m \u001b[1m79s\u001b[0m 32ms/step - accuracy: 0.4262 - loss: 1.6102 - val_accuracy: 0.4333 - val_loss: 1.8696\n",
            "Epoch 25/100\n",
            "\u001b[1m1250/1250\u001b[0m \u001b[32m━━━━━━━━━━━━━━━━━━━━\u001b[0m\u001b[37m\u001b[0m \u001b[1m40s\u001b[0m 32ms/step - accuracy: 0.4323 - loss: 1.5997 - val_accuracy: 0.4427 - val_loss: 1.7589\n",
            "Epoch 26/100\n",
            "\u001b[1m1250/1250\u001b[0m \u001b[32m━━━━━━━━━━━━━━━━━━━━\u001b[0m\u001b[37m\u001b[0m \u001b[1m44s\u001b[0m 34ms/step - accuracy: 0.4346 - loss: 1.5923 - val_accuracy: 0.4461 - val_loss: 1.7027\n",
            "Epoch 27/100\n",
            "\u001b[1m1250/1250\u001b[0m \u001b[32m━━━━━━━━━━━━━━━━━━━━\u001b[0m\u001b[37m\u001b[0m \u001b[1m81s\u001b[0m 33ms/step - accuracy: 0.4314 - loss: 1.5982 - val_accuracy: 0.4583 - val_loss: 1.6737\n",
            "Epoch 28/100\n",
            "\u001b[1m1250/1250\u001b[0m \u001b[32m━━━━━━━━━━━━━━━━━━━━\u001b[0m\u001b[37m\u001b[0m \u001b[1m81s\u001b[0m 33ms/step - accuracy: 0.4416 - loss: 1.5721 - val_accuracy: 0.4721 - val_loss: 1.5875\n",
            "Epoch 29/100\n",
            "\u001b[1m1250/1250\u001b[0m \u001b[32m━━━━━━━━━━━━━━━━━━━━\u001b[0m\u001b[37m\u001b[0m \u001b[1m42s\u001b[0m 33ms/step - accuracy: 0.4410 - loss: 1.5681 - val_accuracy: 0.4644 - val_loss: 1.5800\n",
            "Epoch 30/100\n",
            "\u001b[1m1250/1250\u001b[0m \u001b[32m━━━━━━━━━━━━━━━━━━━━\u001b[0m\u001b[37m\u001b[0m \u001b[1m82s\u001b[0m 33ms/step - accuracy: 0.4444 - loss: 1.5497 - val_accuracy: 0.4720 - val_loss: 1.5412\n",
            "Epoch 31/100\n",
            "\u001b[1m1250/1250\u001b[0m \u001b[32m━━━━━━━━━━━━━━━━━━━━\u001b[0m\u001b[37m\u001b[0m \u001b[1m81s\u001b[0m 33ms/step - accuracy: 0.4461 - loss: 1.5664 - val_accuracy: 0.4668 - val_loss: 1.6225\n",
            "Epoch 32/100\n",
            "\u001b[1m1250/1250\u001b[0m \u001b[32m━━━━━━━━━━━━━━━━━━━━\u001b[0m\u001b[37m\u001b[0m \u001b[1m39s\u001b[0m 31ms/step - accuracy: 0.4438 - loss: 1.5624 - val_accuracy: 0.4638 - val_loss: 1.6052\n",
            "Epoch 33/100\n",
            "\u001b[1m1250/1250\u001b[0m \u001b[32m━━━━━━━━━━━━━━━━━━━━\u001b[0m\u001b[37m\u001b[0m \u001b[1m42s\u001b[0m 32ms/step - accuracy: 0.4453 - loss: 1.5487 - val_accuracy: 0.4693 - val_loss: 1.5789\n",
            "Epoch 34/100\n",
            "\u001b[1m1250/1250\u001b[0m \u001b[32m━━━━━━━━━━━━━━━━━━━━\u001b[0m\u001b[37m\u001b[0m \u001b[1m42s\u001b[0m 33ms/step - accuracy: 0.4529 - loss: 1.5420 - val_accuracy: 0.4531 - val_loss: 1.7935\n",
            "Epoch 35/100\n",
            "\u001b[1m1250/1250\u001b[0m \u001b[32m━━━━━━━━━━━━━━━━━━━━\u001b[0m\u001b[37m\u001b[0m \u001b[1m82s\u001b[0m 33ms/step - accuracy: 0.4551 - loss: 1.5395 - val_accuracy: 0.4826 - val_loss: 1.6007\n",
            "Epoch 36/100\n",
            "\u001b[1m1250/1250\u001b[0m \u001b[32m━━━━━━━━━━━━━━━━━━━━\u001b[0m\u001b[37m\u001b[0m \u001b[1m81s\u001b[0m 33ms/step - accuracy: 0.4547 - loss: 1.5303 - val_accuracy: 0.4603 - val_loss: 1.5635\n",
            "Epoch 37/100\n",
            "\u001b[1m1250/1250\u001b[0m \u001b[32m━━━━━━━━━━━━━━━━━━━━\u001b[0m\u001b[37m\u001b[0m \u001b[1m40s\u001b[0m 32ms/step - accuracy: 0.4542 - loss: 1.5299 - val_accuracy: 0.4718 - val_loss: 1.5299\n",
            "Epoch 38/100\n",
            "\u001b[1m1250/1250\u001b[0m \u001b[32m━━━━━━━━━━━━━━━━━━━━\u001b[0m\u001b[37m\u001b[0m \u001b[1m41s\u001b[0m 32ms/step - accuracy: 0.4572 - loss: 1.5252 - val_accuracy: 0.4621 - val_loss: 1.5434\n",
            "Epoch 39/100\n",
            "\u001b[1m1250/1250\u001b[0m \u001b[32m━━━━━━━━━━━━━━━━━━━━\u001b[0m\u001b[37m\u001b[0m \u001b[1m42s\u001b[0m 32ms/step - accuracy: 0.4542 - loss: 1.5247 - val_accuracy: 0.4696 - val_loss: 1.7011\n",
            "Epoch 40/100\n",
            "\u001b[1m1250/1250\u001b[0m \u001b[32m━━━━━━━━━━━━━━━━━━━━\u001b[0m\u001b[37m\u001b[0m \u001b[1m43s\u001b[0m 34ms/step - accuracy: 0.4507 - loss: 1.5288 - val_accuracy: 0.4650 - val_loss: 1.7847\n",
            "Epoch 41/100\n",
            "\u001b[1m1250/1250\u001b[0m \u001b[32m━━━━━━━━━━━━━━━━━━━━\u001b[0m\u001b[37m\u001b[0m \u001b[1m41s\u001b[0m 33ms/step - accuracy: 0.4585 - loss: 1.5294 - val_accuracy: 0.4675 - val_loss: 1.5903\n",
            "Epoch 42/100\n",
            "\u001b[1m1250/1250\u001b[0m \u001b[32m━━━━━━━━━━━━━━━━━━━━\u001b[0m\u001b[37m\u001b[0m \u001b[1m81s\u001b[0m 33ms/step - accuracy: 0.4659 - loss: 1.5120 - val_accuracy: 0.4794 - val_loss: 1.5326\n",
            "Epoch 43/100\n",
            "\u001b[1m1250/1250\u001b[0m \u001b[32m━━━━━━━━━━━━━━━━━━━━\u001b[0m\u001b[37m\u001b[0m \u001b[1m40s\u001b[0m 32ms/step - accuracy: 0.4579 - loss: 1.5142 - val_accuracy: 0.4680 - val_loss: 1.5871\n",
            "Epoch 44/100\n",
            "\u001b[1m1250/1250\u001b[0m \u001b[32m━━━━━━━━━━━━━━━━━━━━\u001b[0m\u001b[37m\u001b[0m \u001b[1m41s\u001b[0m 32ms/step - accuracy: 0.4632 - loss: 1.5096 - val_accuracy: 0.4464 - val_loss: 1.6350\n",
            "Epoch 45/100\n",
            "\u001b[1m1250/1250\u001b[0m \u001b[32m━━━━━━━━━━━━━━━━━━━━\u001b[0m\u001b[37m\u001b[0m \u001b[1m42s\u001b[0m 33ms/step - accuracy: 0.4575 - loss: 1.5185 - val_accuracy: 0.4764 - val_loss: 1.6623\n"
          ]
        }
      ]
    },
    {
      "cell_type": "code",
      "source": [
        "dwnn.save('/content/drive/My Drive/dwnn_dropout.keras')"
      ],
      "metadata": {
        "id": "v5pIjF65R3Jj"
      },
      "execution_count": null,
      "outputs": []
    },
    {
      "cell_type": "markdown",
      "source": [
        "### CNN"
      ],
      "metadata": {
        "id": "v1lBo-ZtGi3Q"
      }
    },
    {
      "cell_type": "code",
      "source": [
        "results = {}\n",
        "\n",
        "kernel_sizes = [(3, 3), (5, 5), (7, 7)]\n",
        "\n",
        "for ks in kernel_sizes:\n",
        "\n",
        "  print(f\"Training with kernel size: {ks}\")\n",
        "\n",
        "  cnn = keras.models.Sequential()\n",
        "\n",
        "  cnn.add(keras.layers.Conv2D(filters=32, kernel_size=ks, input_shape=(32, 32, 3), activation='relu', padding='same'))\n",
        "  cnn.add(keras.layers.BatchNormalization())\n",
        "  cnn.add(keras.layers.MaxPooling2D(pool_size=(2, 2)))\n",
        "  cnn.add(keras.layers.Dropout(0.2))\n",
        "\n",
        "  cnn.add(keras.layers.Conv2D(filters=64, kernel_size=ks, input_shape=(32, 32, 3), activation='relu', padding='same'))\n",
        "  cnn.add(keras.layers.BatchNormalization())\n",
        "  cnn.add(keras.layers.MaxPooling2D(pool_size=(2, 2)))\n",
        "  cnn.add(keras.layers.Dropout(0.2))\n",
        "\n",
        "  cnn.add(keras.layers.Conv2D(filters=128, kernel_size=ks, input_shape=(32, 32, 3), activation='relu', padding='same'))\n",
        "  cnn.add(keras.layers.BatchNormalization())\n",
        "  cnn.add(keras.layers.MaxPooling2D(pool_size=(2, 2)))\n",
        "  cnn.add(keras.layers.Dropout(0.2))\n",
        "\n",
        "  cnn.add(keras.layers.Flatten())\n",
        "\n",
        "  cnn.add(keras.layers.Dense(128, activation='relu', kernel_initializer='he_normal'))\n",
        "  cnn.add(keras.layers.BatchNormalization())\n",
        "  cnn.add(keras.layers.Dropout(0.5))\n",
        "  cnn.add(keras.layers.Dense(10, activation='softmax'))\n",
        "\n",
        "  cnn.compile(\n",
        "      loss='sparse_categorical_crossentropy',\n",
        "      optimizer=keras.optimizers.Nadam(learning_rate=0.0001),\n",
        "      metrics=['accuracy']\n",
        "  )\n",
        "\n",
        "  early_stopping = keras.callbacks.EarlyStopping(\n",
        "      monitor='val_accuracy',\n",
        "      patience=10,\n",
        "      restore_best_weights=True\n",
        "  )\n",
        "\n",
        "  history = cnn.fit(\n",
        "      X_train, y_train,\n",
        "      validation_split=0.2,\n",
        "      epochs=100,\n",
        "      callbacks=[early_stopping]\n",
        "  )\n",
        "\n",
        "  val_accuracy = max(history.history['val_accuracy'])\n",
        "  print(f\"Final Validation Accuracy: {val_accuracy:.4f}\")\n",
        "\n",
        "  results[ks] = val_accuracy\n",
        "\n",
        "best_kernel_size = max(results, key=results.get)\n",
        "print(f\"Best kernel size: {best_kernel_size} with validation accuracy: {results[best_kernel_size]:.4f}\")"
      ],
      "metadata": {
        "colab": {
          "base_uri": "https://localhost:8080/"
        },
        "id": "saPPzmeaGjuP",
        "outputId": "3483ebee-48f6-409e-d819-b11772f3d1b0"
      },
      "execution_count": null,
      "outputs": [
        {
          "output_type": "stream",
          "name": "stdout",
          "text": [
            "Training with kernel size: (3, 3)\n",
            "Epoch 1/100\n",
            "\u001b[1m1250/1250\u001b[0m \u001b[32m━━━━━━━━━━━━━━━━━━━━\u001b[0m\u001b[37m\u001b[0m \u001b[1m15s\u001b[0m 5ms/step - accuracy: 0.2196 - loss: 2.7052 - val_accuracy: 0.4421 - val_loss: 1.5578\n",
            "Epoch 2/100\n",
            "\u001b[1m1250/1250\u001b[0m \u001b[32m━━━━━━━━━━━━━━━━━━━━\u001b[0m\u001b[37m\u001b[0m \u001b[1m5s\u001b[0m 4ms/step - accuracy: 0.3685 - loss: 1.9175 - val_accuracy: 0.5053 - val_loss: 1.3800\n",
            "Epoch 3/100\n",
            "\u001b[1m1250/1250\u001b[0m \u001b[32m━━━━━━━━━━━━━━━━━━━━\u001b[0m\u001b[37m\u001b[0m \u001b[1m5s\u001b[0m 4ms/step - accuracy: 0.4330 - loss: 1.6561 - val_accuracy: 0.5634 - val_loss: 1.2398\n",
            "Epoch 4/100\n",
            "\u001b[1m1250/1250\u001b[0m \u001b[32m━━━━━━━━━━━━━━━━━━━━\u001b[0m\u001b[37m\u001b[0m \u001b[1m4s\u001b[0m 3ms/step - accuracy: 0.4770 - loss: 1.5012 - val_accuracy: 0.5736 - val_loss: 1.1984\n",
            "Epoch 5/100\n",
            "\u001b[1m1250/1250\u001b[0m \u001b[32m━━━━━━━━━━━━━━━━━━━━\u001b[0m\u001b[37m\u001b[0m \u001b[1m6s\u001b[0m 4ms/step - accuracy: 0.5142 - loss: 1.3712 - val_accuracy: 0.5926 - val_loss: 1.1401\n",
            "Epoch 6/100\n",
            "\u001b[1m1250/1250\u001b[0m \u001b[32m━━━━━━━━━━━━━━━━━━━━\u001b[0m\u001b[37m\u001b[0m \u001b[1m4s\u001b[0m 3ms/step - accuracy: 0.5544 - loss: 1.2628 - val_accuracy: 0.6410 - val_loss: 1.0239\n",
            "Epoch 7/100\n",
            "\u001b[1m1250/1250\u001b[0m \u001b[32m━━━━━━━━━━━━━━━━━━━━\u001b[0m\u001b[37m\u001b[0m \u001b[1m5s\u001b[0m 4ms/step - accuracy: 0.5826 - loss: 1.1808 - val_accuracy: 0.6266 - val_loss: 1.0563\n",
            "Epoch 8/100\n",
            "\u001b[1m1250/1250\u001b[0m \u001b[32m━━━━━━━━━━━━━━━━━━━━\u001b[0m\u001b[37m\u001b[0m \u001b[1m9s\u001b[0m 4ms/step - accuracy: 0.6033 - loss: 1.1261 - val_accuracy: 0.6592 - val_loss: 0.9730\n",
            "Epoch 9/100\n",
            "\u001b[1m1250/1250\u001b[0m \u001b[32m━━━━━━━━━━━━━━━━━━━━\u001b[0m\u001b[37m\u001b[0m \u001b[1m6s\u001b[0m 4ms/step - accuracy: 0.6150 - loss: 1.0796 - val_accuracy: 0.6711 - val_loss: 0.9313\n",
            "Epoch 10/100\n",
            "\u001b[1m1250/1250\u001b[0m \u001b[32m━━━━━━━━━━━━━━━━━━━━\u001b[0m\u001b[37m\u001b[0m \u001b[1m11s\u001b[0m 5ms/step - accuracy: 0.6375 - loss: 1.0375 - val_accuracy: 0.6738 - val_loss: 0.9174\n",
            "Epoch 11/100\n",
            "\u001b[1m1250/1250\u001b[0m \u001b[32m━━━━━━━━━━━━━━━━━━━━\u001b[0m\u001b[37m\u001b[0m \u001b[1m4s\u001b[0m 3ms/step - accuracy: 0.6512 - loss: 0.9942 - val_accuracy: 0.7061 - val_loss: 0.8383\n",
            "Epoch 12/100\n",
            "\u001b[1m1250/1250\u001b[0m \u001b[32m━━━━━━━━━━━━━━━━━━━━\u001b[0m\u001b[37m\u001b[0m \u001b[1m4s\u001b[0m 4ms/step - accuracy: 0.6694 - loss: 0.9578 - val_accuracy: 0.6788 - val_loss: 0.9080\n",
            "Epoch 13/100\n",
            "\u001b[1m1250/1250\u001b[0m \u001b[32m━━━━━━━━━━━━━━━━━━━━\u001b[0m\u001b[37m\u001b[0m \u001b[1m5s\u001b[0m 4ms/step - accuracy: 0.6737 - loss: 0.9343 - val_accuracy: 0.6981 - val_loss: 0.8586\n",
            "Epoch 14/100\n",
            "\u001b[1m1250/1250\u001b[0m \u001b[32m━━━━━━━━━━━━━━━━━━━━\u001b[0m\u001b[37m\u001b[0m \u001b[1m10s\u001b[0m 4ms/step - accuracy: 0.6819 - loss: 0.9089 - val_accuracy: 0.7059 - val_loss: 0.8364\n",
            "Epoch 15/100\n",
            "\u001b[1m1250/1250\u001b[0m \u001b[32m━━━━━━━━━━━━━━━━━━━━\u001b[0m\u001b[37m\u001b[0m \u001b[1m5s\u001b[0m 4ms/step - accuracy: 0.6953 - loss: 0.8839 - val_accuracy: 0.6824 - val_loss: 0.9256\n",
            "Epoch 16/100\n",
            "\u001b[1m1250/1250\u001b[0m \u001b[32m━━━━━━━━━━━━━━━━━━━━\u001b[0m\u001b[37m\u001b[0m \u001b[1m4s\u001b[0m 4ms/step - accuracy: 0.7052 - loss: 0.8446 - val_accuracy: 0.7264 - val_loss: 0.7679\n",
            "Epoch 17/100\n",
            "\u001b[1m1250/1250\u001b[0m \u001b[32m━━━━━━━━━━━━━━━━━━━━\u001b[0m\u001b[37m\u001b[0m \u001b[1m6s\u001b[0m 4ms/step - accuracy: 0.7069 - loss: 0.8371 - val_accuracy: 0.7335 - val_loss: 0.7696\n",
            "Epoch 18/100\n",
            "\u001b[1m1250/1250\u001b[0m \u001b[32m━━━━━━━━━━━━━━━━━━━━\u001b[0m\u001b[37m\u001b[0m \u001b[1m9s\u001b[0m 4ms/step - accuracy: 0.7155 - loss: 0.8199 - val_accuracy: 0.7508 - val_loss: 0.7109\n",
            "Epoch 19/100\n",
            "\u001b[1m1250/1250\u001b[0m \u001b[32m━━━━━━━━━━━━━━━━━━━━\u001b[0m\u001b[37m\u001b[0m \u001b[1m5s\u001b[0m 4ms/step - accuracy: 0.7264 - loss: 0.7917 - val_accuracy: 0.7415 - val_loss: 0.7478\n",
            "Epoch 20/100\n",
            "\u001b[1m1250/1250\u001b[0m \u001b[32m━━━━━━━━━━━━━━━━━━━━\u001b[0m\u001b[37m\u001b[0m \u001b[1m4s\u001b[0m 3ms/step - accuracy: 0.7285 - loss: 0.7888 - val_accuracy: 0.7317 - val_loss: 0.7711\n",
            "Epoch 21/100\n",
            "\u001b[1m1250/1250\u001b[0m \u001b[32m━━━━━━━━━━━━━━━━━━━━\u001b[0m\u001b[37m\u001b[0m \u001b[1m6s\u001b[0m 4ms/step - accuracy: 0.7327 - loss: 0.7703 - val_accuracy: 0.7184 - val_loss: 0.8104\n",
            "Epoch 22/100\n",
            "\u001b[1m1250/1250\u001b[0m \u001b[32m━━━━━━━━━━━━━━━━━━━━\u001b[0m\u001b[37m\u001b[0m \u001b[1m4s\u001b[0m 4ms/step - accuracy: 0.7413 - loss: 0.7499 - val_accuracy: 0.7615 - val_loss: 0.6802\n",
            "Epoch 23/100\n",
            "\u001b[1m1250/1250\u001b[0m \u001b[32m━━━━━━━━━━━━━━━━━━━━\u001b[0m\u001b[37m\u001b[0m \u001b[1m4s\u001b[0m 3ms/step - accuracy: 0.7445 - loss: 0.7363 - val_accuracy: 0.7494 - val_loss: 0.7208\n",
            "Epoch 24/100\n",
            "\u001b[1m1250/1250\u001b[0m \u001b[32m━━━━━━━━━━━━━━━━━━━━\u001b[0m\u001b[37m\u001b[0m \u001b[1m5s\u001b[0m 4ms/step - accuracy: 0.7492 - loss: 0.7199 - val_accuracy: 0.7599 - val_loss: 0.6902\n",
            "Epoch 25/100\n",
            "\u001b[1m1250/1250\u001b[0m \u001b[32m━━━━━━━━━━━━━━━━━━━━\u001b[0m\u001b[37m\u001b[0m \u001b[1m4s\u001b[0m 4ms/step - accuracy: 0.7527 - loss: 0.7069 - val_accuracy: 0.7560 - val_loss: 0.7014\n",
            "Epoch 26/100\n",
            "\u001b[1m1250/1250\u001b[0m \u001b[32m━━━━━━━━━━━━━━━━━━━━\u001b[0m\u001b[37m\u001b[0m \u001b[1m6s\u001b[0m 4ms/step - accuracy: 0.7560 - loss: 0.6992 - val_accuracy: 0.7630 - val_loss: 0.6804\n",
            "Epoch 27/100\n",
            "\u001b[1m1250/1250\u001b[0m \u001b[32m━━━━━━━━━━━━━━━━━━━━\u001b[0m\u001b[37m\u001b[0m \u001b[1m5s\u001b[0m 4ms/step - accuracy: 0.7615 - loss: 0.6838 - val_accuracy: 0.7745 - val_loss: 0.6443\n",
            "Epoch 28/100\n",
            "\u001b[1m1250/1250\u001b[0m \u001b[32m━━━━━━━━━━━━━━━━━━━━\u001b[0m\u001b[37m\u001b[0m \u001b[1m4s\u001b[0m 4ms/step - accuracy: 0.7634 - loss: 0.6764 - val_accuracy: 0.7714 - val_loss: 0.6536\n",
            "Epoch 29/100\n",
            "\u001b[1m1250/1250\u001b[0m \u001b[32m━━━━━━━━━━━━━━━━━━━━\u001b[0m\u001b[37m\u001b[0m \u001b[1m5s\u001b[0m 4ms/step - accuracy: 0.7680 - loss: 0.6708 - val_accuracy: 0.7672 - val_loss: 0.6761\n",
            "Epoch 30/100\n",
            "\u001b[1m1250/1250\u001b[0m \u001b[32m━━━━━━━━━━━━━━━━━━━━\u001b[0m\u001b[37m\u001b[0m \u001b[1m11s\u001b[0m 4ms/step - accuracy: 0.7729 - loss: 0.6556 - val_accuracy: 0.7674 - val_loss: 0.6674\n",
            "Epoch 31/100\n",
            "\u001b[1m1250/1250\u001b[0m \u001b[32m━━━━━━━━━━━━━━━━━━━━\u001b[0m\u001b[37m\u001b[0m \u001b[1m9s\u001b[0m 4ms/step - accuracy: 0.7710 - loss: 0.6499 - val_accuracy: 0.7714 - val_loss: 0.6536\n",
            "Epoch 32/100\n",
            "\u001b[1m1250/1250\u001b[0m \u001b[32m━━━━━━━━━━━━━━━━━━━━\u001b[0m\u001b[37m\u001b[0m \u001b[1m5s\u001b[0m 4ms/step - accuracy: 0.7766 - loss: 0.6340 - val_accuracy: 0.7792 - val_loss: 0.6329\n",
            "Epoch 33/100\n",
            "\u001b[1m1250/1250\u001b[0m \u001b[32m━━━━━━━━━━━━━━━━━━━━\u001b[0m\u001b[37m\u001b[0m \u001b[1m4s\u001b[0m 4ms/step - accuracy: 0.7805 - loss: 0.6295 - val_accuracy: 0.7764 - val_loss: 0.6390\n",
            "Epoch 34/100\n",
            "\u001b[1m1250/1250\u001b[0m \u001b[32m━━━━━━━━━━━━━━━━━━━━\u001b[0m\u001b[37m\u001b[0m \u001b[1m4s\u001b[0m 4ms/step - accuracy: 0.7839 - loss: 0.6208 - val_accuracy: 0.7886 - val_loss: 0.6118\n",
            "Epoch 35/100\n",
            "\u001b[1m1250/1250\u001b[0m \u001b[32m━━━━━━━━━━━━━━━━━━━━\u001b[0m\u001b[37m\u001b[0m \u001b[1m5s\u001b[0m 4ms/step - accuracy: 0.7850 - loss: 0.6126 - val_accuracy: 0.7776 - val_loss: 0.6423\n",
            "Epoch 36/100\n",
            "\u001b[1m1250/1250\u001b[0m \u001b[32m━━━━━━━━━━━━━━━━━━━━\u001b[0m\u001b[37m\u001b[0m \u001b[1m4s\u001b[0m 3ms/step - accuracy: 0.7906 - loss: 0.5994 - val_accuracy: 0.7682 - val_loss: 0.6551\n",
            "Epoch 37/100\n",
            "\u001b[1m1250/1250\u001b[0m \u001b[32m━━━━━━━━━━━━━━━━━━━━\u001b[0m\u001b[37m\u001b[0m \u001b[1m5s\u001b[0m 4ms/step - accuracy: 0.7882 - loss: 0.6054 - val_accuracy: 0.7877 - val_loss: 0.6149\n",
            "Epoch 38/100\n",
            "\u001b[1m1250/1250\u001b[0m \u001b[32m━━━━━━━━━━━━━━━━━━━━\u001b[0m\u001b[37m\u001b[0m \u001b[1m5s\u001b[0m 4ms/step - accuracy: 0.7892 - loss: 0.5969 - val_accuracy: 0.7911 - val_loss: 0.6011\n",
            "Epoch 39/100\n",
            "\u001b[1m1250/1250\u001b[0m \u001b[32m━━━━━━━━━━━━━━━━━━━━\u001b[0m\u001b[37m\u001b[0m \u001b[1m5s\u001b[0m 4ms/step - accuracy: 0.7955 - loss: 0.5880 - val_accuracy: 0.7902 - val_loss: 0.5959\n",
            "Epoch 40/100\n",
            "\u001b[1m1250/1250\u001b[0m \u001b[32m━━━━━━━━━━━━━━━━━━━━\u001b[0m\u001b[37m\u001b[0m \u001b[1m6s\u001b[0m 4ms/step - accuracy: 0.8013 - loss: 0.5714 - val_accuracy: 0.7947 - val_loss: 0.5897\n",
            "Epoch 41/100\n",
            "\u001b[1m1250/1250\u001b[0m \u001b[32m━━━━━━━━━━━━━━━━━━━━\u001b[0m\u001b[37m\u001b[0m \u001b[1m4s\u001b[0m 3ms/step - accuracy: 0.8003 - loss: 0.5814 - val_accuracy: 0.7955 - val_loss: 0.5902\n",
            "Epoch 42/100\n",
            "\u001b[1m1250/1250\u001b[0m \u001b[32m━━━━━━━━━━━━━━━━━━━━\u001b[0m\u001b[37m\u001b[0m \u001b[1m5s\u001b[0m 4ms/step - accuracy: 0.8008 - loss: 0.5688 - val_accuracy: 0.7781 - val_loss: 0.6388\n",
            "Epoch 43/100\n",
            "\u001b[1m1250/1250\u001b[0m \u001b[32m━━━━━━━━━━━━━━━━━━━━\u001b[0m\u001b[37m\u001b[0m \u001b[1m5s\u001b[0m 4ms/step - accuracy: 0.8053 - loss: 0.5603 - val_accuracy: 0.7709 - val_loss: 0.6725\n",
            "Epoch 44/100\n",
            "\u001b[1m1250/1250\u001b[0m \u001b[32m━━━━━━━━━━━━━━━━━━━━\u001b[0m\u001b[37m\u001b[0m \u001b[1m4s\u001b[0m 4ms/step - accuracy: 0.8066 - loss: 0.5559 - val_accuracy: 0.7860 - val_loss: 0.6303\n",
            "Epoch 45/100\n",
            "\u001b[1m1250/1250\u001b[0m \u001b[32m━━━━━━━━━━━━━━━━━━━━\u001b[0m\u001b[37m\u001b[0m \u001b[1m5s\u001b[0m 4ms/step - accuracy: 0.8078 - loss: 0.5518 - val_accuracy: 0.7861 - val_loss: 0.6186\n",
            "Epoch 46/100\n",
            "\u001b[1m1250/1250\u001b[0m \u001b[32m━━━━━━━━━━━━━━━━━━━━\u001b[0m\u001b[37m\u001b[0m \u001b[1m9s\u001b[0m 4ms/step - accuracy: 0.8140 - loss: 0.5355 - val_accuracy: 0.7937 - val_loss: 0.5991\n",
            "Epoch 47/100\n",
            "\u001b[1m1250/1250\u001b[0m \u001b[32m━━━━━━━━━━━━━━━━━━━━\u001b[0m\u001b[37m\u001b[0m \u001b[1m5s\u001b[0m 4ms/step - accuracy: 0.8094 - loss: 0.5505 - val_accuracy: 0.7806 - val_loss: 0.6507\n",
            "Epoch 48/100\n",
            "\u001b[1m1250/1250\u001b[0m \u001b[32m━━━━━━━━━━━━━━━━━━━━\u001b[0m\u001b[37m\u001b[0m \u001b[1m4s\u001b[0m 3ms/step - accuracy: 0.8151 - loss: 0.5330 - val_accuracy: 0.7949 - val_loss: 0.5922\n",
            "Epoch 49/100\n",
            "\u001b[1m1250/1250\u001b[0m \u001b[32m━━━━━━━━━━━━━━━━━━━━\u001b[0m\u001b[37m\u001b[0m \u001b[1m5s\u001b[0m 4ms/step - accuracy: 0.8105 - loss: 0.5375 - val_accuracy: 0.7845 - val_loss: 0.6279\n",
            "Epoch 50/100\n",
            "\u001b[1m1250/1250\u001b[0m \u001b[32m━━━━━━━━━━━━━━━━━━━━\u001b[0m\u001b[37m\u001b[0m \u001b[1m5s\u001b[0m 4ms/step - accuracy: 0.8160 - loss: 0.5285 - val_accuracy: 0.7841 - val_loss: 0.6422\n",
            "Epoch 51/100\n",
            "\u001b[1m1250/1250\u001b[0m \u001b[32m━━━━━━━━━━━━━━━━━━━━\u001b[0m\u001b[37m\u001b[0m \u001b[1m4s\u001b[0m 3ms/step - accuracy: 0.8173 - loss: 0.5261 - val_accuracy: 0.7708 - val_loss: 0.6869\n",
            "Final Validation Accuracy: 0.7955\n",
            "Training with kernel size: (5, 5)\n",
            "Epoch 1/100\n",
            "\u001b[1m1250/1250\u001b[0m \u001b[32m━━━━━━━━━━━━━━━━━━━━\u001b[0m\u001b[37m\u001b[0m \u001b[1m16s\u001b[0m 6ms/step - accuracy: 0.2443 - loss: 2.6068 - val_accuracy: 0.4522 - val_loss: 1.5331\n",
            "Epoch 2/100\n",
            "\u001b[1m1250/1250\u001b[0m \u001b[32m━━━━━━━━━━━━━━━━━━━━\u001b[0m\u001b[37m\u001b[0m \u001b[1m6s\u001b[0m 4ms/step - accuracy: 0.4009 - loss: 1.7817 - val_accuracy: 0.5146 - val_loss: 1.3303\n",
            "Epoch 3/100\n",
            "\u001b[1m1250/1250\u001b[0m \u001b[32m━━━━━━━━━━━━━━━━━━━━\u001b[0m\u001b[37m\u001b[0m \u001b[1m11s\u001b[0m 5ms/step - accuracy: 0.4748 - loss: 1.5153 - val_accuracy: 0.5769 - val_loss: 1.1947\n",
            "Epoch 4/100\n",
            "\u001b[1m1250/1250\u001b[0m \u001b[32m━━━━━━━━━━━━━━━━━━━━\u001b[0m\u001b[37m\u001b[0m \u001b[1m10s\u001b[0m 5ms/step - accuracy: 0.5246 - loss: 1.3636 - val_accuracy: 0.5692 - val_loss: 1.2215\n",
            "Epoch 5/100\n",
            "\u001b[1m1250/1250\u001b[0m \u001b[32m━━━━━━━━━━━━━━━━━━━━\u001b[0m\u001b[37m\u001b[0m \u001b[1m5s\u001b[0m 4ms/step - accuracy: 0.5643 - loss: 1.2442 - val_accuracy: 0.6298 - val_loss: 1.0483\n",
            "Epoch 6/100\n",
            "\u001b[1m1250/1250\u001b[0m \u001b[32m━━━━━━━━━━━━━━━━━━━━\u001b[0m\u001b[37m\u001b[0m \u001b[1m11s\u001b[0m 5ms/step - accuracy: 0.5942 - loss: 1.1480 - val_accuracy: 0.6743 - val_loss: 0.9384\n",
            "Epoch 7/100\n",
            "\u001b[1m1250/1250\u001b[0m \u001b[32m━━━━━━━━━━━━━━━━━━━━\u001b[0m\u001b[37m\u001b[0m \u001b[1m5s\u001b[0m 4ms/step - accuracy: 0.6205 - loss: 1.0819 - val_accuracy: 0.6806 - val_loss: 0.9133\n",
            "Epoch 8/100\n",
            "\u001b[1m1250/1250\u001b[0m \u001b[32m━━━━━━━━━━━━━━━━━━━━\u001b[0m\u001b[37m\u001b[0m \u001b[1m6s\u001b[0m 5ms/step - accuracy: 0.6490 - loss: 1.0008 - val_accuracy: 0.6670 - val_loss: 0.9534\n",
            "Epoch 9/100\n",
            "\u001b[1m1250/1250\u001b[0m \u001b[32m━━━━━━━━━━━━━━━━━━━━\u001b[0m\u001b[37m\u001b[0m \u001b[1m10s\u001b[0m 5ms/step - accuracy: 0.6691 - loss: 0.9533 - val_accuracy: 0.6714 - val_loss: 1.0022\n",
            "Epoch 10/100\n",
            "\u001b[1m1250/1250\u001b[0m \u001b[32m━━━━━━━━━━━━━━━━━━━━\u001b[0m\u001b[37m\u001b[0m \u001b[1m10s\u001b[0m 4ms/step - accuracy: 0.6831 - loss: 0.9150 - val_accuracy: 0.7164 - val_loss: 0.8217\n",
            "Epoch 11/100\n",
            "\u001b[1m1250/1250\u001b[0m \u001b[32m━━━━━━━━━━━━━━━━━━━━\u001b[0m\u001b[37m\u001b[0m \u001b[1m10s\u001b[0m 4ms/step - accuracy: 0.6975 - loss: 0.8662 - val_accuracy: 0.7268 - val_loss: 0.7922\n",
            "Epoch 12/100\n",
            "\u001b[1m1250/1250\u001b[0m \u001b[32m━━━━━━━━━━━━━━━━━━━━\u001b[0m\u001b[37m\u001b[0m \u001b[1m10s\u001b[0m 4ms/step - accuracy: 0.7073 - loss: 0.8340 - val_accuracy: 0.7216 - val_loss: 0.8065\n",
            "Epoch 13/100\n",
            "\u001b[1m1250/1250\u001b[0m \u001b[32m━━━━━━━━━━━━━━━━━━━━\u001b[0m\u001b[37m\u001b[0m \u001b[1m10s\u001b[0m 4ms/step - accuracy: 0.7250 - loss: 0.7976 - val_accuracy: 0.7494 - val_loss: 0.7149\n",
            "Epoch 14/100\n",
            "\u001b[1m1250/1250\u001b[0m \u001b[32m━━━━━━━━━━━━━━━━━━━━\u001b[0m\u001b[37m\u001b[0m \u001b[1m10s\u001b[0m 4ms/step - accuracy: 0.7345 - loss: 0.7673 - val_accuracy: 0.7551 - val_loss: 0.7053\n",
            "Epoch 15/100\n",
            "\u001b[1m1250/1250\u001b[0m \u001b[32m━━━━━━━━━━━━━━━━━━━━\u001b[0m\u001b[37m\u001b[0m \u001b[1m11s\u001b[0m 5ms/step - accuracy: 0.7427 - loss: 0.7427 - val_accuracy: 0.7562 - val_loss: 0.7087\n",
            "Epoch 16/100\n",
            "\u001b[1m1250/1250\u001b[0m \u001b[32m━━━━━━━━━━━━━━━━━━━━\u001b[0m\u001b[37m\u001b[0m \u001b[1m10s\u001b[0m 5ms/step - accuracy: 0.7523 - loss: 0.7243 - val_accuracy: 0.7153 - val_loss: 0.8391\n",
            "Epoch 17/100\n",
            "\u001b[1m1250/1250\u001b[0m \u001b[32m━━━━━━━━━━━━━━━━━━━━\u001b[0m\u001b[37m\u001b[0m \u001b[1m5s\u001b[0m 4ms/step - accuracy: 0.7537 - loss: 0.7050 - val_accuracy: 0.7568 - val_loss: 0.6957\n",
            "Epoch 18/100\n",
            "\u001b[1m1250/1250\u001b[0m \u001b[32m━━━━━━━━━━━━━━━━━━━━\u001b[0m\u001b[37m\u001b[0m \u001b[1m6s\u001b[0m 5ms/step - accuracy: 0.7692 - loss: 0.6791 - val_accuracy: 0.7619 - val_loss: 0.6869\n",
            "Epoch 19/100\n",
            "\u001b[1m1250/1250\u001b[0m \u001b[32m━━━━━━━━━━━━━━━━━━━━\u001b[0m\u001b[37m\u001b[0m \u001b[1m10s\u001b[0m 4ms/step - accuracy: 0.7748 - loss: 0.6612 - val_accuracy: 0.7421 - val_loss: 0.7535\n",
            "Epoch 20/100\n",
            "\u001b[1m1250/1250\u001b[0m \u001b[32m━━━━━━━━━━━━━━━━━━━━\u001b[0m\u001b[37m\u001b[0m \u001b[1m10s\u001b[0m 4ms/step - accuracy: 0.7856 - loss: 0.6251 - val_accuracy: 0.7579 - val_loss: 0.7079\n",
            "Epoch 21/100\n",
            "\u001b[1m1250/1250\u001b[0m \u001b[32m━━━━━━━━━━━━━━━━━━━━\u001b[0m\u001b[37m\u001b[0m \u001b[1m10s\u001b[0m 4ms/step - accuracy: 0.7856 - loss: 0.6266 - val_accuracy: 0.7725 - val_loss: 0.6628\n",
            "Epoch 22/100\n",
            "\u001b[1m1250/1250\u001b[0m \u001b[32m━━━━━━━━━━━━━━━━━━━━\u001b[0m\u001b[37m\u001b[0m \u001b[1m6s\u001b[0m 5ms/step - accuracy: 0.7940 - loss: 0.5985 - val_accuracy: 0.7650 - val_loss: 0.6862\n",
            "Epoch 23/100\n",
            "\u001b[1m1250/1250\u001b[0m \u001b[32m━━━━━━━━━━━━━━━━━━━━\u001b[0m\u001b[37m\u001b[0m \u001b[1m10s\u001b[0m 5ms/step - accuracy: 0.7973 - loss: 0.5890 - val_accuracy: 0.7717 - val_loss: 0.6723\n",
            "Epoch 24/100\n",
            "\u001b[1m1250/1250\u001b[0m \u001b[32m━━━━━━━━━━━━━━━━━━━━\u001b[0m\u001b[37m\u001b[0m \u001b[1m6s\u001b[0m 5ms/step - accuracy: 0.8008 - loss: 0.5758 - val_accuracy: 0.7679 - val_loss: 0.7004\n",
            "Epoch 25/100\n",
            "\u001b[1m1250/1250\u001b[0m \u001b[32m━━━━━━━━━━━━━━━━━━━━\u001b[0m\u001b[37m\u001b[0m \u001b[1m5s\u001b[0m 4ms/step - accuracy: 0.8053 - loss: 0.5619 - val_accuracy: 0.7815 - val_loss: 0.6414\n",
            "Epoch 26/100\n",
            "\u001b[1m1250/1250\u001b[0m \u001b[32m━━━━━━━━━━━━━━━━━━━━\u001b[0m\u001b[37m\u001b[0m \u001b[1m6s\u001b[0m 5ms/step - accuracy: 0.8147 - loss: 0.5368 - val_accuracy: 0.7700 - val_loss: 0.6936\n",
            "Epoch 27/100\n",
            "\u001b[1m1250/1250\u001b[0m \u001b[32m━━━━━━━━━━━━━━━━━━━━\u001b[0m\u001b[37m\u001b[0m \u001b[1m5s\u001b[0m 4ms/step - accuracy: 0.8163 - loss: 0.5329 - val_accuracy: 0.7741 - val_loss: 0.6869\n",
            "Epoch 28/100\n",
            "\u001b[1m1250/1250\u001b[0m \u001b[32m━━━━━━━━━━━━━━━━━━━━\u001b[0m\u001b[37m\u001b[0m \u001b[1m10s\u001b[0m 4ms/step - accuracy: 0.8222 - loss: 0.5157 - val_accuracy: 0.7889 - val_loss: 0.6211\n",
            "Epoch 29/100\n",
            "\u001b[1m1250/1250\u001b[0m \u001b[32m━━━━━━━━━━━━━━━━━━━━\u001b[0m\u001b[37m\u001b[0m \u001b[1m6s\u001b[0m 5ms/step - accuracy: 0.8263 - loss: 0.5055 - val_accuracy: 0.7890 - val_loss: 0.6326\n",
            "Epoch 30/100\n",
            "\u001b[1m1250/1250\u001b[0m \u001b[32m━━━━━━━━━━━━━━━━━━━━\u001b[0m\u001b[37m\u001b[0m \u001b[1m5s\u001b[0m 4ms/step - accuracy: 0.8347 - loss: 0.4917 - val_accuracy: 0.7697 - val_loss: 0.6918\n",
            "Epoch 31/100\n",
            "\u001b[1m1250/1250\u001b[0m \u001b[32m━━━━━━━━━━━━━━━━━━━━\u001b[0m\u001b[37m\u001b[0m \u001b[1m6s\u001b[0m 4ms/step - accuracy: 0.8377 - loss: 0.4755 - val_accuracy: 0.7955 - val_loss: 0.6145\n",
            "Epoch 32/100\n",
            "\u001b[1m1250/1250\u001b[0m \u001b[32m━━━━━━━━━━━━━━━━━━━━\u001b[0m\u001b[37m\u001b[0m \u001b[1m6s\u001b[0m 5ms/step - accuracy: 0.8371 - loss: 0.4681 - val_accuracy: 0.7824 - val_loss: 0.6384\n",
            "Epoch 33/100\n",
            "\u001b[1m1250/1250\u001b[0m \u001b[32m━━━━━━━━━━━━━━━━━━━━\u001b[0m\u001b[37m\u001b[0m \u001b[1m11s\u001b[0m 5ms/step - accuracy: 0.8390 - loss: 0.4604 - val_accuracy: 0.7278 - val_loss: 0.9076\n",
            "Epoch 34/100\n",
            "\u001b[1m1250/1250\u001b[0m \u001b[32m━━━━━━━━━━━━━━━━━━━━\u001b[0m\u001b[37m\u001b[0m \u001b[1m11s\u001b[0m 5ms/step - accuracy: 0.8427 - loss: 0.4496 - val_accuracy: 0.7354 - val_loss: 0.8540\n",
            "Epoch 35/100\n",
            "\u001b[1m1250/1250\u001b[0m \u001b[32m━━━━━━━━━━━━━━━━━━━━\u001b[0m\u001b[37m\u001b[0m \u001b[1m9s\u001b[0m 4ms/step - accuracy: 0.8463 - loss: 0.4395 - val_accuracy: 0.7944 - val_loss: 0.6291\n",
            "Epoch 36/100\n",
            "\u001b[1m1250/1250\u001b[0m \u001b[32m━━━━━━━━━━━━━━━━━━━━\u001b[0m\u001b[37m\u001b[0m \u001b[1m6s\u001b[0m 5ms/step - accuracy: 0.8531 - loss: 0.4299 - val_accuracy: 0.7464 - val_loss: 0.8003\n",
            "Epoch 37/100\n",
            "\u001b[1m1250/1250\u001b[0m \u001b[32m━━━━━━━━━━━━━━━━━━━━\u001b[0m\u001b[37m\u001b[0m \u001b[1m5s\u001b[0m 4ms/step - accuracy: 0.8541 - loss: 0.4196 - val_accuracy: 0.7807 - val_loss: 0.6893\n",
            "Epoch 38/100\n",
            "\u001b[1m1250/1250\u001b[0m \u001b[32m━━━━━━━━━━━━━━━━━━━━\u001b[0m\u001b[37m\u001b[0m \u001b[1m10s\u001b[0m 4ms/step - accuracy: 0.8581 - loss: 0.4108 - val_accuracy: 0.7639 - val_loss: 0.7537\n",
            "Epoch 39/100\n",
            "\u001b[1m1250/1250\u001b[0m \u001b[32m━━━━━━━━━━━━━━━━━━━━\u001b[0m\u001b[37m\u001b[0m \u001b[1m6s\u001b[0m 5ms/step - accuracy: 0.8592 - loss: 0.4081 - val_accuracy: 0.7979 - val_loss: 0.6286\n",
            "Epoch 40/100\n",
            "\u001b[1m1250/1250\u001b[0m \u001b[32m━━━━━━━━━━━━━━━━━━━━\u001b[0m\u001b[37m\u001b[0m \u001b[1m10s\u001b[0m 5ms/step - accuracy: 0.8594 - loss: 0.4011 - val_accuracy: 0.7960 - val_loss: 0.6461\n",
            "Epoch 41/100\n",
            "\u001b[1m1250/1250\u001b[0m \u001b[32m━━━━━━━━━━━━━━━━━━━━\u001b[0m\u001b[37m\u001b[0m \u001b[1m10s\u001b[0m 4ms/step - accuracy: 0.8588 - loss: 0.3959 - val_accuracy: 0.7967 - val_loss: 0.6453\n",
            "Epoch 42/100\n",
            "\u001b[1m1250/1250\u001b[0m \u001b[32m━━━━━━━━━━━━━━━━━━━━\u001b[0m\u001b[37m\u001b[0m \u001b[1m10s\u001b[0m 4ms/step - accuracy: 0.8622 - loss: 0.3920 - val_accuracy: 0.7922 - val_loss: 0.6793\n",
            "Epoch 43/100\n",
            "\u001b[1m1250/1250\u001b[0m \u001b[32m━━━━━━━━━━━━━━━━━━━━\u001b[0m\u001b[37m\u001b[0m \u001b[1m10s\u001b[0m 4ms/step - accuracy: 0.8677 - loss: 0.3819 - val_accuracy: 0.7942 - val_loss: 0.6434\n",
            "Epoch 44/100\n",
            "\u001b[1m1250/1250\u001b[0m \u001b[32m━━━━━━━━━━━━━━━━━━━━\u001b[0m\u001b[37m\u001b[0m \u001b[1m6s\u001b[0m 5ms/step - accuracy: 0.8720 - loss: 0.3754 - val_accuracy: 0.7903 - val_loss: 0.6534\n",
            "Epoch 45/100\n",
            "\u001b[1m1250/1250\u001b[0m \u001b[32m━━━━━━━━━━━━━━━━━━━━\u001b[0m\u001b[37m\u001b[0m \u001b[1m5s\u001b[0m 4ms/step - accuracy: 0.8742 - loss: 0.3682 - val_accuracy: 0.7990 - val_loss: 0.6502\n",
            "Epoch 46/100\n",
            "\u001b[1m1250/1250\u001b[0m \u001b[32m━━━━━━━━━━━━━━━━━━━━\u001b[0m\u001b[37m\u001b[0m \u001b[1m6s\u001b[0m 4ms/step - accuracy: 0.8733 - loss: 0.3626 - val_accuracy: 0.7818 - val_loss: 0.7224\n",
            "Epoch 47/100\n",
            "\u001b[1m1250/1250\u001b[0m \u001b[32m━━━━━━━━━━━━━━━━━━━━\u001b[0m\u001b[37m\u001b[0m \u001b[1m10s\u001b[0m 4ms/step - accuracy: 0.8791 - loss: 0.3484 - val_accuracy: 0.7847 - val_loss: 0.7029\n",
            "Epoch 48/100\n",
            "\u001b[1m1250/1250\u001b[0m \u001b[32m━━━━━━━━━━━━━━━━━━━━\u001b[0m\u001b[37m\u001b[0m \u001b[1m6s\u001b[0m 5ms/step - accuracy: 0.8766 - loss: 0.3519 - val_accuracy: 0.7893 - val_loss: 0.7092\n",
            "Epoch 49/100\n",
            "\u001b[1m1250/1250\u001b[0m \u001b[32m━━━━━━━━━━━━━━━━━━━━\u001b[0m\u001b[37m\u001b[0m \u001b[1m6s\u001b[0m 4ms/step - accuracy: 0.8779 - loss: 0.3506 - val_accuracy: 0.8024 - val_loss: 0.6437\n",
            "Epoch 50/100\n",
            "\u001b[1m1250/1250\u001b[0m \u001b[32m━━━━━━━━━━━━━━━━━━━━\u001b[0m\u001b[37m\u001b[0m \u001b[1m10s\u001b[0m 4ms/step - accuracy: 0.8853 - loss: 0.3329 - val_accuracy: 0.8030 - val_loss: 0.6464\n",
            "Epoch 51/100\n",
            "\u001b[1m1250/1250\u001b[0m \u001b[32m━━━━━━━━━━━━━━━━━━━━\u001b[0m\u001b[37m\u001b[0m \u001b[1m7s\u001b[0m 5ms/step - accuracy: 0.8781 - loss: 0.3516 - val_accuracy: 0.8019 - val_loss: 0.6405\n",
            "Epoch 52/100\n",
            "\u001b[1m1250/1250\u001b[0m \u001b[32m━━━━━━━━━━━━━━━━━━━━\u001b[0m\u001b[37m\u001b[0m \u001b[1m5s\u001b[0m 4ms/step - accuracy: 0.8854 - loss: 0.3293 - val_accuracy: 0.7916 - val_loss: 0.6697\n",
            "Epoch 53/100\n",
            "\u001b[1m1250/1250\u001b[0m \u001b[32m━━━━━━━━━━━━━━━━━━━━\u001b[0m\u001b[37m\u001b[0m \u001b[1m6s\u001b[0m 5ms/step - accuracy: 0.8844 - loss: 0.3264 - val_accuracy: 0.7750 - val_loss: 0.7400\n",
            "Epoch 54/100\n",
            "\u001b[1m1250/1250\u001b[0m \u001b[32m━━━━━━━━━━━━━━━━━━━━\u001b[0m\u001b[37m\u001b[0m \u001b[1m5s\u001b[0m 4ms/step - accuracy: 0.8872 - loss: 0.3244 - val_accuracy: 0.7946 - val_loss: 0.6665\n",
            "Epoch 55/100\n",
            "\u001b[1m1250/1250\u001b[0m \u001b[32m━━━━━━━━━━━━━━━━━━━━\u001b[0m\u001b[37m\u001b[0m \u001b[1m11s\u001b[0m 5ms/step - accuracy: 0.8881 - loss: 0.3236 - val_accuracy: 0.8003 - val_loss: 0.6612\n",
            "Epoch 56/100\n",
            "\u001b[1m1250/1250\u001b[0m \u001b[32m━━━━━━━━━━━━━━━━━━━━\u001b[0m\u001b[37m\u001b[0m \u001b[1m10s\u001b[0m 5ms/step - accuracy: 0.8918 - loss: 0.3022 - val_accuracy: 0.7918 - val_loss: 0.7269\n",
            "Epoch 57/100\n",
            "\u001b[1m1250/1250\u001b[0m \u001b[32m━━━━━━━━━━━━━━━━━━━━\u001b[0m\u001b[37m\u001b[0m \u001b[1m5s\u001b[0m 4ms/step - accuracy: 0.8930 - loss: 0.3037 - val_accuracy: 0.7975 - val_loss: 0.6983\n",
            "Epoch 58/100\n",
            "\u001b[1m1250/1250\u001b[0m \u001b[32m━━━━━━━━━━━━━━━━━━━━\u001b[0m\u001b[37m\u001b[0m \u001b[1m10s\u001b[0m 4ms/step - accuracy: 0.8924 - loss: 0.3124 - val_accuracy: 0.7944 - val_loss: 0.6914\n",
            "Epoch 59/100\n",
            "\u001b[1m1250/1250\u001b[0m \u001b[32m━━━━━━━━━━━━━━━━━━━━\u001b[0m\u001b[37m\u001b[0m \u001b[1m6s\u001b[0m 5ms/step - accuracy: 0.8957 - loss: 0.3007 - val_accuracy: 0.8020 - val_loss: 0.6689\n",
            "Epoch 60/100\n",
            "\u001b[1m1250/1250\u001b[0m \u001b[32m━━━━━━━━━━━━━━━━━━━━\u001b[0m\u001b[37m\u001b[0m \u001b[1m9s\u001b[0m 4ms/step - accuracy: 0.8951 - loss: 0.3005 - val_accuracy: 0.7788 - val_loss: 0.7692\n",
            "Final Validation Accuracy: 0.8030\n",
            "Training with kernel size: (7, 7)\n",
            "Epoch 1/100\n",
            "\u001b[1m1250/1250\u001b[0m \u001b[32m━━━━━━━━━━━━━━━━━━━━\u001b[0m\u001b[37m\u001b[0m \u001b[1m16s\u001b[0m 7ms/step - accuracy: 0.2561 - loss: 2.5004 - val_accuracy: 0.4810 - val_loss: 1.4488\n",
            "Epoch 2/100\n",
            "\u001b[1m1250/1250\u001b[0m \u001b[32m━━━━━━━━━━━━━━━━━━━━\u001b[0m\u001b[37m\u001b[0m \u001b[1m7s\u001b[0m 6ms/step - accuracy: 0.4082 - loss: 1.7536 - val_accuracy: 0.5468 - val_loss: 1.2794\n",
            "Epoch 3/100\n",
            "\u001b[1m1250/1250\u001b[0m \u001b[32m━━━━━━━━━━━━━━━━━━━━\u001b[0m\u001b[37m\u001b[0m \u001b[1m7s\u001b[0m 5ms/step - accuracy: 0.4794 - loss: 1.5017 - val_accuracy: 0.5719 - val_loss: 1.2063\n",
            "Epoch 4/100\n",
            "\u001b[1m1250/1250\u001b[0m \u001b[32m━━━━━━━━━━━━━━━━━━━━\u001b[0m\u001b[37m\u001b[0m \u001b[1m10s\u001b[0m 6ms/step - accuracy: 0.5281 - loss: 1.3541 - val_accuracy: 0.5888 - val_loss: 1.1581\n",
            "Epoch 5/100\n",
            "\u001b[1m1250/1250\u001b[0m \u001b[32m━━━━━━━━━━━━━━━━━━━━\u001b[0m\u001b[37m\u001b[0m \u001b[1m10s\u001b[0m 6ms/step - accuracy: 0.5702 - loss: 1.2166 - val_accuracy: 0.6218 - val_loss: 1.0639\n",
            "Epoch 6/100\n",
            "\u001b[1m1250/1250\u001b[0m \u001b[32m━━━━━━━━━━━━━━━━━━━━\u001b[0m\u001b[37m\u001b[0m \u001b[1m10s\u001b[0m 6ms/step - accuracy: 0.6085 - loss: 1.1172 - val_accuracy: 0.5431 - val_loss: 1.3568\n",
            "Epoch 7/100\n",
            "\u001b[1m1250/1250\u001b[0m \u001b[32m━━━━━━━━━━━━━━━━━━━━\u001b[0m\u001b[37m\u001b[0m \u001b[1m7s\u001b[0m 5ms/step - accuracy: 0.6362 - loss: 1.0304 - val_accuracy: 0.6341 - val_loss: 1.0190\n",
            "Epoch 8/100\n",
            "\u001b[1m1250/1250\u001b[0m \u001b[32m━━━━━━━━━━━━━━━━━━━━\u001b[0m\u001b[37m\u001b[0m \u001b[1m10s\u001b[0m 6ms/step - accuracy: 0.6646 - loss: 0.9694 - val_accuracy: 0.7069 - val_loss: 0.8367\n",
            "Epoch 9/100\n",
            "\u001b[1m1250/1250\u001b[0m \u001b[32m━━━━━━━━━━━━━━━━━━━━\u001b[0m\u001b[37m\u001b[0m \u001b[1m10s\u001b[0m 6ms/step - accuracy: 0.6834 - loss: 0.9099 - val_accuracy: 0.7110 - val_loss: 0.8246\n",
            "Epoch 10/100\n",
            "\u001b[1m1250/1250\u001b[0m \u001b[32m━━━━━━━━━━━━━━━━━━━━\u001b[0m\u001b[37m\u001b[0m \u001b[1m7s\u001b[0m 6ms/step - accuracy: 0.7018 - loss: 0.8573 - val_accuracy: 0.7170 - val_loss: 0.8127\n",
            "Epoch 11/100\n",
            "\u001b[1m1250/1250\u001b[0m \u001b[32m━━━━━━━━━━━━━━━━━━━━\u001b[0m\u001b[37m\u001b[0m \u001b[1m11s\u001b[0m 6ms/step - accuracy: 0.7128 - loss: 0.8260 - val_accuracy: 0.6323 - val_loss: 1.0970\n",
            "Epoch 12/100\n",
            "\u001b[1m1250/1250\u001b[0m \u001b[32m━━━━━━━━━━━━━━━━━━━━\u001b[0m\u001b[37m\u001b[0m \u001b[1m9s\u001b[0m 6ms/step - accuracy: 0.7293 - loss: 0.7757 - val_accuracy: 0.5820 - val_loss: 1.3453\n",
            "Epoch 13/100\n",
            "\u001b[1m1250/1250\u001b[0m \u001b[32m━━━━━━━━━━━━━━━━━━━━\u001b[0m\u001b[37m\u001b[0m \u001b[1m10s\u001b[0m 6ms/step - accuracy: 0.7499 - loss: 0.7256 - val_accuracy: 0.7305 - val_loss: 0.7639\n",
            "Epoch 14/100\n",
            "\u001b[1m1250/1250\u001b[0m \u001b[32m━━━━━━━━━━━━━━━━━━━━\u001b[0m\u001b[37m\u001b[0m \u001b[1m7s\u001b[0m 6ms/step - accuracy: 0.7610 - loss: 0.7033 - val_accuracy: 0.7359 - val_loss: 0.7696\n",
            "Epoch 15/100\n",
            "\u001b[1m1250/1250\u001b[0m \u001b[32m━━━━━━━━━━━━━━━━━━━━\u001b[0m\u001b[37m\u001b[0m \u001b[1m7s\u001b[0m 5ms/step - accuracy: 0.7661 - loss: 0.6707 - val_accuracy: 0.6680 - val_loss: 1.0194\n",
            "Epoch 16/100\n",
            "\u001b[1m1250/1250\u001b[0m \u001b[32m━━━━━━━━━━━━━━━━━━━━\u001b[0m\u001b[37m\u001b[0m \u001b[1m7s\u001b[0m 6ms/step - accuracy: 0.7751 - loss: 0.6496 - val_accuracy: 0.6891 - val_loss: 0.9210\n",
            "Epoch 17/100\n",
            "\u001b[1m1250/1250\u001b[0m \u001b[32m━━━━━━━━━━━━━━━━━━━━\u001b[0m\u001b[37m\u001b[0m \u001b[1m10s\u001b[0m 6ms/step - accuracy: 0.7866 - loss: 0.6163 - val_accuracy: 0.7591 - val_loss: 0.7031\n",
            "Epoch 18/100\n",
            "\u001b[1m1250/1250\u001b[0m \u001b[32m━━━━━━━━━━━━━━━━━━━━\u001b[0m\u001b[37m\u001b[0m \u001b[1m10s\u001b[0m 6ms/step - accuracy: 0.7951 - loss: 0.5908 - val_accuracy: 0.7464 - val_loss: 0.7314\n",
            "Epoch 19/100\n",
            "\u001b[1m1250/1250\u001b[0m \u001b[32m━━━━━━━━━━━━━━━━━━━━\u001b[0m\u001b[37m\u001b[0m \u001b[1m10s\u001b[0m 6ms/step - accuracy: 0.8060 - loss: 0.5549 - val_accuracy: 0.7451 - val_loss: 0.7661\n",
            "Epoch 20/100\n",
            "\u001b[1m1250/1250\u001b[0m \u001b[32m━━━━━━━━━━━━━━━━━━━━\u001b[0m\u001b[37m\u001b[0m \u001b[1m7s\u001b[0m 6ms/step - accuracy: 0.8200 - loss: 0.5272 - val_accuracy: 0.7641 - val_loss: 0.7243\n",
            "Epoch 21/100\n",
            "\u001b[1m1250/1250\u001b[0m \u001b[32m━━━━━━━━━━━━━━━━━━━━\u001b[0m\u001b[37m\u001b[0m \u001b[1m10s\u001b[0m 6ms/step - accuracy: 0.8211 - loss: 0.5129 - val_accuracy: 0.7636 - val_loss: 0.7119\n",
            "Epoch 22/100\n",
            "\u001b[1m1250/1250\u001b[0m \u001b[32m━━━━━━━━━━━━━━━━━━━━\u001b[0m\u001b[37m\u001b[0m \u001b[1m7s\u001b[0m 5ms/step - accuracy: 0.8304 - loss: 0.4872 - val_accuracy: 0.7495 - val_loss: 0.7582\n",
            "Epoch 23/100\n",
            "\u001b[1m1250/1250\u001b[0m \u001b[32m━━━━━━━━━━━━━━━━━━━━\u001b[0m\u001b[37m\u001b[0m \u001b[1m7s\u001b[0m 6ms/step - accuracy: 0.8356 - loss: 0.4763 - val_accuracy: 0.7656 - val_loss: 0.7342\n",
            "Epoch 24/100\n",
            "\u001b[1m1250/1250\u001b[0m \u001b[32m━━━━━━━━━━━━━━━━━━━━\u001b[0m\u001b[37m\u001b[0m \u001b[1m7s\u001b[0m 5ms/step - accuracy: 0.8441 - loss: 0.4570 - val_accuracy: 0.7674 - val_loss: 0.7051\n",
            "Epoch 25/100\n",
            "\u001b[1m1250/1250\u001b[0m \u001b[32m━━━━━━━━━━━━━━━━━━━━\u001b[0m\u001b[37m\u001b[0m \u001b[1m7s\u001b[0m 6ms/step - accuracy: 0.8495 - loss: 0.4290 - val_accuracy: 0.7549 - val_loss: 0.7931\n",
            "Epoch 26/100\n",
            "\u001b[1m1250/1250\u001b[0m \u001b[32m━━━━━━━━━━━━━━━━━━━━\u001b[0m\u001b[37m\u001b[0m \u001b[1m7s\u001b[0m 6ms/step - accuracy: 0.8474 - loss: 0.4356 - val_accuracy: 0.7437 - val_loss: 0.8272\n",
            "Epoch 27/100\n",
            "\u001b[1m1250/1250\u001b[0m \u001b[32m━━━━━━━━━━━━━━━━━━━━\u001b[0m\u001b[37m\u001b[0m \u001b[1m7s\u001b[0m 5ms/step - accuracy: 0.8623 - loss: 0.3997 - val_accuracy: 0.7170 - val_loss: 0.9432\n",
            "Epoch 28/100\n",
            "\u001b[1m1250/1250\u001b[0m \u001b[32m━━━━━━━━━━━━━━━━━━━━\u001b[0m\u001b[37m\u001b[0m \u001b[1m11s\u001b[0m 6ms/step - accuracy: 0.8651 - loss: 0.3892 - val_accuracy: 0.7708 - val_loss: 0.7010\n",
            "Epoch 29/100\n",
            "\u001b[1m1250/1250\u001b[0m \u001b[32m━━━━━━━━━━━━━━━━━━━━\u001b[0m\u001b[37m\u001b[0m \u001b[1m7s\u001b[0m 6ms/step - accuracy: 0.8715 - loss: 0.3751 - val_accuracy: 0.7779 - val_loss: 0.7206\n",
            "Epoch 30/100\n",
            "\u001b[1m1250/1250\u001b[0m \u001b[32m━━━━━━━━━━━━━━━━━━━━\u001b[0m\u001b[37m\u001b[0m \u001b[1m7s\u001b[0m 6ms/step - accuracy: 0.8751 - loss: 0.3571 - val_accuracy: 0.7799 - val_loss: 0.7050\n",
            "Epoch 31/100\n",
            "\u001b[1m1250/1250\u001b[0m \u001b[32m━━━━━━━━━━━━━━━━━━━━\u001b[0m\u001b[37m\u001b[0m \u001b[1m11s\u001b[0m 6ms/step - accuracy: 0.8726 - loss: 0.3653 - val_accuracy: 0.7335 - val_loss: 0.8861\n",
            "Epoch 32/100\n",
            "\u001b[1m1250/1250\u001b[0m \u001b[32m━━━━━━━━━━━━━━━━━━━━\u001b[0m\u001b[37m\u001b[0m \u001b[1m10s\u001b[0m 6ms/step - accuracy: 0.8819 - loss: 0.3410 - val_accuracy: 0.7208 - val_loss: 0.9447\n",
            "Epoch 33/100\n",
            "\u001b[1m1250/1250\u001b[0m \u001b[32m━━━━━━━━━━━━━━━━━━━━\u001b[0m\u001b[37m\u001b[0m \u001b[1m11s\u001b[0m 6ms/step - accuracy: 0.8850 - loss: 0.3306 - val_accuracy: 0.7584 - val_loss: 0.8104\n",
            "Epoch 34/100\n",
            "\u001b[1m1250/1250\u001b[0m \u001b[32m━━━━━━━━━━━━━━━━━━━━\u001b[0m\u001b[37m\u001b[0m \u001b[1m7s\u001b[0m 5ms/step - accuracy: 0.8894 - loss: 0.3187 - val_accuracy: 0.7555 - val_loss: 0.8171\n",
            "Epoch 35/100\n",
            "\u001b[1m1250/1250\u001b[0m \u001b[32m━━━━━━━━━━━━━━━━━━━━\u001b[0m\u001b[37m\u001b[0m \u001b[1m7s\u001b[0m 6ms/step - accuracy: 0.8903 - loss: 0.3168 - val_accuracy: 0.7629 - val_loss: 0.7958\n",
            "Epoch 36/100\n",
            "\u001b[1m1250/1250\u001b[0m \u001b[32m━━━━━━━━━━━━━━━━━━━━\u001b[0m\u001b[37m\u001b[0m \u001b[1m10s\u001b[0m 6ms/step - accuracy: 0.8944 - loss: 0.3081 - val_accuracy: 0.7852 - val_loss: 0.7018\n",
            "Epoch 37/100\n",
            "\u001b[1m1250/1250\u001b[0m \u001b[32m━━━━━━━━━━━━━━━━━━━━\u001b[0m\u001b[37m\u001b[0m \u001b[1m7s\u001b[0m 6ms/step - accuracy: 0.8960 - loss: 0.2981 - val_accuracy: 0.7120 - val_loss: 1.0181\n",
            "Epoch 38/100\n",
            "\u001b[1m1250/1250\u001b[0m \u001b[32m━━━━━━━━━━━━━━━━━━━━\u001b[0m\u001b[37m\u001b[0m \u001b[1m11s\u001b[0m 6ms/step - accuracy: 0.8984 - loss: 0.2965 - val_accuracy: 0.7641 - val_loss: 0.7814\n",
            "Epoch 39/100\n",
            "\u001b[1m1250/1250\u001b[0m \u001b[32m━━━━━━━━━━━━━━━━━━━━\u001b[0m\u001b[37m\u001b[0m \u001b[1m10s\u001b[0m 6ms/step - accuracy: 0.9029 - loss: 0.2859 - val_accuracy: 0.7332 - val_loss: 0.9548\n",
            "Epoch 40/100\n",
            "\u001b[1m1250/1250\u001b[0m \u001b[32m━━━━━━━━━━━━━━━━━━━━\u001b[0m\u001b[37m\u001b[0m \u001b[1m7s\u001b[0m 5ms/step - accuracy: 0.9038 - loss: 0.2790 - val_accuracy: 0.7708 - val_loss: 0.7617\n",
            "Epoch 41/100\n",
            "\u001b[1m1250/1250\u001b[0m \u001b[32m━━━━━━━━━━━━━━━━━━━━\u001b[0m\u001b[37m\u001b[0m \u001b[1m10s\u001b[0m 6ms/step - accuracy: 0.9116 - loss: 0.2590 - val_accuracy: 0.7336 - val_loss: 0.9682\n",
            "Epoch 42/100\n",
            "\u001b[1m1250/1250\u001b[0m \u001b[32m━━━━━━━━━━━━━━━━━━━━\u001b[0m\u001b[37m\u001b[0m \u001b[1m10s\u001b[0m 6ms/step - accuracy: 0.9097 - loss: 0.2677 - val_accuracy: 0.7865 - val_loss: 0.7298\n",
            "Epoch 43/100\n",
            "\u001b[1m1250/1250\u001b[0m \u001b[32m━━━━━━━━━━━━━━━━━━━━\u001b[0m\u001b[37m\u001b[0m \u001b[1m7s\u001b[0m 6ms/step - accuracy: 0.9106 - loss: 0.2553 - val_accuracy: 0.7895 - val_loss: 0.7412\n",
            "Epoch 44/100\n",
            "\u001b[1m1250/1250\u001b[0m \u001b[32m━━━━━━━━━━━━━━━━━━━━\u001b[0m\u001b[37m\u001b[0m \u001b[1m10s\u001b[0m 6ms/step - accuracy: 0.9149 - loss: 0.2498 - val_accuracy: 0.7747 - val_loss: 0.7937\n",
            "Epoch 45/100\n",
            "\u001b[1m1250/1250\u001b[0m \u001b[32m━━━━━━━━━━━━━━━━━━━━\u001b[0m\u001b[37m\u001b[0m \u001b[1m7s\u001b[0m 6ms/step - accuracy: 0.9136 - loss: 0.2468 - val_accuracy: 0.7830 - val_loss: 0.7490\n",
            "Epoch 46/100\n",
            "\u001b[1m1250/1250\u001b[0m \u001b[32m━━━━━━━━━━━━━━━━━━━━\u001b[0m\u001b[37m\u001b[0m \u001b[1m10s\u001b[0m 6ms/step - accuracy: 0.9190 - loss: 0.2357 - val_accuracy: 0.7734 - val_loss: 0.8034\n",
            "Epoch 47/100\n",
            "\u001b[1m1250/1250\u001b[0m \u001b[32m━━━━━━━━━━━━━━━━━━━━\u001b[0m\u001b[37m\u001b[0m \u001b[1m10s\u001b[0m 6ms/step - accuracy: 0.9215 - loss: 0.2309 - val_accuracy: 0.7862 - val_loss: 0.8180\n",
            "Epoch 48/100\n",
            "\u001b[1m1250/1250\u001b[0m \u001b[32m━━━━━━━━━━━━━━━━━━━━\u001b[0m\u001b[37m\u001b[0m \u001b[1m10s\u001b[0m 5ms/step - accuracy: 0.9183 - loss: 0.2308 - val_accuracy: 0.7584 - val_loss: 0.8641\n",
            "Epoch 49/100\n",
            "\u001b[1m1250/1250\u001b[0m \u001b[32m━━━━━━━━━━━━━━━━━━━━\u001b[0m\u001b[37m\u001b[0m \u001b[1m10s\u001b[0m 5ms/step - accuracy: 0.9236 - loss: 0.2241 - val_accuracy: 0.7439 - val_loss: 0.9685\n",
            "Epoch 50/100\n",
            "\u001b[1m1250/1250\u001b[0m \u001b[32m━━━━━━━━━━━━━━━━━━━━\u001b[0m\u001b[37m\u001b[0m \u001b[1m10s\u001b[0m 5ms/step - accuracy: 0.9212 - loss: 0.2302 - val_accuracy: 0.7861 - val_loss: 0.8134\n",
            "Epoch 51/100\n",
            "\u001b[1m1250/1250\u001b[0m \u001b[32m━━━━━━━━━━━━━━━━━━━━\u001b[0m\u001b[37m\u001b[0m \u001b[1m7s\u001b[0m 6ms/step - accuracy: 0.9246 - loss: 0.2187 - val_accuracy: 0.7917 - val_loss: 0.7421\n",
            "Epoch 52/100\n",
            "\u001b[1m1250/1250\u001b[0m \u001b[32m━━━━━━━━━━━━━━━━━━━━\u001b[0m\u001b[37m\u001b[0m \u001b[1m7s\u001b[0m 5ms/step - accuracy: 0.9260 - loss: 0.2137 - val_accuracy: 0.7899 - val_loss: 0.7868\n",
            "Epoch 53/100\n",
            "\u001b[1m1250/1250\u001b[0m \u001b[32m━━━━━━━━━━━━━━━━━━━━\u001b[0m\u001b[37m\u001b[0m \u001b[1m10s\u001b[0m 5ms/step - accuracy: 0.9280 - loss: 0.2109 - val_accuracy: 0.7786 - val_loss: 0.7890\n",
            "Epoch 54/100\n",
            "\u001b[1m1250/1250\u001b[0m \u001b[32m━━━━━━━━━━━━━━━━━━━━\u001b[0m\u001b[37m\u001b[0m \u001b[1m10s\u001b[0m 6ms/step - accuracy: 0.9303 - loss: 0.2012 - val_accuracy: 0.7661 - val_loss: 0.8814\n",
            "Epoch 55/100\n",
            "\u001b[1m1250/1250\u001b[0m \u001b[32m━━━━━━━━━━━━━━━━━━━━\u001b[0m\u001b[37m\u001b[0m \u001b[1m7s\u001b[0m 6ms/step - accuracy: 0.9319 - loss: 0.1992 - val_accuracy: 0.7774 - val_loss: 0.8277\n",
            "Epoch 56/100\n",
            "\u001b[1m1250/1250\u001b[0m \u001b[32m━━━━━━━━━━━━━━━━━━━━\u001b[0m\u001b[37m\u001b[0m \u001b[1m7s\u001b[0m 5ms/step - accuracy: 0.9309 - loss: 0.1955 - val_accuracy: 0.7798 - val_loss: 0.7485\n",
            "Epoch 57/100\n",
            "\u001b[1m1250/1250\u001b[0m \u001b[32m━━━━━━━━━━━━━━━━━━━━\u001b[0m\u001b[37m\u001b[0m \u001b[1m7s\u001b[0m 6ms/step - accuracy: 0.9307 - loss: 0.1980 - val_accuracy: 0.7780 - val_loss: 0.7838\n",
            "Epoch 58/100\n",
            "\u001b[1m1250/1250\u001b[0m \u001b[32m━━━━━━━━━━━━━━━━━━━━\u001b[0m\u001b[37m\u001b[0m \u001b[1m7s\u001b[0m 5ms/step - accuracy: 0.9352 - loss: 0.1894 - val_accuracy: 0.7706 - val_loss: 0.8100\n",
            "Epoch 59/100\n",
            "\u001b[1m1250/1250\u001b[0m \u001b[32m━━━━━━━━━━━━━━━━━━━━\u001b[0m\u001b[37m\u001b[0m \u001b[1m7s\u001b[0m 6ms/step - accuracy: 0.9351 - loss: 0.1838 - val_accuracy: 0.7832 - val_loss: 0.8192\n",
            "Epoch 60/100\n",
            "\u001b[1m1250/1250\u001b[0m \u001b[32m━━━━━━━━━━━━━━━━━━━━\u001b[0m\u001b[37m\u001b[0m \u001b[1m10s\u001b[0m 6ms/step - accuracy: 0.9352 - loss: 0.1877 - val_accuracy: 0.7944 - val_loss: 0.7506\n",
            "Epoch 61/100\n",
            "\u001b[1m1250/1250\u001b[0m \u001b[32m━━━━━━━━━━━━━━━━━━━━\u001b[0m\u001b[37m\u001b[0m \u001b[1m10s\u001b[0m 6ms/step - accuracy: 0.9382 - loss: 0.1793 - val_accuracy: 0.7523 - val_loss: 0.9850\n",
            "Epoch 62/100\n",
            "\u001b[1m1250/1250\u001b[0m \u001b[32m━━━━━━━━━━━━━━━━━━━━\u001b[0m\u001b[37m\u001b[0m \u001b[1m7s\u001b[0m 6ms/step - accuracy: 0.9357 - loss: 0.1827 - val_accuracy: 0.7843 - val_loss: 0.8247\n",
            "Epoch 63/100\n",
            "\u001b[1m1250/1250\u001b[0m \u001b[32m━━━━━━━━━━━━━━━━━━━━\u001b[0m\u001b[37m\u001b[0m \u001b[1m7s\u001b[0m 6ms/step - accuracy: 0.9385 - loss: 0.1803 - val_accuracy: 0.7760 - val_loss: 0.9123\n",
            "Epoch 64/100\n",
            "\u001b[1m1250/1250\u001b[0m \u001b[32m━━━━━━━━━━━━━━━━━━━━\u001b[0m\u001b[37m\u001b[0m \u001b[1m10s\u001b[0m 6ms/step - accuracy: 0.9399 - loss: 0.1790 - val_accuracy: 0.7895 - val_loss: 0.8042\n",
            "Epoch 65/100\n",
            "\u001b[1m1250/1250\u001b[0m \u001b[32m━━━━━━━━━━━━━━━━━━━━\u001b[0m\u001b[37m\u001b[0m \u001b[1m10s\u001b[0m 6ms/step - accuracy: 0.9392 - loss: 0.1796 - val_accuracy: 0.7876 - val_loss: 0.8050\n",
            "Epoch 66/100\n",
            "\u001b[1m1250/1250\u001b[0m \u001b[32m━━━━━━━━━━━━━━━━━━━━\u001b[0m\u001b[37m\u001b[0m \u001b[1m7s\u001b[0m 6ms/step - accuracy: 0.9400 - loss: 0.1735 - val_accuracy: 0.7862 - val_loss: 0.8254\n",
            "Epoch 67/100\n",
            "\u001b[1m1250/1250\u001b[0m \u001b[32m━━━━━━━━━━━━━━━━━━━━\u001b[0m\u001b[37m\u001b[0m \u001b[1m10s\u001b[0m 6ms/step - accuracy: 0.9432 - loss: 0.1664 - val_accuracy: 0.7873 - val_loss: 0.8018\n",
            "Epoch 68/100\n",
            "\u001b[1m1250/1250\u001b[0m \u001b[32m━━━━━━━━━━━━━━━━━━━━\u001b[0m\u001b[37m\u001b[0m \u001b[1m7s\u001b[0m 5ms/step - accuracy: 0.9414 - loss: 0.1713 - val_accuracy: 0.7765 - val_loss: 0.9095\n",
            "Epoch 69/100\n",
            "\u001b[1m1250/1250\u001b[0m \u001b[32m━━━━━━━━━━━━━━━━━━━━\u001b[0m\u001b[37m\u001b[0m \u001b[1m10s\u001b[0m 6ms/step - accuracy: 0.9437 - loss: 0.1673 - val_accuracy: 0.7821 - val_loss: 0.9042\n",
            "Epoch 70/100\n",
            "\u001b[1m1250/1250\u001b[0m \u001b[32m━━━━━━━━━━━━━━━━━━━━\u001b[0m\u001b[37m\u001b[0m \u001b[1m11s\u001b[0m 6ms/step - accuracy: 0.9429 - loss: 0.1628 - val_accuracy: 0.7576 - val_loss: 0.9542\n",
            "Final Validation Accuracy: 0.7944\n",
            "Best kernel size: (5, 5) with validation accuracy: 0.8030\n"
          ]
        }
      ]
    }
  ],
  "metadata": {
    "kernelspec": {
      "display_name": "Python 3",
      "name": "python3"
    },
    "language_info": {
      "codemirror_mode": {
        "name": "ipython",
        "version": 3
      },
      "file_extension": ".py",
      "mimetype": "text/x-python",
      "name": "python",
      "nbconvert_exporter": "python",
      "pygments_lexer": "ipython3",
      "version": "3.13.0"
    },
    "colab": {
      "provenance": [],
      "toc_visible": true,
      "gpuType": "T4"
    },
    "accelerator": "GPU"
  },
  "nbformat": 4,
  "nbformat_minor": 0
}